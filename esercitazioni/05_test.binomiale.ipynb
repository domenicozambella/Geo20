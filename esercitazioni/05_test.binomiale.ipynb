{
 "cells": [
  {
   "cell_type": "code",
   "execution_count": null,
   "metadata": {},
   "outputs": [],
   "source": [
    "# RUN THIS CELL: it loads some style files\n",
    "from IPython.core.display import HTML\n",
    "with open( './style/custom.css', 'r' ) as f: html_style = f.read()\n",
    "HTML( html_style )"
   ]
  },
  {
   "cell_type": "markdown",
   "metadata": {},
   "source": [
    "### Descrizione del problema\n",
    "\n",
    "Preleviamo da più siti materiale contenente minerale o ganga. Il processo escavativo mescolata le due componenti.\n",
    "\n",
    "Un sito è commercialmente vantaggioso se $\\ge30\\%$ dei pezzi sono minerale; non lo è se la proporzione di minerale è $\\le20\\%$.\n",
    "\n",
    "Vogliamo disegnare un test statistico per stabilire se un certo sito è vantaggoso o no. Valutazioni economiche riteniamo accettabile rischiare con una probabilità del $\\le8\\%$ di dichiarare vantaggioso un sito che non lo è. Analogamente, possiamo permettrci con probabilità del $\\le10\\%$ di ritenere non vattaggioso un sito che invece è vantaggioso."
   ]
  },
  {
   "cell_type": "markdown",
   "metadata": {},
   "source": [
    "### Domanda 1\n",
    "\n",
    "Con riferimento alla descrizione qui sopra. Si scriva qual è l'ipotesi nulla e quale l'ipotesi alternativa. (N.B. nella descrizione queste sono descritte come intevalli, si prenda il caso più sfavorevole.)  \n",
    "\n",
    "Quali sono gli errori del I tipo ($\\alpha$) e del II tipo ($\\beta$) descritti qui sopra?."
   ]
  },
  {
   "cell_type": "markdown",
   "metadata": {},
   "source": [
    "<mark>Attenzione</mark> A lezione ho dato suggerimenti errati (e contraddittori). Perché ho confuso le seguenti interpretazioni. Sono entrambe corrette. La seconda è preferibile (ma dipende dai punti di vista). L'importante è essere coerenti."
   ]
  },
  {
   "cell_type": "markdown",
   "metadata": {},
   "source": [
    "### Risposta 1\n",
    "\n",
    "H$_0$: $20\\%$ il sito non è vantaggioso\n",
    "\n",
    "H$_1$: $30\\%$  il sito è vantaggioso (spesso descritta come $>20\\%$ con $\\delta=10\\%$)\n",
    "\n",
    "$T$ è l'evento *test positivo*; rifiutiamo H$_0$; la proporzione di minarale è $>k/n$\n",
    "\n",
    "$\\alpha=\\Pr(T|H_0)=8\\%$\n",
    "\n",
    "$\\beta= \\Pr(\\neg T|H_1)=10\\%$"
   ]
  },
  {
   "cell_type": "markdown",
   "metadata": {},
   "source": [
    "### Risposta 1 (alternativa)\n",
    "\n",
    "H$_0$: $30\\%$ il sito è vantaggioso\n",
    "\n",
    "H$_1$: $20\\%$  il sito è non vantaggioso (spesso descritta come $<20\\%$ con $\\delta=10\\%$)\n",
    "\n",
    "$T$ è l'evento *test positivo*; rifiutiamo H$_0$; la proporzione di minerale è $<k/n$\n",
    "\n",
    "$\\alpha=\\Pr(T|H_0)=10\\%$\n",
    "\n",
    "$\\beta= \\Pr(\\neg T|H_1)=8\\%$"
   ]
  },
  {
   "cell_type": "markdown",
   "metadata": {},
   "source": [
    "### Domanda 2\n",
    "\n",
    "Il test consiste nel prelevare $n$ campioni e di dichiarare il sito vantaggioso se la concentrazione di minerale è almeno $k/n$ svantaggioso altrimenti.\n",
    "\n",
    "Si determini con un approssimazione di $50$, il minimo $n$ che permentte (per un $k$ opportuno) di disegnare un test con la precisine richiesta.\n",
    "\n",
    "N.B. A domande di questo tipo si risponde con un breve script (programma) ma in questo caso non è troppo irragionevole cercare la soluzione manualmente.  "
   ]
  },
  {
   "cell_type": "markdown",
   "metadata": {},
   "source": [
    "### Risposta 2\n",
    "\n",
    "Mi baso sulla prima delle due interpretazione presentate sopra. Provo con i valori $n=50,100,150,\\dots$ecc. per trovare se ̀e una regione di rifiuto che soddisfa alle condizioni richieste.\n",
    "\n",
    "Per $n=150$ non posso soddisfare enrambe li richieste. Posso soddisfarle per $n=200$ con un qualsiasi $k\\in[49,51]$."
   ]
  },
  {
   "cell_type": "code",
   "execution_count": null,
   "metadata": {},
   "outputs": [],
   "source": [
    "from scipy.stats import binom\n",
    "\n",
    "# mi calcolo α\n",
    "n=200\n",
    "for k in range(1,n):\n",
    "    print( 'k =', k,'  α =',  round( 100 * (1 - binom.cdf(k-1,n,0.2)), 1), \"%\" )"
   ]
  },
  {
   "cell_type": "code",
   "execution_count": null,
   "metadata": {},
   "outputs": [],
   "source": [
    "# mi calcolo β\n",
    "for k in range(1,n):\n",
    "    print('k =', k,'  β =', round( 100 * binom.cdf(k,n,0.3), 1 ), \"%\" )"
   ]
  },
  {
   "cell_type": "markdown",
   "metadata": {},
   "source": [
    "<mark>Attenzione</mark> Verificate che con l'interpretazione alternativa della domanda 1, la risposta alla domanda 2 non cambia."
   ]
  },
  {
   "cell_type": "code",
   "execution_count": null,
   "metadata": {},
   "outputs": [],
   "source": []
  }
 ],
 "metadata": {
  "kernelspec": {
   "display_name": "Python 3",
   "language": "python",
   "name": "python3"
  },
  "language_info": {
   "codemirror_mode": {
    "name": "ipython",
    "version": 3
   },
   "file_extension": ".py",
   "mimetype": "text/x-python",
   "name": "python",
   "nbconvert_exporter": "python",
   "pygments_lexer": "ipython3",
   "version": "3.6.8"
  }
 },
 "nbformat": 4,
 "nbformat_minor": 2
}
