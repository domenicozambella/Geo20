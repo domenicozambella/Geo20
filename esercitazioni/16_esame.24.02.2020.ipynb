{
 "cells": [
  {
   "cell_type": "code",
   "execution_count": 1,
   "metadata": {},
   "outputs": [
    {
     "data": {
      "text/html": [
       "<style>\n",
       "div.jp-MarkdownOutput {font-family: \"Times New Roman\", Times, serif;   \n",
       "    /* background-color: #eee;  */\n",
       "    /* border-left: 5px solid #00b5b4; */\n",
       "    font-size: 10pt;\n",
       "    line-height: 140%;\n",
       "}\n",
       ".text_cell_render {\n",
       "    font-family: \"Times New Roman\", Times, serif;    \n",
       "    /* background-color: #eee;  */\n",
       "    /* border-left: 5px solid #00b5b4; */\n",
       "    font-size: 14pt;\n",
       "    line-height: 140%;s\n",
       "}\n",
       "\n",
       "h1 {\n",
       "    font-size: xx-large  !important;\n",
       "    margin-top: 0ex !important;\n",
       "}\n",
       "\n",
       "h2 {\n",
       "    font-size: larger !important;\n",
       "    margin-top: 0ex !important;\n",
       "    margin-bottom: 0ex !important;\n",
       "    padding-bottom: 0ex !important;\n",
       "}\n",
       "\n",
       "h3 {\n",
       "    font-size: large !important;\n",
       "    margin-top: 0ex !important;\n",
       "    margin-bottom: 0ex !important;\n",
       "    padding-bottom: 0ex !important;\n",
       "}\n",
       "\n",
       "mark {\n",
       "    background-color: #ffdd00;\n",
       "    border-top-right-radius: 5px;\n",
       "    border-top-left-radius: 5px;\n",
       "    border-bottom-right-radius: 5px;\n",
       "    border-bottom-left-radius: 5px;\n",
       "    padding-top: 0.1ex;\n",
       "    padding-bottom: 0.2ex;\n",
       "    padding-left: 0.7ex;\n",
       "    padding-right: 0.7ex;\n",
       "}\n",
       "\n",
       ".ita {\n",
       "    background-color: #bbddee;\n",
       "}\n",
       "\n",
       ".errore {background-color:#d88;\n",
       "        width:310px;\n",
       "        height:17ex;\n",
       "        display:inline-block;\n",
       "        margin:5px;\n",
       "        padding:8px;\n",
       "}\n",
       "\n",
       ".corretto {background-color:#2d8;\n",
       "        width:310px;\n",
       "        height:17ex;\n",
       "        display:inline-block;\n",
       "        margin:5px;\n",
       "        padding:8px;\n",
       "}\n",
       "\n",
       "n-a {background-color: #ffdddd;}\n",
       "\n",
       "ul, ol {\n",
       "     padding-left: 2ex !important;\n",
       "}\n",
       "ul {\n",
       "     margin-top: 0ex !important;\n",
       "     margin-bottom: 0ex !important;\n",
       "     list-style-type: square !important;\n",
       "}\n",
       "\n",
       "div.warn {    \n",
       "    background-color: #fcf2f2;\n",
       "    border-color: #dFb5b4;\n",
       "    border-left: 5px solid #dfb5b4;\n",
       "    margin-top: 1ex;\n",
       "    padding: 1ex;\n",
       "}\n",
       ".right{\n",
       "    float:right\n",
       "}\n",
       "\n",
       "hr { \n",
       "    display: block;\n",
       "    margin-top: 0.5ex;\n",
       "    margin-bottom: 0.5ex;\n",
       "    margin-left: auto;\n",
       "    margin-right: auto;\n",
       "    border-style: inset;\n",
       "    border-width: 1px;\n",
       "}\n",
       "</style>\n"
      ],
      "text/plain": [
       "<IPython.core.display.HTML object>"
      ]
     },
     "execution_count": 1,
     "metadata": {},
     "output_type": "execute_result"
    }
   ],
   "source": [
    "from numpy import array, sqrt, mean\n",
    "\n",
    "from scipy.stats import binom, nbinom, sem\n",
    "from scipy.stats import norm as normal # ATTENZIONE nome modificato\n",
    "from scipy.stats import t as tstudent  # ATTENZIONE nome modificato\n",
    "\n",
    "from statsmodels.stats.proportion import proportion_confint\n",
    "\n",
    "from scipy.linalg import null_space, det, norm, inv\n",
    "\n",
    "# this loads some HTML style files\n",
    "from IPython.core.display import HTML, SVG, display\n",
    "with open( './style/custom.css', 'r' ) as f: html_style = f.read()\n",
    "HTML( html_style )"
   ]
  },
  {
   "cell_type": "markdown",
   "metadata": {},
   "source": [
    "----------------\n",
    "----------------\n",
    "\n",
    "### Domanda 1\n",
    "\n",
    "Definiamo \n",
    "\n",
    "$$v=[1,3,5,5,1]$$\n",
    "\n",
    "$$\n",
    "A\n",
    "\\quad=\\quad\n",
    "\\begin{bmatrix}\n",
    "  3& 6& 3& 3& 3\\\\\n",
    "  2& 9& 7& 3& 1\\\\\n",
    "  9& 8& 5& 0& 3\\\\\n",
    "  1& 8& 7& 0& 3\\\\\n",
    "  9& 3& 3& 0& 3\\\\\n",
    "\\end{bmatrix}\n",
    "$$\n",
    "\n",
    ">  A.  Si calcoli $A^{-1}$.\n",
    "\n",
    "Per comodità ho trascritto qui sotto la matrice $A$ nella forma lista di liste.\n",
    "\n",
    "    [ [3, 6, 3, 3, 3], \n",
    "      [2, 9, 7, 3, 1], \n",
    "      [9, 8, 5, 0, 3], \n",
    "      [1, 8, 7, 0, 3], \n",
    "      [9, 8, 3, 0, 3] ]"
   ]
  },
  {
   "cell_type": "markdown",
   "metadata": {},
   "source": [
    "> B.    Si calcoli $\\|v\\|$."
   ]
  },
  {
   "cell_type": "markdown",
   "metadata": {},
   "source": [
    "> C.    Si calcoli $v - A\\cdot v^T$."
   ]
  },
  {
   "cell_type": "markdown",
   "metadata": {},
   "source": [
    "-----------------\n",
    "-----------------\n",
    "\n",
    "### Domanda 2\n",
    "\n",
    "Un'urna contiene delle biglie il cui peso ha distribuzione $N(\\mu,\\sigma)$ con $\\mu$ ignota e $\\sigma=2.8$.\n",
    "Estraiamo 10 biglie (con reimbussolamento) e \n",
    "misuriamo i seguenti pesi $27, 20, 22, 25, 30, 24, 25, 28, 26, 23$.\n",
    "\n",
    ">  A.   Si calcoli con una confidenza del $90\\%$ un intervallo per il peso medio delle biglie."
   ]
  },
  {
   "cell_type": "markdown",
   "metadata": {},
   "source": [
    ">   B.   Con che p-valore possiamo rigettare l'ipotesi che il peso medio sia 23? \n",
    "\n",
    "(Come alternativa si prenda l'ipotesi che il peso sia $\\neq23.2$.)"
   ]
  },
  {
   "cell_type": "markdown",
   "metadata": {},
   "source": [
    "-----------------\n",
    "-----------------\n",
    "### Domanda 3\n",
    "\n",
    "Una fabbrica produce confezioni di biglie rosse e blu. Una confezione corretta contiene $5\\cdot 10^4$ biglie con circa il $40\\%$ di biglie rosse. \n",
    "\n",
    "Vogliamo essere ragionevolmente sicuri che la percentuale non superi mai il $50\\%$.\n",
    "Quindi eseguiamo il seguente test. \n",
    "Preleviamo $80$ biglie a caso da ogni confezione e se $\\ge40$ biglie sono rosse la confezione viene dichiarata difettosa. Altrimenti viena dichiarata soddisfacente. Si trattino tutte le estrazioni come estrazioni con *reimbussolamento*.\n",
    "\n",
    "> A.  Si calcoli la probabilità che una confezione col $45\\%$ di biglie rosse venga dichiarata difettosa."
   ]
  },
  {
   "cell_type": "markdown",
   "metadata": {},
   "source": [
    "> B.  Si calcoli la probabilità che una confezione col $55\\%$ di biglie rosse venga dichiarata soddisfacente."
   ]
  },
  {
   "cell_type": "markdown",
   "metadata": {},
   "source": [
    "-----------------\n",
    "-----------------\n",
    "### Domanda 4\n",
    "\n",
    "\n",
    "Con riferimento alla fabbrica della domanda 3, sappiamo che il $80\\%$ delle confezioni prodotte ha il $40\\%$ di biglie rosse mentre il $20\\%$ delle confezioni ha il $60\\%$ di biglie rossse.\n",
    "\n",
    "Supponiamo che il test di cui sopra sia positivo. Qual è la probailità che la confezione sia veramente difettosa?"
   ]
  }
 ],
 "metadata": {
  "kernelspec": {
   "display_name": "Python 3",
   "language": "python",
   "name": "python3"
  },
  "language_info": {
   "codemirror_mode": {
    "name": "ipython",
    "version": 3
   },
   "file_extension": ".py",
   "mimetype": "text/x-python",
   "name": "python",
   "nbconvert_exporter": "python",
   "pygments_lexer": "ipython3",
   "version": "3.6.9"
  }
 },
 "nbformat": 4,
 "nbformat_minor": 2
}
