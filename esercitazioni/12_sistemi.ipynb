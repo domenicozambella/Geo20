{
 "cells": [
  {
   "cell_type": "code",
   "execution_count": 2,
   "metadata": {},
   "outputs": [
    {
     "data": {
      "text/html": [
       "<style>\n",
       "div.jp-MarkdownOutput {font-family: \"Times New Roman\", Times, serif;   \n",
       "    /* background-color: #eee;  */\n",
       "    /* border-left: 5px solid #00b5b4; */\n",
       "    font-size: 10pt;\n",
       "    line-height: 140%;\n",
       "}\n",
       ".text_cell_render {\n",
       "    font-family: \"Times New Roman\", Times, serif;    \n",
       "    /* background-color: #eee;  */\n",
       "    /* border-left: 5px solid #00b5b4; */\n",
       "    font-size: 14pt;\n",
       "    line-height: 140%;s\n",
       "}\n",
       "\n",
       "h1 {\n",
       "    font-size: xx-large  !important;\n",
       "    margin-top: 0ex !important;\n",
       "}\n",
       "\n",
       "h2 {\n",
       "    font-size: larger !important;\n",
       "    margin-top: 0ex !important;\n",
       "    margin-bottom: 0ex !important;\n",
       "    padding-bottom: 0ex !important;\n",
       "}\n",
       "\n",
       "h3 {\n",
       "    font-size: large !important;\n",
       "    margin-top: 0ex !important;\n",
       "    margin-bottom: 0ex !important;\n",
       "    padding-bottom: 0ex !important;\n",
       "}\n",
       "\n",
       "mark {\n",
       "    background-color: #ffdd00;\n",
       "    border-top-right-radius: 5px;\n",
       "    border-top-left-radius: 5px;\n",
       "    border-bottom-right-radius: 5px;\n",
       "    border-bottom-left-radius: 5px;\n",
       "    padding-top: 0.1ex;\n",
       "    padding-bottom: 0.2ex;\n",
       "    padding-left: 0.7ex;\n",
       "    padding-right: 0.7ex;\n",
       "}\n",
       "\n",
       ".ita {\n",
       "    background-color: #bbddee;\n",
       "}\n",
       "\n",
       ".errore {background-color:#d88;\n",
       "        width:310px;\n",
       "        height:17ex;\n",
       "        display:inline-block;\n",
       "        margin:5px;\n",
       "        padding:8px;\n",
       "}\n",
       "\n",
       ".corretto {background-color:#2d8;\n",
       "        width:310px;\n",
       "        height:17ex;\n",
       "        display:inline-block;\n",
       "        margin:5px;\n",
       "        padding:8px;\n",
       "}\n",
       "\n",
       "n-a {background-color: #ffdddd;}\n",
       "\n",
       "ul, ol {\n",
       "     padding-left: 2ex !important;\n",
       "}\n",
       "ul {\n",
       "     margin-top: 0ex !important;\n",
       "     margin-bottom: 0ex !important;\n",
       "     list-style-type: square !important;\n",
       "}\n",
       "\n",
       "div.warn {    \n",
       "    background-color: #fcf2f2;\n",
       "    border-color: #dFb5b4;\n",
       "    border-left: 5px solid #dfb5b4;\n",
       "    margin-top: 1ex;\n",
       "    padding: 1ex;\n",
       "}\n",
       ".right{\n",
       "    float:right\n",
       "}\n",
       "\n",
       "hr { \n",
       "    display: block;\n",
       "    margin-top: 0.5ex;\n",
       "    margin-bottom: 0.5ex;\n",
       "    margin-left: auto;\n",
       "    margin-right: auto;\n",
       "    border-style: inset;\n",
       "    border-width: 1px;\n",
       "}\n",
       "</style>\n"
      ],
      "text/plain": [
       "<IPython.core.display.HTML object>"
      ]
     },
     "execution_count": 2,
     "metadata": {},
     "output_type": "execute_result"
    }
   ],
   "source": [
    "from numpy import array\n",
    "from scipy.linalg import null_space, det, norm, inv\n",
    "\n",
    "# this loads some HTML style files\n",
    "from IPython.core.display import HTML\n",
    "with open( './style/custom.css', 'r' ) as f: html_style = f.read()\n",
    "HTML( html_style )"
   ]
  },
  {
   "cell_type": "markdown",
   "metadata": {},
   "source": [
    "### Domanda 1\n",
    "\n",
    "Risolvere il seguente sistema\n",
    "\n",
    "$$\n",
    "\\left\\{\n",
    "\\begin{matrix}\n",
    "  3x+ 6y+ 3z+ 3w & =& 1\\\\\n",
    "  2x+ 9y+ 7z+ 3w & =& 2\\\\\n",
    "  9x+ 8y+ 5z & =& 3\\\\\n",
    "  9x+ 8y+ 7z & =& 3\\\\\n",
    "\\end{matrix}\n",
    "\\right.\n",
    "$$"
   ]
  },
  {
   "cell_type": "markdown",
   "metadata": {},
   "source": [
    "### Risposta 1\n",
    "\n",
    "L'equazione matriciale associata è\n",
    "\n",
    "$$\n",
    "\\begin{bmatrix}\n",
    "  3& 6& 3& 3\\\\\n",
    "  2& 9& 7& 3\\\\\n",
    "  9& 8& 5& 0\\\\\n",
    "  9& 8& 7& 0\\\\\n",
    "\\end{bmatrix}\n",
    "\\cdot\n",
    "\\begin{bmatrix}\n",
    "  x\\\\ y\\\\ z\\\\ w\\\\\n",
    "\\end{bmatrix}\n",
    "\\quad=\\quad\n",
    "\\begin{bmatrix}\n",
    "  1\\\\ 2\\\\ 3\\\\ 3\\\\\n",
    "\\end{bmatrix}\n",
    "$$\n",
    "\n",
    "Se la matrice non è singolare, la soluzione è\n",
    "\n",
    "$$\n",
    "\\begin{bmatrix}\n",
    "  x\\\\ y\\\\ z\\\\ w\\\\\n",
    "\\end{bmatrix}\n",
    "\\quad=\\quad\n",
    "\\begin{bmatrix}\n",
    "  3& 6& 3& 3\\\\\n",
    "  2& 9& 7& 3\\\\\n",
    "  9& 8& 5& 0\\\\\n",
    "  9& 8& 7& 0\\\\\n",
    "\\end{bmatrix}^{-1}\n",
    "\\cdot\n",
    "\\begin{bmatrix}\n",
    "  1\\\\ 2\\\\ 3\\\\ 3\\\\\n",
    "\\end{bmatrix}\n",
    "$$\n"
   ]
  },
  {
   "cell_type": "code",
   "execution_count": 4,
   "metadata": {},
   "outputs": [
    {
     "data": {
      "text/plain": [
       "array([[ 0.02857143],\n",
       "       [ 0.34285714],\n",
       "       [ 0.        ],\n",
       "       [-0.38095238]])"
      ]
     },
     "execution_count": 4,
     "metadata": {},
     "output_type": "execute_result"
    }
   ],
   "source": [
    "A = array ( [ [3,6,3,3], [2,9,7,3], [9,8,5,0], [9,8,7,0] ] )\n",
    "b = array ( [ [1,2,3,3] ] ).T\n",
    "inv(A) @ b"
   ]
  },
  {
   "cell_type": "markdown",
   "metadata": {},
   "source": [
    "### Domanda 2\n",
    "\n",
    "Trovare tutte le soluzioni del sistema\n",
    "\n",
    "$$\n",
    "\\left\\{\n",
    "\\begin{matrix}\n",
    "  3x+ 6y+ 3z+ 3w & =& 0\\\\\n",
    "  2x+ 9y+ 7z+ 3w & =& 0\\\\\n",
    "  9x+ 8y+ 5z & =& 0\\\\\n",
    "  x- 3y - 4z & =& 0\\\\\n",
    "\\end{matrix}\n",
    "\\right.\n",
    "$$"
   ]
  },
  {
   "cell_type": "markdown",
   "metadata": {},
   "source": [
    "### Risposta 2\n",
    "\n",
    "L'equazione matriciale associata è\n",
    "\n",
    "$$\n",
    "\\begin{bmatrix}\n",
    "  3& 6& 3& 3\\\\\n",
    "  2& 9& 7& 3\\\\\n",
    "  9& 8& 5& 0\\\\\n",
    "  1& -3& -4& 0\\\\\n",
    "\\end{bmatrix}\n",
    "\\cdot\n",
    "\\begin{bmatrix}\n",
    "  x\\\\ y\\\\ z\\\\ w\\\\\n",
    "\\end{bmatrix}\n",
    "\\quad=\\quad\n",
    "\\begin{bmatrix}\n",
    "  0\\\\ 0\\\\ 0\\\\ 0\\\\\n",
    "\\end{bmatrix}\n",
    "$$\n"
   ]
  },
  {
   "cell_type": "code",
   "execution_count": 9,
   "metadata": {},
   "outputs": [
    {
     "data": {
      "text/plain": [
       "array([[-0.26565743],\n",
       "       [ 0.64070322],\n",
       "       [-0.54694177],\n",
       "       [-0.46880723]])"
      ]
     },
     "execution_count": 9,
     "metadata": {},
     "output_type": "execute_result"
    }
   ],
   "source": [
    "A = array ( [ [3,6,3,3], [2,9,7,3], [9,8,5,0], [1,-3,-4,0] ]  )\n",
    "null_space(A)"
   ]
  },
  {
   "cell_type": "markdown",
   "metadata": {},
   "source": [
    "Le soluzioni sono tutti i vettori $c\\cdot[-0.27 ,0.64, -0.55, -0.47]$ per un arbitrario scalare $c$."
   ]
  },
  {
   "cell_type": "markdown",
   "metadata": {},
   "source": [
    "### Domanda 3\n",
    "\n",
    "Trovare tutte le soluzioni del sistema\n",
    "\n",
    "$$\n",
    "\\left\\{\n",
    "\\begin{matrix}\n",
    "  3x+ 6y+ 3z+ 3w & =& 0\\\\\n",
    "  2x+ 9y+ 7z+ 3w & =& 0\\\\\n",
    "  5x+ 15y+ 10z+ 6w & =& 0\\\\\n",
    "  x- 3y - 4z & =& 0\\\\\n",
    "\\end{matrix}\n",
    "\\right.\n",
    "$$"
   ]
  },
  {
   "cell_type": "markdown",
   "metadata": {},
   "source": [
    "### Risposta 3\n",
    "\n",
    "L'equazione matriciale associata è\n",
    "\n",
    "$$\n",
    "\\begin{bmatrix}\n",
    "  3& 6& 3& 3\\\\\n",
    "  2& 9& 7& 3\\\\\n",
    "  5& 15& 10& 6\\\\\n",
    "  1& -3& -4& 0\\\\\n",
    "\\end{bmatrix}\n",
    "\\cdot\n",
    "\\begin{bmatrix}\n",
    "  x\\\\ y\\\\ z\\\\ w\\\\\n",
    "\\end{bmatrix}\n",
    "\\quad=\\quad\n",
    "\\begin{bmatrix}\n",
    "  0\\\\ 0\\\\ 0\\\\ 0\\\\\n",
    "\\end{bmatrix}\n",
    "$$\n"
   ]
  },
  {
   "cell_type": "code",
   "execution_count": 5,
   "metadata": {},
   "outputs": [
    {
     "data": {
      "text/plain": [
       "array([[-0.57874361,  0.40013165],\n",
       "       [-0.06705467, -0.64136203],\n",
       "       [-0.0943949 ,  0.58105444],\n",
       "       [ 0.80724786,  0.30153798]])"
      ]
     },
     "execution_count": 5,
     "metadata": {},
     "output_type": "execute_result"
    }
   ],
   "source": [
    "A = array ( [ [3,6,3,3], [2,9,7,3], [5,15,10,6], [1,-3,-4,0] ]  )\n",
    "null_space(A)"
   ]
  },
  {
   "cell_type": "markdown",
   "metadata": {},
   "source": [
    "Le soluzioni sono tutti i vettori \n",
    "\n",
    "$c\\cdot[-0.58 ,-0.07, -0.09, 0.81]\\ +\\ d\\cdot[0.4 ,-0.64, 0.58, 0.3]$ \n",
    "\n",
    "per un arbitraria coppia di scalari $c,d$."
   ]
  }
 ],
 "metadata": {
  "kernelspec": {
   "display_name": "Python 3",
   "language": "python",
   "name": "python3"
  },
  "language_info": {
   "codemirror_mode": {
    "name": "ipython",
    "version": 3
   },
   "file_extension": ".py",
   "mimetype": "text/x-python",
   "name": "python",
   "nbconvert_exporter": "python",
   "pygments_lexer": "ipython3",
   "version": "3.6.9"
  }
 },
 "nbformat": 4,
 "nbformat_minor": 2
}
