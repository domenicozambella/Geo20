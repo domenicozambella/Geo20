{
 "cells": [
  {
   "cell_type": "code",
   "execution_count": 2,
   "metadata": {},
   "outputs": [],
   "source": [
    "from numpy import array, sqrt, mean\n",
    "\n",
    "from scipy.stats import binom, nbinom, sem\n",
    "from scipy.stats import norm as normal # ATTENZIONE nome modificato\n",
    "from scipy.stats import t as tstudent  # ATTENZIONE nome modificato\n",
    "\n",
    "from statsmodels.stats.proportion import proportion_confint\n",
    "\n",
    "from scipy.linalg import null_space, det, norm, inv"
   ]
  },
  {
   "cell_type": "markdown",
   "metadata": {},
   "source": [
    "----------------\n",
    "----------------\n",
    "\n",
    "### Domanda 1\n",
    "\n",
    ">A.  Scrivere l'equazione matriciale associata al sistema\n",
    "\n",
    "$$\n",
    "\\left\\{\n",
    "\\begin{matrix}\n",
    "     6y+ 3z+ 3w & =& 0\\\\\n",
    "  2x+ 9y+ 7z+ 3w & =& 2\\\\\n",
    "  9x+ 8y+ 5z & =& 3\\\\\n",
    "   x+ 8y+ 7z & =& 1\\\\\n",
    "\\end{matrix}\n",
    "\\right.\n",
    "$$"
   ]
  },
  {
   "cell_type": "markdown",
   "metadata": {},
   "source": [
    "### Risposta 1A\n",
    "\n",
    "$$\n",
    "A\n",
    "\\quad=\\quad\n",
    "\\begin{bmatrix}\n",
    "  0& 6& 3& 3\\\\\n",
    "  2& 9& 7& 3\\\\\n",
    "  9& 8& 5& 0\\\\\n",
    "  1& 8& 7& 0\\\\\n",
    "\\end{bmatrix}\n",
    "$$\n",
    "\n",
    "\n",
    "$$A\\cdot [x,y,z,w]^T=[0,2,3,1]^T$$"
   ]
  },
  {
   "cell_type": "code",
   "execution_count": 3,
   "metadata": {},
   "outputs": [
    {
     "data": {
      "text/plain": [
       "array([ 0.42105263, -0.52631579,  0.68421053,  0.36842105])"
      ]
     },
     "execution_count": 3,
     "metadata": {},
     "output_type": "execute_result"
    }
   ],
   "source": [
    "A = array([ [0, 6, 3, 3], \n",
    "            [2, 9, 7, 3], \n",
    "            [9, 8, 5, 0], \n",
    "            [1, 8, 7, 0] ])\n",
    "\n",
    "inv(A)@[0,2,3,1]"
   ]
  },
  {
   "cell_type": "markdown",
   "metadata": {},
   "source": [
    "> B.    Si calcoli la soluzione del sistema"
   ]
  },
  {
   "cell_type": "markdown",
   "metadata": {},
   "source": [
    "-----------------\n",
    "-----------------\n",
    "\n",
    "### Domanda 2\n",
    "\n",
    "La variabile aleatoria $X$ ha distribuzione normale con deviazione standard $\\sigma=5$ e media $\\mu$ ignota. Da un campione di rango $22$ otteniamo la media $8$.\n",
    "\n",
    "> A. Si stimi un intervallo di confienza al $99\\%$ per $\\mu$."
   ]
  },
  {
   "cell_type": "code",
   "execution_count": 17,
   "metadata": {},
   "outputs": [
    {
     "data": {
      "text/plain": [
       "2.745843263631994"
      ]
     },
     "execution_count": 17,
     "metadata": {},
     "output_type": "execute_result"
    }
   ],
   "source": [
    "sigma = 5.0\n",
    "z_005 = - normal.ppf(0.005)\n",
    "epsilon = (z_005 * sigma) / sqrt(22)\n",
    "epsilon"
   ]
  },
  {
   "cell_type": "markdown",
   "metadata": {},
   "source": [
    ">   B.   Con che p-valore possiamo rigettare l'ipotesi che $\\mu=11$? \n",
    "\n",
    "(Come alternativa si prenda l'ipotesi che $\\mu\\neq11$.)"
   ]
  },
  {
   "cell_type": "code",
   "execution_count": null,
   "metadata": {},
   "outputs": [],
   "source": [
    "p-value = "
   ]
  },
  {
   "cell_type": "markdown",
   "metadata": {},
   "source": [
    "-----------------\n",
    "-----------------\n",
    "### Domanda 3\n",
    "\n",
    "Un urna contiene biglie il cui peso ha distribuzione $N(\\mu,\\sigma)$ con $\\mu$ ignota e $\\sigma=7.2$. Vogliamo testare l'ipotesi: il peso medio delle biglie è 25g contro l'ipotesi che il peso medio sia $>25$g. Usando un capione di dimensione $16$ misuriamo $24$g.\n",
    "\n",
    "Vogliamo rilevare un effect size di $2$g. \n",
    "\n",
    "> A.  Non scartando l'ipotesi nulla, quant'è l'errore del secondo tipo?\n",
    "\n",
    "Si trattino tutte le estrazioni come estrazioni con *reimbussolamento*."
   ]
  },
  {
   "cell_type": "markdown",
   "metadata": {},
   "source": [
    "### Risposta 3A\n",
    "\n",
    "$\\mu_a = 27$g media nel caso in cui valga l'ipotesi alternativa.\n",
    "\n",
    "$$\\beta\\ \\ =\\ \\Pr( Z > \\frac{24-\\mu_a}{\\sigma/\\sqrt{n}} )$$\n",
    "\n",
    "$$\\quad =\\ \\Pr( Z > 5/3 )$$\n"
   ]
  },
  {
   "cell_type": "code",
   "execution_count": 22,
   "metadata": {},
   "outputs": [
    {
     "data": {
      "text/plain": [
       "0.047790352272814696"
      ]
     },
     "execution_count": 22,
     "metadata": {},
     "output_type": "execute_result"
    }
   ],
   "source": [
    "1 - normal.cdf(5/3)"
   ]
  },
  {
   "cell_type": "markdown",
   "metadata": {},
   "source": [
    "-----------------\n",
    "-----------------\n",
    "### Domanda 4\n",
    "\n"
   ]
  }
 ],
 "metadata": {
  "kernelspec": {
   "display_name": "Python 3",
   "language": "python",
   "name": "python3"
  },
  "language_info": {
   "codemirror_mode": {
    "name": "ipython",
    "version": 3
   },
   "file_extension": ".py",
   "mimetype": "text/x-python",
   "name": "python",
   "nbconvert_exporter": "python",
   "pygments_lexer": "ipython3",
   "version": "3.6.9"
  }
 },
 "nbformat": 4,
 "nbformat_minor": 2
}
