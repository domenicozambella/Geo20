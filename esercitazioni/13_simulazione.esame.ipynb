{
 "cells": [
  {
   "cell_type": "code",
   "execution_count": 23,
   "metadata": {},
   "outputs": [
    {
     "data": {
      "text/html": [
       "<style>\n",
       "div.jp-MarkdownOutput {font-family: \"Times New Roman\", Times, serif;   \n",
       "    /* background-color: #eee;  */\n",
       "    /* border-left: 5px solid #00b5b4; */\n",
       "    font-size: 10pt;\n",
       "    line-height: 140%;\n",
       "}\n",
       ".text_cell_render {\n",
       "    font-family: \"Times New Roman\", Times, serif;    \n",
       "    /* background-color: #eee;  */\n",
       "    /* border-left: 5px solid #00b5b4; */\n",
       "    font-size: 14pt;\n",
       "    line-height: 140%;s\n",
       "}\n",
       "\n",
       "h1 {\n",
       "    font-size: xx-large  !important;\n",
       "    margin-top: 0ex !important;\n",
       "}\n",
       "\n",
       "h2 {\n",
       "    font-size: larger !important;\n",
       "    margin-top: 0ex !important;\n",
       "    margin-bottom: 0ex !important;\n",
       "    padding-bottom: 0ex !important;\n",
       "}\n",
       "\n",
       "h3 {\n",
       "    font-size: large !important;\n",
       "    margin-top: 0ex !important;\n",
       "    margin-bottom: 0ex !important;\n",
       "    padding-bottom: 0ex !important;\n",
       "}\n",
       "\n",
       "mark {\n",
       "    background-color: #ffdd00;\n",
       "    border-top-right-radius: 5px;\n",
       "    border-top-left-radius: 5px;\n",
       "    border-bottom-right-radius: 5px;\n",
       "    border-bottom-left-radius: 5px;\n",
       "    padding-top: 0.1ex;\n",
       "    padding-bottom: 0.2ex;\n",
       "    padding-left: 0.7ex;\n",
       "    padding-right: 0.7ex;\n",
       "}\n",
       "\n",
       ".ita {\n",
       "    background-color: #bbddee;\n",
       "}\n",
       "\n",
       ".errore {background-color:#d88;\n",
       "        width:310px;\n",
       "        height:17ex;\n",
       "        display:inline-block;\n",
       "        margin:5px;\n",
       "        padding:8px;\n",
       "}\n",
       "\n",
       ".corretto {background-color:#2d8;\n",
       "        width:310px;\n",
       "        height:17ex;\n",
       "        display:inline-block;\n",
       "        margin:5px;\n",
       "        padding:8px;\n",
       "}\n",
       "\n",
       "n-a {background-color: #ffdddd;}\n",
       "\n",
       "ul, ol {\n",
       "     padding-left: 2ex !important;\n",
       "}\n",
       "ul {\n",
       "     margin-top: 0ex !important;\n",
       "     margin-bottom: 0ex !important;\n",
       "     list-style-type: square !important;\n",
       "}\n",
       "\n",
       "div.warn {    \n",
       "    background-color: #fcf2f2;\n",
       "    border-color: #dFb5b4;\n",
       "    border-left: 5px solid #dfb5b4;\n",
       "    margin-top: 1ex;\n",
       "    padding: 1ex;\n",
       "}\n",
       ".right{\n",
       "    float:right\n",
       "}\n",
       "\n",
       "hr { \n",
       "    display: block;\n",
       "    margin-top: 0.5ex;\n",
       "    margin-bottom: 0.5ex;\n",
       "    margin-left: auto;\n",
       "    margin-right: auto;\n",
       "    border-style: inset;\n",
       "    border-width: 1px;\n",
       "}\n",
       "</style>\n"
      ],
      "text/plain": [
       "<IPython.core.display.HTML object>"
      ]
     },
     "execution_count": 23,
     "metadata": {},
     "output_type": "execute_result"
    }
   ],
   "source": [
    "from numpy import array, sqrt\n",
    "\n",
    "from scipy.stats import binom, nbinom\n",
    "from scipy.stats import norm as normal # ATTENZIONE non standard\n",
    "from scipy.stats import t as tstudent  # ATTENZIONE non standard\n",
    "\n",
    "from statsmodels.stats.proportion import proportion_confint\n",
    "\n",
    "from scipy.linalg import null_space, det, norm, inv\n",
    "\n",
    "# this loads some HTML style files\n",
    "from IPython.core.display import HTML\n",
    "with open( './style/custom.css', 'r' ) as f: html_style = f.read()\n",
    "HTML( html_style )"
   ]
  },
  {
   "cell_type": "markdown",
   "metadata": {},
   "source": [
    "----------------\n",
    "----------------\n",
    "\n",
    "### Domanda 1\n",
    "\n",
    "Sia $v=[-2,3,-1,-1]$.\n",
    "\n",
    ">  A. Si calcoli $\\|v\\|$."
   ]
  },
  {
   "cell_type": "markdown",
   "metadata": {},
   "source": [
    "### Risposta 1A\n",
    "\n",
    "$\\|v\\|=\\sqrt{v^{\\rm T}\\cdot v}=\\sqrt{(-2)^2+3^2+(-1)^2+(-1)^2}=\\sqrt{15}=3.87$"
   ]
  },
  {
   "cell_type": "code",
   "execution_count": 24,
   "metadata": {},
   "outputs": [
    {
     "data": {
      "text/plain": [
       "(3.872983346207417, 3.872983346207417)"
      ]
     },
     "execution_count": 24,
     "metadata": {},
     "output_type": "execute_result"
    }
   ],
   "source": [
    "v = array( [-2,3,-1,-1] )\n",
    "sqrt( v.T@v ), norm ( v ) # due modi equivalenti"
   ]
  },
  {
   "cell_type": "markdown",
   "metadata": {},
   "source": [
    "> B.  Si calcoli $\\dfrac{1}{\\|v\\|}\\cdot v$."
   ]
  },
  {
   "cell_type": "markdown",
   "metadata": {},
   "source": [
    "### Risposta 1B\n",
    "\n",
    "$\\dfrac{1}{\\|v\\|}\\cdot v = [-0.52,  0.77, -0.26, -0.26]$"
   ]
  },
  {
   "cell_type": "code",
   "execution_count": 25,
   "metadata": {},
   "outputs": [
    {
     "data": {
      "text/plain": [
       "array([-0.51639778,  0.77459667, -0.25819889, -0.25819889])"
      ]
     },
     "execution_count": 25,
     "metadata": {},
     "output_type": "execute_result"
    }
   ],
   "source": [
    "v / norm (v)"
   ]
  },
  {
   "cell_type": "markdown",
   "metadata": {},
   "source": [
    ">  C. Esistono soluzioni del seguente sistema che non sono mutiple del vettore $v$ ?\n",
    "\n",
    "$$\n",
    "\\left\\{\n",
    "\\begin{array}{rcc}\n",
    "  -2x+ z+ 3w& = &0\\\\\n",
    "  2x+ 3y+ 2z+ 3w & = &0\\\\ \n",
    "  x+ 2y+ 4z & = &0\\\\\n",
    "  y+ 3z  & = &0\\\\\n",
    "\\end{array}\n",
    "\\right.\n",
    "$$\n",
    "\n",
    "Per comodità trascrivo la matrice $A$ associata al sistema nella forma di lista di liste.\n",
    "\n",
    "    [ [-2, 0, 1, 3], \n",
    "      [2, 3, 2, 3], \n",
    "      [1, 2, 4, 0], \n",
    "      [0, 1, 3, 0]  ]"
   ]
  },
  {
   "cell_type": "markdown",
   "metadata": {},
   "source": [
    "### Risposta 1C\n",
    "\n",
    "Il vettore $v$ è soluzione del sistema, infatti $A\\cdot v^{\\rm T}=0$:"
   ]
  },
  {
   "cell_type": "code",
   "execution_count": 26,
   "metadata": {},
   "outputs": [
    {
     "data": {
      "text/plain": [
       "array([0, 0, 0, 0])"
      ]
     },
     "execution_count": 26,
     "metadata": {},
     "output_type": "execute_result"
    }
   ],
   "source": [
    "A = array( [ [-2, 0, 1, 3], \n",
    "             [ 2, 3, 2, 3], \n",
    "             [ 1, 2, 4, 0], \n",
    "             [ 0, 1, 3, 0]  ] )\n",
    "A @ v.T"
   ]
  },
  {
   "cell_type": "markdown",
   "metadata": {},
   "source": [
    "Tutte le soluzioni sono multiple di un unico vettore $[−0.52,0.77,−0.26,−0.26]$ quindi non esistono altre soluzioni:"
   ]
  },
  {
   "cell_type": "code",
   "execution_count": 27,
   "metadata": {},
   "outputs": [
    {
     "data": {
      "text/plain": [
       "array([[-0.51639778],\n",
       "       [ 0.77459667],\n",
       "       [-0.25819889],\n",
       "       [-0.25819889]])"
      ]
     },
     "execution_count": 27,
     "metadata": {},
     "output_type": "execute_result"
    }
   ],
   "source": [
    "null_space(A)"
   ]
  },
  {
   "cell_type": "markdown",
   "metadata": {},
   "source": [
    "-----------------\n",
    "-----------------\n",
    "\n",
    "### Domanda 2\n",
    "\n",
    "Un'urna contiene biglie rosse e blu. Estraiamo 300 biglie (con reimbussolamento) osserviamo  60 biglie rosse. \n",
    "\n",
    ">  A.   Si calcoli con una confidenza del $99\\%$ un limite inferiore per la proporzione di bigli rosse."
   ]
  },
  {
   "cell_type": "markdown",
   "metadata": {},
   "source": [
    "### Risposta 2A\n",
    "\n",
    "La proporzione di biglie rosse è maggiore del $15\\%$ con una confidenza del $99\\%$."
   ]
  },
  {
   "cell_type": "code",
   "execution_count": 28,
   "metadata": {},
   "outputs": [
    {
     "data": {
      "text/plain": [
       "(0.14627529714775228, 0.25372470285224774)"
      ]
     },
     "execution_count": 28,
     "metadata": {},
     "output_type": "execute_result"
    }
   ],
   "source": [
    "proportion_confint(60,300,alpha=2*0.01)"
   ]
  },
  {
   "cell_type": "markdown",
   "metadata": {},
   "source": [
    ">   B.   Con che p-valore possiamo rigettare l'ipotesi che le biglie rosse sono il $15\\%$? \n",
    "\n",
    "(Come ipotesi alternativa si prenda l'ipotesi che la proporzione sia $>15\\%$.)"
   ]
  },
  {
   "cell_type": "markdown",
   "metadata": {},
   "source": [
    "### Risposta 2B \n",
    "\n",
    "Il p-valore è $<1\\%$:"
   ]
  },
  {
   "cell_type": "code",
   "execution_count": 29,
   "metadata": {},
   "outputs": [
    {
     "data": {
      "text/plain": [
       "0.007744734232711492"
      ]
     },
     "execution_count": 29,
     "metadata": {},
     "output_type": "execute_result"
    }
   ],
   "source": [
    "1-binom.cdf(60,300,0.15)"
   ]
  },
  {
   "cell_type": "markdown",
   "metadata": {},
   "source": [
    "---------------\n",
    "---------------\n",
    "\n",
    "\n",
    "### Domanda 3\n",
    "\n",
    "Marie is getting married tomorrow at an outdoor ceremony in the desert. In recent years it has rained only $8$ days each year. But the weatherman has predicted rain for tomorrow. When it actually rains, the weatherman correctly forecasts rain $85\\%$ of the time. When it doesn’t rain, he incorrectly forecasts rain $5\\%$ of the times. \n",
    "\n",
    ">  A.   What is the probability that it will rain on the day of Marie’s wedding?"
   ]
  },
  {
   "cell_type": "markdown",
   "metadata": {},
   "source": [
    "### Risposta 3\n",
    "\n",
    "$R$ event: it rains on Marie’s wedding\n",
    "\n",
    "$T_+$ event: the weatherman predicts rain\n",
    "\n",
    "$\\Pr(R) =8/365 $ it rains $8$ days out of $365$\n",
    "\n",
    "$\\Pr(T_+|R) = 0.85 $ when it rains, rain is predicted\n",
    "\n",
    "$\\Pr(T_+|\\neg R) = 0.05$ when it does not rain,  rain is predicted\n",
    "\n",
    "$\\Pr(T_+) = \\Pr(T_+|R)\\cdot \\Pr(R)+ \\Pr(T_+|\\neg R)\\cdot \\Pr(\\neg R) = 0.0675$ "
   ]
  },
  {
   "cell_type": "code",
   "execution_count": 30,
   "metadata": {},
   "outputs": [
    {
     "data": {
      "text/plain": [
       "0.06753424657534247"
      ]
     },
     "execution_count": 30,
     "metadata": {},
     "output_type": "execute_result"
    }
   ],
   "source": [
    "pr_t_pos = 0.85 * 8 / 365 + 0.05 * (365-8) / 365\n",
    "pr_t_pos"
   ]
  },
  {
   "cell_type": "markdown",
   "metadata": {},
   "source": [
    "$\\Pr(R| T_+)\\ =\\ \\dfrac{\\Pr(R)\\cdot \\Pr(T_+|R)}{\\Pr(T_+)}=0.28$ (Risposta) "
   ]
  },
  {
   "cell_type": "code",
   "execution_count": 31,
   "metadata": {},
   "outputs": [
    {
     "data": {
      "text/plain": [
       "0.27586206896551724"
      ]
     },
     "execution_count": 31,
     "metadata": {},
     "output_type": "execute_result"
    }
   ],
   "source": [
    "risposta = 0.85 * 8 / (365 * pr_t_pos)\n",
    "risposta"
   ]
  },
  {
   "cell_type": "markdown",
   "metadata": {},
   "source": [
    "-----------------\n",
    "-----------------\n",
    "\n",
    "\n",
    "### Domanda 4\n",
    "\n",
    "Abbiamo una scatola di viti di cui il $5\\%$ è difettoso. I nostri prodotti richiedono $9$ viti\n",
    "per pezzo. Procediamo nel seguente modo. Prendiamo una vite a caso e, se difettosa, la sostituiamo con\n",
    "un’altra, anche scelta a caso, fino ad avere le 9 viti richieste.\n",
    "\n",
    ">  A.  In media quante viti dovremmo provare per completare un pezzo?\n"
   ]
  },
  {
   "cell_type": "markdown",
   "metadata": {},
   "source": [
    "### Risposta 2A\n",
    "\n",
    "Dobbiamo calcolare ${\\rm E}(Y+n)$ dove $Y\\sim NB(n,p)$ dove $n=9$ e $p=0.95$.\n",
    "\n",
    "${\\rm E}(Y+n)\\ =\\ {\\rm E}(Y)+n\\ =\\ \\dfrac{n(1-p)}{p}+n\\ =\\ 9.5$"
   ]
  },
  {
   "cell_type": "code",
   "execution_count": 32,
   "metadata": {},
   "outputs": [
    {
     "data": {
      "text/plain": [
       "9.473684210526317"
      ]
     },
     "execution_count": 32,
     "metadata": {},
     "output_type": "execute_result"
    }
   ],
   "source": [
    "n=9\n",
    "p=0.95\n",
    "n*(1-p) / p +9"
   ]
  },
  {
   "cell_type": "markdown",
   "metadata": {},
   "source": [
    ">  B.   Qual è la probabilità di riuscire a finire un pezzo scegliendo ≤ 10 viti?"
   ]
  },
  {
   "cell_type": "markdown",
   "metadata": {},
   "source": [
    "### Risposta 2B\n",
    "\n",
    "$\\Pr(Y + 9 \\le 10)\\ =\\ \\Pr(Y  \\le 1)\\ =\\ 0.91$"
   ]
  },
  {
   "cell_type": "code",
   "execution_count": 33,
   "metadata": {},
   "outputs": [
    {
     "data": {
      "text/plain": [
       "0.9138616441006835"
      ]
     },
     "execution_count": 33,
     "metadata": {},
     "output_type": "execute_result"
    }
   ],
   "source": [
    "nbinom.cdf(1,9,0.95)"
   ]
  },
  {
   "cell_type": "markdown",
   "metadata": {},
   "source": [
    ">  C.    Quanti tentativi dovremo preventivare perchè la probabilità di finire un pezzo sia almeno il 99%?"
   ]
  },
  {
   "cell_type": "markdown",
   "metadata": {},
   "source": [
    "### Risposta 2B\n",
    "\n",
    "Devo calcolare $x$ tale che $\\Pr(Y + 9 \\le x)\\ =\\ 0.99$"
   ]
  },
  {
   "cell_type": "code",
   "execution_count": 34,
   "metadata": {},
   "outputs": [
    {
     "data": {
      "text/plain": [
       "12.0"
      ]
     },
     "execution_count": 34,
     "metadata": {},
     "output_type": "execute_result"
    }
   ],
   "source": [
    "nbinom.ppf(0.99,9,0.95) + 9"
   ]
  }
 ],
 "metadata": {
  "kernelspec": {
   "display_name": "Python 3",
   "language": "python",
   "name": "python3"
  },
  "language_info": {
   "codemirror_mode": {
    "name": "ipython",
    "version": 3
   },
   "file_extension": ".py",
   "mimetype": "text/x-python",
   "name": "python",
   "nbconvert_exporter": "python",
   "pygments_lexer": "ipython3",
   "version": "3.6.9"
  }
 },
 "nbformat": 4,
 "nbformat_minor": 2
}
