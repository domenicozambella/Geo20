{
 "cells": [
  {
   "cell_type": "code",
   "execution_count": 2,
   "metadata": {},
   "outputs": [
    {
     "data": {
      "text/html": [
       "<style>\n",
       "div.jp-MarkdownOutput {font-family: \"Times New Roman\", Times, serif;   \n",
       "    /* background-color: #eee;  */\n",
       "    /* border-left: 5px solid #00b5b4; */\n",
       "    font-size: 10pt;\n",
       "    line-height: 140%;\n",
       "}\n",
       ".text_cell_render {\n",
       "    font-family: \"Times New Roman\", Times, serif;    \n",
       "    /* background-color: #eee;  */\n",
       "    /* border-left: 5px solid #00b5b4; */\n",
       "    font-size: 14pt;\n",
       "    line-height: 140%;s\n",
       "}\n",
       "\n",
       "h1 {\n",
       "    font-size: xx-large  !important;\n",
       "    margin-top: 0ex !important;\n",
       "}\n",
       "\n",
       "h2 {\n",
       "    font-size: larger !important;\n",
       "    margin-top: 0ex !important;\n",
       "    margin-bottom: 0ex !important;\n",
       "    padding-bottom: 0ex !important;\n",
       "}\n",
       "\n",
       "h3 {\n",
       "    font-size: large !important;\n",
       "    margin-top: 0ex !important;\n",
       "    margin-bottom: 0ex !important;\n",
       "    padding-bottom: 0ex !important;\n",
       "}\n",
       "\n",
       "mark {\n",
       "    background-color: #ffdd00;\n",
       "    border-top-right-radius: 5px;\n",
       "    border-top-left-radius: 5px;\n",
       "    border-bottom-right-radius: 5px;\n",
       "    border-bottom-left-radius: 5px;\n",
       "    padding-top: 0.1ex;\n",
       "    padding-bottom: 0.2ex;\n",
       "    padding-left: 0.7ex;\n",
       "    padding-right: 0.7ex;\n",
       "}\n",
       "\n",
       ".ita {\n",
       "    background-color: #bbddee;\n",
       "}\n",
       "\n",
       ".errore {background-color:#d88;\n",
       "        width:310px;\n",
       "        height:17ex;\n",
       "        display:inline-block;\n",
       "        margin:5px;\n",
       "        padding:8px;\n",
       "}\n",
       "\n",
       ".corretto {background-color:#2d8;\n",
       "        width:310px;\n",
       "        height:17ex;\n",
       "        display:inline-block;\n",
       "        margin:5px;\n",
       "        padding:8px;\n",
       "}\n",
       "\n",
       "n-a {background-color: #ffdddd;}\n",
       "\n",
       "ul, ol {\n",
       "     padding-left: 2ex !important;\n",
       "}\n",
       "ul {\n",
       "     margin-top: 0ex !important;\n",
       "     margin-bottom: 0ex !important;\n",
       "     list-style-type: square !important;\n",
       "}\n",
       "\n",
       "div.warn {    \n",
       "    background-color: #fcf2f2;\n",
       "    border-color: #dFb5b4;\n",
       "    border-left: 5px solid #dfb5b4;\n",
       "    margin-top: 1ex;\n",
       "    padding: 1ex;\n",
       "}\n",
       ".right{\n",
       "    float:right\n",
       "}\n",
       "\n",
       "hr { \n",
       "    display: block;\n",
       "    margin-top: 0.5ex;\n",
       "    margin-bottom: 0.5ex;\n",
       "    margin-left: auto;\n",
       "    margin-right: auto;\n",
       "    border-style: inset;\n",
       "    border-width: 1px;\n",
       "}\n",
       "</style>\n"
      ],
      "text/plain": [
       "<IPython.core.display.HTML object>"
      ]
     },
     "execution_count": 2,
     "metadata": {},
     "output_type": "execute_result"
    }
   ],
   "source": [
    "from numpy import array, sqrt\n",
    "\n",
    "from scipy.stats import binom, nbinom\n",
    "from scipy.stats import norm as normal # ATTENZIONE non standard\n",
    "from scipy.stats import t as tstudent  # ATTENZIONE non standard\n",
    "\n",
    "from statsmodels.stats.proportion import proportion_confint\n",
    "\n",
    "from scipy.linalg import null_space, det, norm, inv\n",
    "\n",
    "\n",
    "# this loads some HTML style files\n",
    "from IPython.core.display import HTML\n",
    "with open( './style/custom.css', 'r' ) as f: html_style = f.read()\n",
    "HTML( html_style )"
   ]
  },
  {
   "cell_type": "markdown",
   "metadata": {},
   "source": [
    "----------------\n",
    "----------------\n",
    "\n",
    "### Domanda 1\n",
    "\n",
    "Sia $v=[-2,3,-1,-1]$.\n",
    "\n",
    ">  A. Si calcoli $\\|v\\|$."
   ]
  },
  {
   "cell_type": "markdown",
   "metadata": {},
   "source": [
    "> B.  Si calcoli $\\dfrac{1}{\\|v\\|}\\cdot v$."
   ]
  },
  {
   "cell_type": "markdown",
   "metadata": {},
   "source": [
    ">  C. Esistono soluzioni del seguente sistema che non sono mutiple del vettore $v$ ?\n",
    "\n",
    "$$\n",
    "\\left\\{\n",
    "\\begin{array}{rcc}\n",
    "  -2x+ z+ 3w& = &0\\\\\n",
    "  2x+ 3y+ 2z+ 3w & = &0\\\\ \n",
    "  x+ 2y+ 4z & = &0\\\\\n",
    "  y+ 3z  & = &0\\\\\n",
    "\\end{array}\n",
    "\\right.\n",
    "$$\n",
    "\n",
    "Per comodità trascrivo la matrice $A$ associata al sistema nella forma di lista di liste.\n",
    "\n",
    "    [ [-2, 0, 1, 3], \n",
    "      [2, 3, 2, 3], \n",
    "      [1, 2, 4, 0], \n",
    "      [0, 1, 3, 0]  ]"
   ]
  },
  {
   "cell_type": "markdown",
   "metadata": {},
   "source": [
    "-----------------\n",
    "-----------------\n",
    "\n",
    "### Domanda 2\n",
    "\n",
    "Un'urna contiene biglie rosse e blu. Estraiamo 300 biglie (con reimbussolamento) osserviamo  60 biglie rosse. \n",
    "\n",
    ">  A.   Si calcoli con una confidenza del $99\\%$ un limite inferiore per la proporzione di bigli rosse."
   ]
  },
  {
   "cell_type": "markdown",
   "metadata": {},
   "source": [
    ">   B.   Con che p-valore possiamo rigettare l'ipotesi che le biglie rosse sono il $15\\%$? \n",
    "\n",
    "(Come ipotesi alternativa si prenda l'ipotesi che la proporzione sia $<15\\%$.)"
   ]
  },
  {
   "cell_type": "markdown",
   "metadata": {},
   "source": [
    "---------------\n",
    "---------------\n",
    "\n",
    "\n",
    "### Domanda 3\n",
    "\n",
    "Marie is getting married tomorrow at an outdoor ceremony in the desert. In recent years it has rained only $8$ days each year. But the weatherman has predicted rain for tomorrow. When it actually rains, the weatherman correctly forecasts rain $85\\%$ of the time. When it doesn’t rain, he incorrectly forecasts rain $5\\%$ of the times. \n",
    "\n",
    ">  A.   What is the probability that it will rain on the day of Marie’s wedding?"
   ]
  },
  {
   "cell_type": "markdown",
   "metadata": {},
   "source": [
    "-----------------\n",
    "-----------------\n",
    "\n",
    "\n",
    "### Domanda 4\n",
    "\n",
    "Abbiamo una scatola di viti di cui il $5\\%$ è difettoso. I nostri prodotti richiedono $9$ viti\n",
    "per pezzo. Procediamo nel seguente modo. Prendiamo una vite a caso e, se difettosa, la sostituiamo con\n",
    "un’altra, anche scelta a caso, fino ad avere le 9 viti richieste.\n",
    "\n",
    ">  A.  In media quante viti dovremmo provare per completare un pezzo?\n"
   ]
  },
  {
   "cell_type": "markdown",
   "metadata": {},
   "source": [
    ">  B.   Qual è la probabilità di riuscire a finire un pezzo scegliendo ≤ 10 viti?"
   ]
  },
  {
   "cell_type": "markdown",
   "metadata": {},
   "source": [
    ">  C.    Quanti tentativi dovremo preventivare perchè la probabilità di finire un pezzo sia almeno il 99%?"
   ]
  },
  {
   "cell_type": "code",
   "execution_count": null,
   "metadata": {},
   "outputs": [],
   "source": []
  }
 ],
 "metadata": {
  "kernelspec": {
   "display_name": "Python 3",
   "language": "python",
   "name": "python3"
  },
  "language_info": {
   "codemirror_mode": {
    "name": "ipython",
    "version": 3
   },
   "file_extension": ".py",
   "mimetype": "text/x-python",
   "name": "python",
   "nbconvert_exporter": "python",
   "pygments_lexer": "ipython3",
   "version": "3.6.9"
  }
 },
 "nbformat": 4,
 "nbformat_minor": 2
}
