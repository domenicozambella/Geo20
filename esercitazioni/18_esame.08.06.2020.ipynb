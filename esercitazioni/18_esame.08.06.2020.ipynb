{
 "cells": [
  {
   "cell_type": "code",
   "execution_count": 1,
   "metadata": {},
   "outputs": [],
   "source": [
    "from numpy import array, sqrt, mean\n",
    "\n",
    "from scipy.stats import binom, nbinom, sem\n",
    "from scipy.stats import norm as normal # ATTENZIONE nome modificato\n",
    "from scipy.stats import t as tstudent  # ATTENZIONE nome modificato\n",
    "\n",
    "from statsmodels.stats.proportion import proportion_confint\n",
    "\n",
    "from scipy.linalg import null_space, det, norm, inv"
   ]
  },
  {
   "cell_type": "markdown",
   "metadata": {},
   "source": [
    "----------------\n",
    "----------------\n",
    "\n",
    "### Domanda 1\n",
    "\n",
    ">A.  Scrivere l'equazione matriciale associata al sistema\n",
    "\n",
    "$$\n",
    "\\left\\{\n",
    "\\begin{matrix}\n",
    "     6y+ 3z+ 3w & =& 0\\\\\n",
    "  2x+ 9y+ 7z+ 3w & =& 2\\\\\n",
    "  9x+ 8y+ 5z & =& 3\\\\\n",
    "   x+ 8y+ 7z & =& 1\\\\\n",
    "\\end{matrix}\n",
    "\\right.\n",
    "$$"
   ]
  },
  {
   "cell_type": "markdown",
   "metadata": {},
   "source": [
    "> B.    Si calcoli la soluzione dell'equazione matriciale."
   ]
  },
  {
   "cell_type": "markdown",
   "metadata": {},
   "source": [
    "-----------------\n",
    "-----------------\n",
    "\n",
    "### Domanda 2\n",
    "\n",
    "La variabile aleatoria $X$ ha distribuzione normale con deviazione standard $\\sigma=5$ e media $\\mu$ ignota. Da un campione di rango $22$ otteniamo la media $8$.\n",
    "\n",
    "> A. Si stimi un intervallo di confienza al $99\\%$ per $\\mu$."
   ]
  },
  {
   "cell_type": "markdown",
   "metadata": {},
   "source": [
    ">   B.   Con che p-valore possiamo rigettare l'ipotesi che $\\mu=11$? \n",
    "\n",
    "(Come alternativa si prenda l'ipotesi che $\\mu\\neq11$.)"
   ]
  },
  {
   "cell_type": "markdown",
   "metadata": {},
   "source": [
    "-----------------\n",
    "-----------------\n",
    "### Domanda 3\n",
    "\n",
    "Un urna contiene biglie il cui peso ha distribuzione $N(\\mu,\\sigma)$ con $\\mu$ ignota e $\\sigma=7.2$. Vogliamo testare l'ipotesi: il peso medio delle biglie è 25g contro l'ipotesi che il peso medio sia $>25$g. Vogliamo rilevare un effect size di $2$g.\n",
    "\n",
    "Da un campione di dimensione $16$ misuriamo un peso medio $24$g. Non rigettiamo l'ipotesi nulla.\n",
    "\n",
    "> A.  Quant'è l'errore del secondo tipo?\n",
    "\n",
    "Si trattino tutte le estrazioni come estrazioni con *reimbussolamento*."
   ]
  },
  {
   "cell_type": "markdown",
   "metadata": {},
   "source": [
    "-----------------\n",
    "-----------------\n",
    "### Domanda 4\n",
    "\n",
    "Scegiamo a caso un'urna da un mucchio di urne del tipo di quelle della domanda 3. \n",
    "\n",
    "Sappiamo che in un $1/3$ dei casi le urne in quel mucchio hanno $\\mu=25$g. Hanno invece $\\mu=30$g nei $2/3$ dei casi.\n",
    "\n",
    "Usando un campione di $16$ biglie della nostra urna misuriamo un peso medio di $\\le25$g. Qual'è la probabilità che si tratti di un'urna con $\\mu=25$g?"
   ]
  }
 ],
 "metadata": {
  "kernelspec": {
   "display_name": "Python 3",
   "language": "python",
   "name": "python3"
  },
  "language_info": {
   "codemirror_mode": {
    "name": "ipython",
    "version": 3
   },
   "file_extension": ".py",
   "mimetype": "text/x-python",
   "name": "python",
   "nbconvert_exporter": "python",
   "pygments_lexer": "ipython3",
   "version": "3.6.9"
  }
 },
 "nbformat": 4,
 "nbformat_minor": 2
}
