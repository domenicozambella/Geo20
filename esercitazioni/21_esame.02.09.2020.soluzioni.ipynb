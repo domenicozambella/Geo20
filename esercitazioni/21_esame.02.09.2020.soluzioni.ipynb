{
 "cells": [
  {
   "cell_type": "code",
   "execution_count": 8,
   "metadata": {},
   "outputs": [
    {
     "data": {
      "text/html": [
       "<style>\n",
       "div.jp-MarkdownOutput {font-family: \"Times New Roman\", Times, serif;   \n",
       "    /* background-color: #eee;  */\n",
       "    /* border-left: 5px solid #00b5b4; */\n",
       "    font-size: 10pt;\n",
       "    line-height: 140%;\n",
       "}\n",
       ".text_cell_render {\n",
       "    font-family: \"Times New Roman\", Times, serif;    \n",
       "    /* background-color: #eee;  */\n",
       "    /* border-left: 5px solid #00b5b4; */\n",
       "    font-size: 14pt;\n",
       "    line-height: 140%;s\n",
       "}\n",
       "\n",
       "h1 {\n",
       "    font-size: xx-large  !important;\n",
       "    margin-top: 0ex !important;\n",
       "}\n",
       "\n",
       "h2 {\n",
       "    font-size: larger !important;\n",
       "    margin-top: 0ex !important;\n",
       "    margin-bottom: 0ex !important;\n",
       "    padding-bottom: 0ex !important;\n",
       "}\n",
       "\n",
       "h3 {\n",
       "    font-size: large !important;\n",
       "    margin-top: 0ex !important;\n",
       "    margin-bottom: 0ex !important;\n",
       "    padding-bottom: 0ex !important;\n",
       "}\n",
       "\n",
       "mark {\n",
       "    background-color: #ffdd00;\n",
       "    border-top-right-radius: 5px;\n",
       "    border-top-left-radius: 5px;\n",
       "    border-bottom-right-radius: 5px;\n",
       "    border-bottom-left-radius: 5px;\n",
       "    padding-top: 0.1ex;\n",
       "    padding-bottom: 0.2ex;\n",
       "    padding-left: 0.7ex;\n",
       "    padding-right: 0.7ex;\n",
       "}\n",
       "\n",
       ".ita {\n",
       "    background-color: #bbddee;\n",
       "}\n",
       "\n",
       ".errore {background-color:#d88;\n",
       "        width:310px;\n",
       "        height:17ex;\n",
       "        display:inline-block;\n",
       "        margin:5px;\n",
       "        padding:8px;\n",
       "}\n",
       "\n",
       ".corretto {background-color:#2d8;\n",
       "        width:310px;\n",
       "        height:17ex;\n",
       "        display:inline-block;\n",
       "        margin:5px;\n",
       "        padding:8px;\n",
       "}\n",
       "\n",
       "n-a {background-color: #ffdddd;}\n",
       "\n",
       "ul, ol {\n",
       "     padding-left: 2ex !important;\n",
       "}\n",
       "ul {\n",
       "     margin-top: 0ex !important;\n",
       "     margin-bottom: 0ex !important;\n",
       "     list-style-type: square !important;\n",
       "}\n",
       "\n",
       "div.warn {    \n",
       "    background-color: #fcf2f2;\n",
       "    border-color: #dFb5b4;\n",
       "    border-left: 5px solid #dfb5b4;\n",
       "    margin-top: 1ex;\n",
       "    padding: 1ex;\n",
       "}\n",
       ".right{\n",
       "    float:right\n",
       "}\n",
       "\n",
       "hr { \n",
       "    display: block;\n",
       "    margin-top: 0.5ex;\n",
       "    margin-bottom: 0.5ex;\n",
       "    margin-left: auto;\n",
       "    margin-right: auto;\n",
       "    border-style: inset;\n",
       "    border-width: 1px;\n",
       "}\n",
       "</style>\n"
      ],
      "text/plain": [
       "<IPython.core.display.HTML object>"
      ]
     },
     "execution_count": 8,
     "metadata": {},
     "output_type": "execute_result"
    }
   ],
   "source": [
    "from numpy import array, sqrt, mean\n",
    "\n",
    "from scipy.stats import binom, nbinom, sem\n",
    "from scipy.stats import norm as normal # ATTENZIONE nome modificato\n",
    "from scipy.stats import t as tstudent  # ATTENZIONE nome modificato\n",
    "\n",
    "from statsmodels.stats.proportion import proportion_confint\n",
    "\n",
    "from scipy.linalg import null_space, det, norm, inv\n",
    "\n",
    "# this loads some HTML style files\n",
    "from IPython.core.display import HTML, SVG, display\n",
    "with open( '../esercitazioni/style/custom.css', 'r' ) as f: html_style = f.read()\n",
    "HTML( html_style )"
   ]
  },
  {
   "cell_type": "markdown",
   "metadata": {},
   "source": [
    "----------------\n",
    "----------------\n",
    "\n",
    "### Domanda 1\n",
    "\n",
    "Definiamo i vettori riga\n",
    "\n",
    "$$v=[1,3,5,5,1],\\quad u=[1,4,2,5,1]$$\n",
    "\n",
    ">  A.  Si calcoli il prodotto scalare di $u$ per $3v+u$.\n"
   ]
  },
  {
   "cell_type": "code",
   "execution_count": 9,
   "metadata": {},
   "outputs": [
    {
     "data": {
      "text/plain": [
       "194"
      ]
     },
     "execution_count": 9,
     "metadata": {},
     "output_type": "execute_result"
    }
   ],
   "source": [
    "v = array( [1,3,5,5,1] )\n",
    "u = array( [1,4,2,5,1] )\n",
    "u @ (3*v+u)"
   ]
  },
  {
   "cell_type": "markdown",
   "metadata": {},
   "source": [
    ">  B.  Si calcoli la soluzione del seguente sistema usando l'equazione matriciale associata\n",
    "\n",
    "$$\n",
    "\\left\\{\n",
    "\\begin{array}{lcl}\n",
    "  3x_1+ 6x_2+ 3x_3+ 3x_4+ x_5 &=& 1\\\\\n",
    "  2x_1+ 9x_2+ 7x_3+ 3x_4+ x_5 &=& 4\\\\\n",
    "  9x_1+ 8x_2+ 5x_3+ 2x_5 &=& 2\\\\\n",
    "  1x_1+ 8x_2+ 7x_3+ 3x_5 &=& 5\\\\\n",
    "  9x_1+ 3x_2+ 3x_3+ 3x_5 &=& 1\\\\\n",
    "\\end{array}\n",
    "\\right.\n",
    "$$"
   ]
  },
  {
   "cell_type": "code",
   "execution_count": 10,
   "metadata": {},
   "outputs": [
    {
     "data": {
      "text/plain": [
       "array([-0.05432099,  0.80987654, -0.12098765, -1.04691358, -0.19259259])"
      ]
     },
     "execution_count": 10,
     "metadata": {},
     "output_type": "execute_result"
    }
   ],
   "source": [
    "A = array( [ [3, 6, 3, 3, 1], \n",
    "             [2, 9, 7, 3, 1], \n",
    "             [9, 8, 5, 0, 2], \n",
    "             [1, 8, 7, 0, 3], \n",
    "             [9, 3, 3, 0, 3] ] )\n",
    "u =  array( [1,3,5,5,1] )\n",
    "inv(A) @ u.T"
   ]
  },
  {
   "cell_type": "markdown",
   "metadata": {},
   "source": [
    "-----------------\n",
    "-----------------\n",
    "\n",
    "### Domanda 2\n",
    "\n",
    "Un'urna contiene $6\\cdot10^7$  biglie il cui peso ha distribuzione $N(\\mu,\\sigma)$ con $\\mu$ ignota e $\\sigma=2.5$g.\n",
    "Estraiamo 25 biglie (con reimbussolamento) e otteniamo un peso medio di $22$g.\n",
    "\n",
    ">  A.   Vogliamo un intervallo di confidenza al $95\\%$ per il peso delle biglie."
   ]
  },
  {
   "cell_type": "code",
   "execution_count": 11,
   "metadata": {},
   "outputs": [
    {
     "data": {
      "text/plain": [
       "(21.020018007729973, 22.979981992270027)"
      ]
     },
     "execution_count": 11,
     "metadata": {},
     "output_type": "execute_result"
    }
   ],
   "source": [
    "z025 = -normal.ppf(.025)\n",
    "xbar = 22\n",
    "sigma = 2.5\n",
    "n = 25\n",
    "sd = sigma / sqrt(n)\n",
    "epsilon = z025 * sd\n",
    "(xbar - epsilon, xbar + epsilon)"
   ]
  },
  {
   "cell_type": "markdown",
   "metadata": {},
   "source": [
    ">   B.  Se il peso medio (vero) delle biglie è $\\mu=23.7$ qual'è la probabilità che una biglia pesi più di $24$g?"
   ]
  },
  {
   "cell_type": "code",
   "execution_count": 12,
   "metadata": {},
   "outputs": [
    {
     "data": {
      "text/plain": [
       "0.452241573979416"
      ]
     },
     "execution_count": 12,
     "metadata": {},
     "output_type": "execute_result"
    }
   ],
   "source": [
    "1 - normal.cdf(24,23.7,2.5)"
   ]
  },
  {
   "cell_type": "markdown",
   "metadata": {},
   "source": [
    ">   C. Se sappiamo già che la biglia ha peso maggiore di $24$g, qual'è la probabilità che sia anche minore di $26$g?"
   ]
  },
  {
   "cell_type": "code",
   "execution_count": 13,
   "metadata": {},
   "outputs": [
    {
     "data": {
      "text/plain": [
       "1.5012006257904735"
      ]
     },
     "execution_count": 13,
     "metadata": {},
     "output_type": "execute_result"
    }
   ],
   "source": [
    "p1 = 1 - normal.cdf(24,2.5,23.7) #  probabilità che una biglia pesi più di 24g\n",
    "p2 = normal.cdf(26,23.7,2.5) - normal.cdf(24,23.7,2.5) #  probabilità che una biglia pesi tra 24 e 26g\n",
    "p2 / p1 # probabilità condizionata"
   ]
  },
  {
   "cell_type": "markdown",
   "metadata": {},
   "source": [
    "-----------------\n",
    "-----------------\n",
    "### Domanda 3\n",
    "\n",
    "Un contenitore contiene $7\\cdot 10^6$ biglie di cui circa il $40\\%$ sono rosse. \n",
    "\n",
    "> A.  Quante biglie dobbiamo estrarre perché, con una probabilità del $95\\%$, almeno $3$ siano rosse?"
   ]
  },
  {
   "cell_type": "code",
   "execution_count": 14,
   "metadata": {},
   "outputs": [
    {
     "data": {
      "text/plain": [
       "14.0"
      ]
     },
     "execution_count": 14,
     "metadata": {},
     "output_type": "execute_result"
    }
   ],
   "source": [
    "nbinom.ppf(.95,3,.4) + 3"
   ]
  },
  {
   "cell_type": "markdown",
   "metadata": {},
   "source": [
    "> B.  Dividiamo in modo casuale le biglie in  $10^6$ gruppi di $7$ biglie. Quanti gruppi avranno almeno $3$ biglie rosse? (N.B. si chiede il valore atteso.)"
   ]
  },
  {
   "cell_type": "code",
   "execution_count": 15,
   "metadata": {},
   "outputs": [
    {
     "data": {
      "text/plain": [
       "2028544.0000000002"
      ]
     },
     "execution_count": 15,
     "metadata": {},
     "output_type": "execute_result"
    }
   ],
   "source": [
    "p = 1-binom.cdf(3,7,.4)\n",
    "n = 7 * 10**6\n",
    "n * p"
   ]
  },
  {
   "cell_type": "markdown",
   "metadata": {},
   "source": [
    "-----------------\n",
    "-----------------\n",
    "### Domanda 4\n",
    "\n",
    "A manufacturer claims that the lifetime of a lightbulb is on average 10 thousand hours. In a sample of  9  lightbulbs, we find the follwing lifetimes $9892, 10003, 10030, 9272, 10122, 10110, 9492, 10403, 10340$\n",
    "\n",
    "> A.  Compute a confidence $90\\%$ interval mean lifetime of a lightbulb (assuming that this is normally distruted)."
   ]
  },
  {
   "cell_type": "code",
   "execution_count": 16,
   "metadata": {},
   "outputs": [
    {
     "data": {
      "text/plain": [
       "(9733.545537365639, 10191.787795967693)"
      ]
     },
     "execution_count": 16,
     "metadata": {},
     "output_type": "execute_result"
    }
   ],
   "source": [
    "x = [9892, 10003, 10030, 9272, 10122, 10110, 9492, 10403, 10340]\n",
    "t05 = -tstudent.ppf(.05,8)\n",
    "epsilon = t05 * sem(x)\n",
    "(mean(x) - epsilon, mean(x) + epsilon)"
   ]
  },
  {
   "cell_type": "code",
   "execution_count": null,
   "metadata": {},
   "outputs": [],
   "source": []
  }
 ],
 "metadata": {
  "kernelspec": {
   "display_name": "Python 3",
   "language": "python",
   "name": "python3"
  },
  "language_info": {
   "codemirror_mode": {
    "name": "ipython",
    "version": 3
   },
   "file_extension": ".py",
   "mimetype": "text/x-python",
   "name": "python",
   "nbconvert_exporter": "python",
   "pygments_lexer": "ipython3",
   "version": "3.6.5"
  }
 },
 "nbformat": 4,
 "nbformat_minor": 2
}
