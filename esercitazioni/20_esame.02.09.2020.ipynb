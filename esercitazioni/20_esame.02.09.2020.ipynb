{
 "cells": [
  {
   "cell_type": "code",
   "execution_count": null,
   "metadata": {},
   "outputs": [],
   "source": [
    "from numpy import array, sqrt, mean\n",
    "\n",
    "from scipy.stats import binom, nbinom, sem\n",
    "from scipy.stats import norm as normal # ATTENZIONE nome modificato\n",
    "from scipy.stats import t as tstudent  # ATTENZIONE nome modificato\n",
    "\n",
    "from statsmodels.stats.proportion import proportion_confint\n",
    "\n",
    "from scipy.linalg import null_space, det, norm, inv\n",
    "\n",
    "# this loads some HTML style files\n",
    "from IPython.core.display import HTML, SVG, display\n",
    "with open( '../Geo20/esercitazioni/style/custom.css', 'r' ) as f: html_style = f.read()\n",
    "HTML( html_style )"
   ]
  },
  {
   "cell_type": "markdown",
   "metadata": {},
   "source": [
    "----------------\n",
    "----------------\n",
    "\n",
    "### Domanda 1\n",
    "\n",
    "Definiamo i vettori riga\n",
    "\n",
    "$$v=[1,3,5,5,1],\\quad u=[1,4,2,5,1]$$\n",
    "\n",
    ">  A.  Si calcoli il prodotto scalare di $u$ per $3v+u$.\n"
   ]
  },
  {
   "cell_type": "markdown",
   "metadata": {},
   "source": [
    ">  B.  Si calcoli la soluzione del seguente sistema usando l'equazione matriciale associata\n",
    "\n",
    "$$\n",
    "\\left\\{\n",
    "\\begin{array}{lcl}\n",
    "  3x_1+ 6x_2+ 3x_3+ 3x_4+ x_5 &=& 1\\\\\n",
    "  2x_1+ 9x_2+ 7x_3+ 3x_4+ x_5 &=& 4\\\\\n",
    "  9x_1+ 8x_2+ 5x_3+ 2x_5 &=& 2\\\\\n",
    "  1x_1+ 8x_2+ 7x_3+ 3x_5 &=& 5\\\\\n",
    "  9x_1+ 3x_2+ 3x_3+ 3x_5 &=& 1\\\\\n",
    "\\end{array}\n",
    "\\right.\n",
    "$$"
   ]
  },
  {
   "cell_type": "markdown",
   "metadata": {},
   "source": [
    "-----------------\n",
    "-----------------\n",
    "\n",
    "### Domanda 2\n",
    "\n",
    "Un'urna contiene $6\\cdot10^7$  biglie il cui peso ha distribuzione $N(\\mu,\\sigma)$ con $\\mu$ e $\\sigma=2.5$g ignote.\n",
    "Estraiamo 25 biglie (con reimbussolamento) e otteniamo un peso medio di $22$g.\n",
    "\n",
    ">  A.   Vogliamo un intervallo di confidenza al $95\\%$ per il peso delle biglie."
   ]
  },
  {
   "cell_type": "markdown",
   "metadata": {},
   "source": [
    ">   B.  Se il peso medio (vero) delle biglie è $\\mu=23.7$ qual'è la probabilità che una biglia pesi più di $24$g?"
   ]
  },
  {
   "cell_type": "markdown",
   "metadata": {},
   "source": [
    ">   C. Se sappiamo già che la biglia ha peso maggiore di $24$g, qual'è la probabilità che sia anche minore di $26$g?"
   ]
  },
  {
   "cell_type": "markdown",
   "metadata": {},
   "source": [
    "-----------------\n",
    "-----------------\n",
    "### Domanda 3\n",
    "\n",
    "Un contenitore contiene $7\\cdot 10^6$ biglie di cui circa il $40\\%$ sono rosse. \n",
    "\n",
    "> A.  Quante biglie dobbiamo estrarre perché, con una probabilità del $95\\%$, almeno $3$ siano rosse?"
   ]
  },
  {
   "cell_type": "markdown",
   "metadata": {},
   "source": [
    "> B.  Dividiamo in modo casuale le biglie in  $10^6$ gruppi di $7$ biglie. Quanti gruppi avranno almeno $3$ biglie rosse? (N.B. si chiede il valore atteso.)"
   ]
  },
  {
   "cell_type": "markdown",
   "metadata": {},
   "source": [
    "-----------------\n",
    "-----------------\n",
    "### Domanda 4\n",
    "\n",
    "A manufacturer claims that the lifetime of a lightbulb is on average 10 thousand hours. In a sample of  9  lightbulbs, we find the follwing lifetimes $9892, 10003, 10030, 9272, 10122, 10110, 9492, 10403, 10340$\n",
    "\n",
    "> A.  Compute a confidence $90\\%$ interval mean lifetime of a lightbulb (assuming that this is normally distruted)."
   ]
  }
 ],
 "metadata": {
  "kernelspec": {
   "display_name": "Python 3",
   "language": "python",
   "name": "python3"
  },
  "language_info": {
   "codemirror_mode": {
    "name": "ipython",
    "version": 3
   },
   "file_extension": ".py",
   "mimetype": "text/x-python",
   "name": "python",
   "nbconvert_exporter": "python",
   "pygments_lexer": "ipython3",
   "version": "3.6.5"
  }
 },
 "nbformat": 4,
 "nbformat_minor": 2
}
