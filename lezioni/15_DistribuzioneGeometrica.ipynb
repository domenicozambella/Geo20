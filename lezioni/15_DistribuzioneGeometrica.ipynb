{
 "cells": [
  {
   "cell_type": "code",
   "execution_count": 1,
   "metadata": {},
   "outputs": [
    {
     "data": {
      "text/html": [
       "<style>\n",
       "div.jp-MarkdownOutput {font-family: \"Times New Roman\", Times, serif;   \n",
       "    background-color: #eee; \n",
       "    border-left: 5px solid #00b5b4;\n",
       "    font-size: 14pt;\n",
       "    line-height: 160%;\n",
       "}\n",
       ".text_cell_render {\n",
       "    font-family: \"Times New Roman\", Times, serif;    \n",
       "    background-color: #eee; \n",
       "    border-left: 5px solid #00b5b4;\n",
       "    font-size: 14pt;\n",
       "    line-height: 160%;\n",
       "}\n",
       "\n",
       "h1 {\n",
       "    font-size: larger !important;\n",
       "    margin-top: 0ex !important;\n",
       "}\n",
       "\n",
       "h2 {\n",
       "    font-size: 14pt !important;\n",
       "    margin-top: 0ex !important;\n",
       "    margin-bottom: 0ex !important;\n",
       "    padding-bottom: 0ex !important;\n",
       "}\n",
       "\n",
       "h3 {\n",
       "    font-size: 14pt !important;\n",
       "    margin-top: 0ex !important;\n",
       "    margin-bottom: 0ex !important;\n",
       "    padding-bottom: 0ex !important;\n",
       "}\n",
       "\n",
       "mark {\n",
       "    background-color: #ffdd00;\n",
       "    border-top-right-radius: 5px;\n",
       "    border-top-left-radius: 5px;\n",
       "    border-bottom-right-radius: 5px;\n",
       "    border-bottom-left-radius: 5px;\n",
       "    padding-top: 0.1ex;\n",
       "    padding-bottom: 0.2ex;\n",
       "    padding-left: 0.7ex;\n",
       "    padding-right: 0.7ex;\n",
       "}\n",
       "\n",
       ".ita {\n",
       "    background-color: #bbddee;\n",
       "}\n",
       "\n",
       ".errore {background-color:#d88;\n",
       "        width:310px;\n",
       "        height:17ex;\n",
       "        display:inline-block;\n",
       "        margin:5px;\n",
       "        padding:8px;\n",
       "}\n",
       "\n",
       ".corretto {background-color:#2d8;\n",
       "        width:310px;\n",
       "        height:17ex;\n",
       "        display:inline-block;\n",
       "        margin:5px;\n",
       "        padding:8px;\n",
       "}\n",
       "\n",
       "n-a {background-color: #ffdddd;}\n",
       "\n",
       "ul, ol {\n",
       "     padding-left: 2ex !important;\n",
       "}\n",
       "ul {\n",
       "     margin-top: 0ex !important;\n",
       "     margin-bottom: 0ex !important;\n",
       "     list-style-type: square !important;\n",
       "}\n",
       "\n",
       "div.warn {    \n",
       "    background-color: #fcf2f2;\n",
       "    border-color: #dFb5b4;\n",
       "    border-left: 5px solid #dfb5b4;\n",
       "    margin-top: 1ex;\n",
       "    padding: 1ex;\n",
       "}\n",
       ".right{\n",
       "    float:right\n",
       "}\n",
       "\n",
       "hr { \n",
       "    display: block;\n",
       "    margin-top: 0.5ex;\n",
       "    margin-bottom: 0.5ex;\n",
       "    margin-left: auto;\n",
       "    margin-right: auto;\n",
       "    border-style: inset;\n",
       "    border-width: 1px;\n",
       "}\n",
       "</style>\n"
      ],
      "text/plain": [
       "<IPython.core.display.HTML object>"
      ]
     },
     "execution_count": 1,
     "metadata": {},
     "output_type": "execute_result"
    }
   ],
   "source": [
    "# RUN THIS CELL: it loads some style files\n",
    "from IPython.core.display import HTML\n",
    "with open( './style/custom.css', 'r' ) as f: html_style = f.read()\n",
    "HTML( html_style )"
   ]
  },
  {
   "cell_type": "markdown",
   "metadata": {},
   "source": [
    "# Le v.a. geometriche\n",
    "\n",
    "Immaginiamo una sequenza infinita di v.a.i. di Bernoulli, $X_i\\sim B(1,p)$ per $i=0,1,\\dots$  \n",
    "Sia $Y$ la variabile aleatoria che da il più piccolo $i$ tale che $X_i=1$. Più concretamente $Y$ corrisponde a contare quanti insuccessi abbiamo prima del primo successo se lanciamo una moneta con probabilità di successo $p$.  \n",
    "\n",
    "Diremo che $Y$ è una variabile geometrica con parametro $p$, in simboli $Y\\sim NB(1,p)$."
   ]
  },
  {
   "cell_type": "markdown",
   "metadata": {},
   "source": [
    "## La distribuzione geometrica\n",
    "\n",
    "Sia $Y\\sim NB(1,p)$. Data l'interpretazione esposta qui sopra è immediato calcolare la pmf\n",
    "\n",
    "$P(Y=i)\\ \\ =\\ \\ (1-p)^ip$\n",
    "\n"
   ]
  },
  {
   "cell_type": "code",
   "execution_count": 2,
   "metadata": {},
   "outputs": [
    {
     "data": {
      "text/html": [
       "\n",
       "    <div class=\"bk-root\">\n",
       "        <a href=\"https://bokeh.pydata.org\" target=\"_blank\" class=\"bk-logo bk-logo-small bk-logo-notebook\"></a>\n",
       "        <span id=\"ce8c9d1a-928a-475a-9c2d-49d6bc68e3f6\">Loading BokehJS ...</span>\n",
       "    </div>"
      ]
     },
     "metadata": {},
     "output_type": "display_data"
    },
    {
     "data": {
      "application/javascript": [
       "\n",
       "(function(root) {\n",
       "  function now() {\n",
       "    return new Date();\n",
       "  }\n",
       "\n",
       "  var force = true;\n",
       "\n",
       "  if (typeof (root._bokeh_onload_callbacks) === \"undefined\" || force === true) {\n",
       "    root._bokeh_onload_callbacks = [];\n",
       "    root._bokeh_is_loading = undefined;\n",
       "  }\n",
       "\n",
       "  var JS_MIME_TYPE = 'application/javascript';\n",
       "  var HTML_MIME_TYPE = 'text/html';\n",
       "  var EXEC_MIME_TYPE = 'application/vnd.bokehjs_exec.v0+json';\n",
       "  var CLASS_NAME = 'output_bokeh rendered_html';\n",
       "\n",
       "  /**\n",
       "   * Render data to the DOM node\n",
       "   */\n",
       "  function render(props, node) {\n",
       "    var script = document.createElement(\"script\");\n",
       "    node.appendChild(script);\n",
       "  }\n",
       "\n",
       "  /**\n",
       "   * Handle when an output is cleared or removed\n",
       "   */\n",
       "  function handleClearOutput(event, handle) {\n",
       "    var cell = handle.cell;\n",
       "\n",
       "    var id = cell.output_area._bokeh_element_id;\n",
       "    var server_id = cell.output_area._bokeh_server_id;\n",
       "    // Clean up Bokeh references\n",
       "    if (id != null && id in Bokeh.index) {\n",
       "      Bokeh.index[id].model.document.clear();\n",
       "      delete Bokeh.index[id];\n",
       "    }\n",
       "\n",
       "    if (server_id !== undefined) {\n",
       "      // Clean up Bokeh references\n",
       "      var cmd = \"from bokeh.io.state import curstate; print(curstate().uuid_to_server['\" + server_id + \"'].get_sessions()[0].document.roots[0]._id)\";\n",
       "      cell.notebook.kernel.execute(cmd, {\n",
       "        iopub: {\n",
       "          output: function(msg) {\n",
       "            var id = msg.content.text.trim();\n",
       "            if (id in Bokeh.index) {\n",
       "              Bokeh.index[id].model.document.clear();\n",
       "              delete Bokeh.index[id];\n",
       "            }\n",
       "          }\n",
       "        }\n",
       "      });\n",
       "      // Destroy server and session\n",
       "      var cmd = \"import bokeh.io.notebook as ion; ion.destroy_server('\" + server_id + \"')\";\n",
       "      cell.notebook.kernel.execute(cmd);\n",
       "    }\n",
       "  }\n",
       "\n",
       "  /**\n",
       "   * Handle when a new output is added\n",
       "   */\n",
       "  function handleAddOutput(event, handle) {\n",
       "    var output_area = handle.output_area;\n",
       "    var output = handle.output;\n",
       "\n",
       "    // limit handleAddOutput to display_data with EXEC_MIME_TYPE content only\n",
       "    if ((output.output_type != \"display_data\") || (!output.data.hasOwnProperty(EXEC_MIME_TYPE))) {\n",
       "      return\n",
       "    }\n",
       "\n",
       "    var toinsert = output_area.element.find(\".\" + CLASS_NAME.split(' ')[0]);\n",
       "\n",
       "    if (output.metadata[EXEC_MIME_TYPE][\"id\"] !== undefined) {\n",
       "      toinsert[toinsert.length - 1].firstChild.textContent = output.data[JS_MIME_TYPE];\n",
       "      // store reference to embed id on output_area\n",
       "      output_area._bokeh_element_id = output.metadata[EXEC_MIME_TYPE][\"id\"];\n",
       "    }\n",
       "    if (output.metadata[EXEC_MIME_TYPE][\"server_id\"] !== undefined) {\n",
       "      var bk_div = document.createElement(\"div\");\n",
       "      bk_div.innerHTML = output.data[HTML_MIME_TYPE];\n",
       "      var script_attrs = bk_div.children[0].attributes;\n",
       "      for (var i = 0; i < script_attrs.length; i++) {\n",
       "        toinsert[toinsert.length - 1].firstChild.setAttribute(script_attrs[i].name, script_attrs[i].value);\n",
       "      }\n",
       "      // store reference to server id on output_area\n",
       "      output_area._bokeh_server_id = output.metadata[EXEC_MIME_TYPE][\"server_id\"];\n",
       "    }\n",
       "  }\n",
       "\n",
       "  function register_renderer(events, OutputArea) {\n",
       "\n",
       "    function append_mime(data, metadata, element) {\n",
       "      // create a DOM node to render to\n",
       "      var toinsert = this.create_output_subarea(\n",
       "        metadata,\n",
       "        CLASS_NAME,\n",
       "        EXEC_MIME_TYPE\n",
       "      );\n",
       "      this.keyboard_manager.register_events(toinsert);\n",
       "      // Render to node\n",
       "      var props = {data: data, metadata: metadata[EXEC_MIME_TYPE]};\n",
       "      render(props, toinsert[toinsert.length - 1]);\n",
       "      element.append(toinsert);\n",
       "      return toinsert\n",
       "    }\n",
       "\n",
       "    /* Handle when an output is cleared or removed */\n",
       "    events.on('clear_output.CodeCell', handleClearOutput);\n",
       "    events.on('delete.Cell', handleClearOutput);\n",
       "\n",
       "    /* Handle when a new output is added */\n",
       "    events.on('output_added.OutputArea', handleAddOutput);\n",
       "\n",
       "    /**\n",
       "     * Register the mime type and append_mime function with output_area\n",
       "     */\n",
       "    OutputArea.prototype.register_mime_type(EXEC_MIME_TYPE, append_mime, {\n",
       "      /* Is output safe? */\n",
       "      safe: true,\n",
       "      /* Index of renderer in `output_area.display_order` */\n",
       "      index: 0\n",
       "    });\n",
       "  }\n",
       "\n",
       "  // register the mime type if in Jupyter Notebook environment and previously unregistered\n",
       "  if (root.Jupyter !== undefined) {\n",
       "    var events = require('base/js/events');\n",
       "    var OutputArea = require('notebook/js/outputarea').OutputArea;\n",
       "\n",
       "    if (OutputArea.prototype.mime_types().indexOf(EXEC_MIME_TYPE) == -1) {\n",
       "      register_renderer(events, OutputArea);\n",
       "    }\n",
       "  }\n",
       "\n",
       "  \n",
       "  if (typeof (root._bokeh_timeout) === \"undefined\" || force === true) {\n",
       "    root._bokeh_timeout = Date.now() + 5000;\n",
       "    root._bokeh_failed_load = false;\n",
       "  }\n",
       "\n",
       "  var NB_LOAD_WARNING = {'data': {'text/html':\n",
       "     \"<div style='background-color: #fdd'>\\n\"+\n",
       "     \"<p>\\n\"+\n",
       "     \"BokehJS does not appear to have successfully loaded. If loading BokehJS from CDN, this \\n\"+\n",
       "     \"may be due to a slow or bad network connection. Possible fixes:\\n\"+\n",
       "     \"</p>\\n\"+\n",
       "     \"<ul>\\n\"+\n",
       "     \"<li>re-rerun `output_notebook()` to attempt to load from CDN again, or</li>\\n\"+\n",
       "     \"<li>use INLINE resources instead, as so:</li>\\n\"+\n",
       "     \"</ul>\\n\"+\n",
       "     \"<code>\\n\"+\n",
       "     \"from bokeh.resources import INLINE\\n\"+\n",
       "     \"output_notebook(resources=INLINE)\\n\"+\n",
       "     \"</code>\\n\"+\n",
       "     \"</div>\"}};\n",
       "\n",
       "  function display_loaded() {\n",
       "    var el = document.getElementById(\"ce8c9d1a-928a-475a-9c2d-49d6bc68e3f6\");\n",
       "    if (el != null) {\n",
       "      el.textContent = \"BokehJS is loading...\";\n",
       "    }\n",
       "    if (root.Bokeh !== undefined) {\n",
       "      if (el != null) {\n",
       "        el.textContent = \"BokehJS \" + root.Bokeh.version + \" successfully loaded.\";\n",
       "      }\n",
       "    } else if (Date.now() < root._bokeh_timeout) {\n",
       "      setTimeout(display_loaded, 100)\n",
       "    }\n",
       "  }\n",
       "\n",
       "\n",
       "  function run_callbacks() {\n",
       "    try {\n",
       "      root._bokeh_onload_callbacks.forEach(function(callback) { callback() });\n",
       "    }\n",
       "    finally {\n",
       "      delete root._bokeh_onload_callbacks\n",
       "    }\n",
       "    console.info(\"Bokeh: all callbacks have finished\");\n",
       "  }\n",
       "\n",
       "  function load_libs(js_urls, callback) {\n",
       "    root._bokeh_onload_callbacks.push(callback);\n",
       "    if (root._bokeh_is_loading > 0) {\n",
       "      console.log(\"Bokeh: BokehJS is being loaded, scheduling callback at\", now());\n",
       "      return null;\n",
       "    }\n",
       "    if (js_urls == null || js_urls.length === 0) {\n",
       "      run_callbacks();\n",
       "      return null;\n",
       "    }\n",
       "    console.log(\"Bokeh: BokehJS not loaded, scheduling load and callback at\", now());\n",
       "    root._bokeh_is_loading = js_urls.length;\n",
       "    for (var i = 0; i < js_urls.length; i++) {\n",
       "      var url = js_urls[i];\n",
       "      var s = document.createElement('script');\n",
       "      s.src = url;\n",
       "      s.async = false;\n",
       "      s.onreadystatechange = s.onload = function() {\n",
       "        root._bokeh_is_loading--;\n",
       "        if (root._bokeh_is_loading === 0) {\n",
       "          console.log(\"Bokeh: all BokehJS libraries loaded\");\n",
       "          run_callbacks()\n",
       "        }\n",
       "      };\n",
       "      s.onerror = function() {\n",
       "        console.warn(\"failed to load library \" + url);\n",
       "      };\n",
       "      console.log(\"Bokeh: injecting script tag for BokehJS library: \", url);\n",
       "      document.getElementsByTagName(\"head\")[0].appendChild(s);\n",
       "    }\n",
       "  };var element = document.getElementById(\"ce8c9d1a-928a-475a-9c2d-49d6bc68e3f6\");\n",
       "  if (element == null) {\n",
       "    console.log(\"Bokeh: ERROR: autoload.js configured with elementid 'ce8c9d1a-928a-475a-9c2d-49d6bc68e3f6' but no matching script tag was found. \")\n",
       "    return false;\n",
       "  }\n",
       "\n",
       "  var js_urls = [\"https://cdn.pydata.org/bokeh/release/bokeh-0.13.0.min.js\", \"https://cdn.pydata.org/bokeh/release/bokeh-widgets-0.13.0.min.js\", \"https://cdn.pydata.org/bokeh/release/bokeh-tables-0.13.0.min.js\", \"https://cdn.pydata.org/bokeh/release/bokeh-gl-0.13.0.min.js\"];\n",
       "\n",
       "  var inline_js = [\n",
       "    function(Bokeh) {\n",
       "      Bokeh.set_log_level(\"info\");\n",
       "    },\n",
       "    \n",
       "    function(Bokeh) {\n",
       "      \n",
       "    },\n",
       "    function(Bokeh) {\n",
       "      console.log(\"Bokeh: injecting CSS: https://cdn.pydata.org/bokeh/release/bokeh-0.13.0.min.css\");\n",
       "      Bokeh.embed.inject_css(\"https://cdn.pydata.org/bokeh/release/bokeh-0.13.0.min.css\");\n",
       "      console.log(\"Bokeh: injecting CSS: https://cdn.pydata.org/bokeh/release/bokeh-widgets-0.13.0.min.css\");\n",
       "      Bokeh.embed.inject_css(\"https://cdn.pydata.org/bokeh/release/bokeh-widgets-0.13.0.min.css\");\n",
       "      console.log(\"Bokeh: injecting CSS: https://cdn.pydata.org/bokeh/release/bokeh-tables-0.13.0.min.css\");\n",
       "      Bokeh.embed.inject_css(\"https://cdn.pydata.org/bokeh/release/bokeh-tables-0.13.0.min.css\");\n",
       "    }\n",
       "  ];\n",
       "\n",
       "  function run_inline_js() {\n",
       "    \n",
       "    if ((root.Bokeh !== undefined) || (force === true)) {\n",
       "      for (var i = 0; i < inline_js.length; i++) {\n",
       "        inline_js[i].call(root, root.Bokeh);\n",
       "      }if (force === true) {\n",
       "        display_loaded();\n",
       "      }} else if (Date.now() < root._bokeh_timeout) {\n",
       "      setTimeout(run_inline_js, 100);\n",
       "    } else if (!root._bokeh_failed_load) {\n",
       "      console.log(\"Bokeh: BokehJS failed to load within specified timeout.\");\n",
       "      root._bokeh_failed_load = true;\n",
       "    } else if (force !== true) {\n",
       "      var cell = $(document.getElementById(\"ce8c9d1a-928a-475a-9c2d-49d6bc68e3f6\")).parents('.cell').data().cell;\n",
       "      cell.output_area.append_execute_result(NB_LOAD_WARNING)\n",
       "    }\n",
       "\n",
       "  }\n",
       "\n",
       "  if (root._bokeh_is_loading === 0) {\n",
       "    console.log(\"Bokeh: BokehJS loaded, going straight to plotting\");\n",
       "    run_inline_js();\n",
       "  } else {\n",
       "    load_libs(js_urls, function() {\n",
       "      console.log(\"Bokeh: BokehJS plotting callback run at\", now());\n",
       "      run_inline_js();\n",
       "    });\n",
       "  }\n",
       "}(window));"
      ],
      "application/vnd.bokehjs_load.v0+json": "\n(function(root) {\n  function now() {\n    return new Date();\n  }\n\n  var force = true;\n\n  if (typeof (root._bokeh_onload_callbacks) === \"undefined\" || force === true) {\n    root._bokeh_onload_callbacks = [];\n    root._bokeh_is_loading = undefined;\n  }\n\n  \n\n  \n  if (typeof (root._bokeh_timeout) === \"undefined\" || force === true) {\n    root._bokeh_timeout = Date.now() + 5000;\n    root._bokeh_failed_load = false;\n  }\n\n  var NB_LOAD_WARNING = {'data': {'text/html':\n     \"<div style='background-color: #fdd'>\\n\"+\n     \"<p>\\n\"+\n     \"BokehJS does not appear to have successfully loaded. If loading BokehJS from CDN, this \\n\"+\n     \"may be due to a slow or bad network connection. Possible fixes:\\n\"+\n     \"</p>\\n\"+\n     \"<ul>\\n\"+\n     \"<li>re-rerun `output_notebook()` to attempt to load from CDN again, or</li>\\n\"+\n     \"<li>use INLINE resources instead, as so:</li>\\n\"+\n     \"</ul>\\n\"+\n     \"<code>\\n\"+\n     \"from bokeh.resources import INLINE\\n\"+\n     \"output_notebook(resources=INLINE)\\n\"+\n     \"</code>\\n\"+\n     \"</div>\"}};\n\n  function display_loaded() {\n    var el = document.getElementById(\"ce8c9d1a-928a-475a-9c2d-49d6bc68e3f6\");\n    if (el != null) {\n      el.textContent = \"BokehJS is loading...\";\n    }\n    if (root.Bokeh !== undefined) {\n      if (el != null) {\n        el.textContent = \"BokehJS \" + root.Bokeh.version + \" successfully loaded.\";\n      }\n    } else if (Date.now() < root._bokeh_timeout) {\n      setTimeout(display_loaded, 100)\n    }\n  }\n\n\n  function run_callbacks() {\n    try {\n      root._bokeh_onload_callbacks.forEach(function(callback) { callback() });\n    }\n    finally {\n      delete root._bokeh_onload_callbacks\n    }\n    console.info(\"Bokeh: all callbacks have finished\");\n  }\n\n  function load_libs(js_urls, callback) {\n    root._bokeh_onload_callbacks.push(callback);\n    if (root._bokeh_is_loading > 0) {\n      console.log(\"Bokeh: BokehJS is being loaded, scheduling callback at\", now());\n      return null;\n    }\n    if (js_urls == null || js_urls.length === 0) {\n      run_callbacks();\n      return null;\n    }\n    console.log(\"Bokeh: BokehJS not loaded, scheduling load and callback at\", now());\n    root._bokeh_is_loading = js_urls.length;\n    for (var i = 0; i < js_urls.length; i++) {\n      var url = js_urls[i];\n      var s = document.createElement('script');\n      s.src = url;\n      s.async = false;\n      s.onreadystatechange = s.onload = function() {\n        root._bokeh_is_loading--;\n        if (root._bokeh_is_loading === 0) {\n          console.log(\"Bokeh: all BokehJS libraries loaded\");\n          run_callbacks()\n        }\n      };\n      s.onerror = function() {\n        console.warn(\"failed to load library \" + url);\n      };\n      console.log(\"Bokeh: injecting script tag for BokehJS library: \", url);\n      document.getElementsByTagName(\"head\")[0].appendChild(s);\n    }\n  };var element = document.getElementById(\"ce8c9d1a-928a-475a-9c2d-49d6bc68e3f6\");\n  if (element == null) {\n    console.log(\"Bokeh: ERROR: autoload.js configured with elementid 'ce8c9d1a-928a-475a-9c2d-49d6bc68e3f6' but no matching script tag was found. \")\n    return false;\n  }\n\n  var js_urls = [\"https://cdn.pydata.org/bokeh/release/bokeh-0.13.0.min.js\", \"https://cdn.pydata.org/bokeh/release/bokeh-widgets-0.13.0.min.js\", \"https://cdn.pydata.org/bokeh/release/bokeh-tables-0.13.0.min.js\", \"https://cdn.pydata.org/bokeh/release/bokeh-gl-0.13.0.min.js\"];\n\n  var inline_js = [\n    function(Bokeh) {\n      Bokeh.set_log_level(\"info\");\n    },\n    \n    function(Bokeh) {\n      \n    },\n    function(Bokeh) {\n      console.log(\"Bokeh: injecting CSS: https://cdn.pydata.org/bokeh/release/bokeh-0.13.0.min.css\");\n      Bokeh.embed.inject_css(\"https://cdn.pydata.org/bokeh/release/bokeh-0.13.0.min.css\");\n      console.log(\"Bokeh: injecting CSS: https://cdn.pydata.org/bokeh/release/bokeh-widgets-0.13.0.min.css\");\n      Bokeh.embed.inject_css(\"https://cdn.pydata.org/bokeh/release/bokeh-widgets-0.13.0.min.css\");\n      console.log(\"Bokeh: injecting CSS: https://cdn.pydata.org/bokeh/release/bokeh-tables-0.13.0.min.css\");\n      Bokeh.embed.inject_css(\"https://cdn.pydata.org/bokeh/release/bokeh-tables-0.13.0.min.css\");\n    }\n  ];\n\n  function run_inline_js() {\n    \n    if ((root.Bokeh !== undefined) || (force === true)) {\n      for (var i = 0; i < inline_js.length; i++) {\n        inline_js[i].call(root, root.Bokeh);\n      }if (force === true) {\n        display_loaded();\n      }} else if (Date.now() < root._bokeh_timeout) {\n      setTimeout(run_inline_js, 100);\n    } else if (!root._bokeh_failed_load) {\n      console.log(\"Bokeh: BokehJS failed to load within specified timeout.\");\n      root._bokeh_failed_load = true;\n    } else if (force !== true) {\n      var cell = $(document.getElementById(\"ce8c9d1a-928a-475a-9c2d-49d6bc68e3f6\")).parents('.cell').data().cell;\n      cell.output_area.append_execute_result(NB_LOAD_WARNING)\n    }\n\n  }\n\n  if (root._bokeh_is_loading === 0) {\n    console.log(\"Bokeh: BokehJS loaded, going straight to plotting\");\n    run_inline_js();\n  } else {\n    load_libs(js_urls, function() {\n      console.log(\"Bokeh: BokehJS plotting callback run at\", now());\n      run_inline_js();\n    });\n  }\n}(window));"
     },
     "metadata": {},
     "output_type": "display_data"
    }
   ],
   "source": [
    "from scipy.stats import geom, nbinom                      # libraries for statistical functions\n",
    "from numpy import arange                      # libraries for statistical functions\n",
    "from ipywidgets import interact, FloatSlider, IntSlider   # libraries for interactions with the graphic\n",
    "from bokeh.io import push_notebook, show, output_notebook, output_file # libraries for graphic output\n",
    "from bokeh.plotting import figure\n",
    "output_notebook()\n",
    "options = dict(plot_height=400,plot_width=700,tools=\"pan,wheel_zoom,reset,save,crosshair,box_select\")"
   ]
  },
  {
   "cell_type": "code",
   "execution_count": 3,
   "metadata": {},
   "outputs": [
    {
     "data": {
      "text/html": [
       "\n",
       "\n",
       "\n",
       "\n",
       "\n",
       "\n",
       "  <div class=\"bk-root\" id=\"29b8e081-1f7d-437d-8b4c-bddc4a3236a1\"></div>\n"
      ]
     },
     "metadata": {},
     "output_type": "display_data"
    },
    {
     "data": {
      "application/javascript": [
       "(function(root) {\n",
       "  function embed_document(root) {\n",
       "    \n",
       "  var docs_json = {\"aefa5f44-174d-40fa-808a-699d72478d98\":{\"roots\":{\"references\":[{\"attributes\":{},\"id\":\"498e039a-bc38-4ded-9188-43a8c71c9bee\",\"type\":\"UnionRenderers\"},{\"attributes\":{},\"id\":\"1ff1f77e-04df-41d7-b2d1-8d37f8052b81\",\"type\":\"BasicTicker\"},{\"attributes\":{},\"id\":\"89e7a155-dc9f-43ad-bd55-11f26251fd26\",\"type\":\"BasicTickFormatter\"},{\"attributes\":{\"plot\":{\"id\":\"9a71ab2a-6095-47ce-aee2-01a60540d1b6\",\"subtype\":\"Figure\",\"type\":\"Plot\"},\"ticker\":{\"id\":\"1ff1f77e-04df-41d7-b2d1-8d37f8052b81\",\"type\":\"BasicTicker\"}},\"id\":\"8d8e704d-ae5b-41a8-b384-4f1f1e859f22\",\"type\":\"Grid\"},{\"attributes\":{\"source\":{\"id\":\"921f5cc4-3e0b-4418-84cc-0a9ccb2990c7\",\"type\":\"ColumnDataSource\"}},\"id\":\"d7557841-47d8-4881-b1bc-40e8e564f131\",\"type\":\"CDSView\"},{\"attributes\":{\"axis_label\":\"probability\",\"formatter\":{\"id\":\"89e7a155-dc9f-43ad-bd55-11f26251fd26\",\"type\":\"BasicTickFormatter\"},\"plot\":{\"id\":\"9a71ab2a-6095-47ce-aee2-01a60540d1b6\",\"subtype\":\"Figure\",\"type\":\"Plot\"},\"ticker\":{\"id\":\"4fcd5481-9ed1-4c09-9102-bd0d6fe30219\",\"type\":\"BasicTicker\"}},\"id\":\"61992928-6b27-460d-b539-6eb6a0319ecc\",\"type\":\"LinearAxis\"},{\"attributes\":{},\"id\":\"09dd6f3e-f953-453d-aea8-366d5ce6d924\",\"type\":\"Selection\"},{\"attributes\":{},\"id\":\"4fcd5481-9ed1-4c09-9102-bd0d6fe30219\",\"type\":\"BasicTicker\"},{\"attributes\":{\"dimension\":1,\"plot\":{\"id\":\"9a71ab2a-6095-47ce-aee2-01a60540d1b6\",\"subtype\":\"Figure\",\"type\":\"Plot\"},\"ticker\":{\"id\":\"4fcd5481-9ed1-4c09-9102-bd0d6fe30219\",\"type\":\"BasicTicker\"}},\"id\":\"4f49fca1-16ce-4526-bf48-20b2a84f1926\",\"type\":\"Grid\"},{\"attributes\":{},\"id\":\"cee5df73-7e41-43f6-aaa1-7e116648b3f0\",\"type\":\"PanTool\"},{\"attributes\":{\"fill_alpha\":{\"value\":0.1},\"fill_color\":{\"value\":\"#1f77b4\"},\"line_alpha\":{\"value\":0.1},\"line_color\":{\"value\":\"#1f77b4\"},\"top\":{\"field\":\"top\"},\"width\":{\"value\":0.8},\"x\":{\"field\":\"x\"}},\"id\":\"af0fa41e-4fc3-4739-9330-d6a2b342fbac\",\"type\":\"VBar\"},{\"attributes\":{},\"id\":\"803c2e06-8c12-40ad-a2b8-f82db263b6e5\",\"type\":\"BasicTickFormatter\"},{\"attributes\":{\"callback\":null,\"data\":{\"top\":[0,0,0,0,0,0,0,0,0,0,0,0,0,0,0,0,0,0,0,0,0,0,0,0,0,0,0,0,0,0,0,0,0,0,0,0,0,0,0,0,0,0,0,0,0,0,0,0,0,0,0,0,0,0,0,0,0,0,0,0,0,0,0,0,0,0,0,0,0,0,0,0,0,0,0,0,0,0,0,0,0,0,0,0,0,0,0,0,0,0,0,0,0,0,0,0,0,0,0,0],\"x\":[0,1,2,3,4,5,6,7,8,9,10,11,12,13,14,15,16,17,18,19,20,21,22,23,24,25,26,27,28,29,30,31,32,33,34,35,36,37,38,39,40,41,42,43,44,45,46,47,48,49,50,51,52,53,54,55,56,57,58,59,60,61,62,63,64,65,66,67,68,69,70,71,72,73,74,75,76,77,78,79,80,81,82,83,84,85,86,87,88,89,90,91,92,93,94,95,96,97,98,99]},\"selected\":{\"id\":\"09dd6f3e-f953-453d-aea8-366d5ce6d924\",\"type\":\"Selection\"},\"selection_policy\":{\"id\":\"498e039a-bc38-4ded-9188-43a8c71c9bee\",\"type\":\"UnionRenderers\"}},\"id\":\"921f5cc4-3e0b-4418-84cc-0a9ccb2990c7\",\"type\":\"ColumnDataSource\"},{\"attributes\":{\"below\":[{\"id\":\"d5476372-d742-4f80-8368-13c65da06903\",\"type\":\"LinearAxis\"}],\"left\":[{\"id\":\"61992928-6b27-460d-b539-6eb6a0319ecc\",\"type\":\"LinearAxis\"}],\"plot_height\":400,\"plot_width\":700,\"renderers\":[{\"id\":\"d5476372-d742-4f80-8368-13c65da06903\",\"type\":\"LinearAxis\"},{\"id\":\"8d8e704d-ae5b-41a8-b384-4f1f1e859f22\",\"type\":\"Grid\"},{\"id\":\"61992928-6b27-460d-b539-6eb6a0319ecc\",\"type\":\"LinearAxis\"},{\"id\":\"4f49fca1-16ce-4526-bf48-20b2a84f1926\",\"type\":\"Grid\"},{\"id\":\"451ec587-39b2-4244-a1aa-9f0615fbb6d2\",\"type\":\"BoxAnnotation\"},{\"id\":\"19ba1626-d18a-444d-89ab-4b9dcd8c7d05\",\"type\":\"GlyphRenderer\"}],\"title\":{\"id\":\"6fe8a6c0-ef2c-4960-b1ff-1b27cda80051\",\"type\":\"Title\"},\"toolbar\":{\"id\":\"586d5128-ee39-480f-a2ce-80b8cf60dbeb\",\"type\":\"Toolbar\"},\"x_range\":{\"id\":\"ea1b3684-44aa-4a4f-a8be-e3884149008f\",\"type\":\"Range1d\"},\"x_scale\":{\"id\":\"3747731d-f88d-4014-b96e-f86aa30adb99\",\"type\":\"LinearScale\"},\"y_range\":{\"id\":\"8fbd7de8-57cf-4668-ad29-95a49889d9f1\",\"type\":\"Range1d\"},\"y_scale\":{\"id\":\"7f0757ec-56b8-420c-bd54-24d7206830b6\",\"type\":\"LinearScale\"}},\"id\":\"9a71ab2a-6095-47ce-aee2-01a60540d1b6\",\"subtype\":\"Figure\",\"type\":\"Plot\"},{\"attributes\":{\"data_source\":{\"id\":\"921f5cc4-3e0b-4418-84cc-0a9ccb2990c7\",\"type\":\"ColumnDataSource\"},\"glyph\":{\"id\":\"63ccee50-d629-4c6d-83b9-956602176511\",\"type\":\"VBar\"},\"hover_glyph\":null,\"muted_glyph\":null,\"nonselection_glyph\":{\"id\":\"af0fa41e-4fc3-4739-9330-d6a2b342fbac\",\"type\":\"VBar\"},\"selection_glyph\":null,\"view\":{\"id\":\"d7557841-47d8-4881-b1bc-40e8e564f131\",\"type\":\"CDSView\"}},\"id\":\"19ba1626-d18a-444d-89ab-4b9dcd8c7d05\",\"type\":\"GlyphRenderer\"},{\"attributes\":{\"fill_alpha\":{\"value\":0.5},\"fill_color\":{\"value\":\"#111188\"},\"line_alpha\":{\"value\":0.5},\"line_color\":{\"value\":\"#111188\"},\"top\":{\"field\":\"top\"},\"width\":{\"value\":0.8},\"x\":{\"field\":\"x\"}},\"id\":\"63ccee50-d629-4c6d-83b9-956602176511\",\"type\":\"VBar\"},{\"attributes\":{\"plot\":null,\"text\":\"PMF of X ~ NB(1,p)\",\"text_font\":\"times\",\"text_font_size\":{\"value\":\"16pt\"}},\"id\":\"6fe8a6c0-ef2c-4960-b1ff-1b27cda80051\",\"type\":\"Title\"},{\"attributes\":{},\"id\":\"1331da3f-93c4-4953-9e72-e1e6e286369b\",\"type\":\"WheelZoomTool\"},{\"attributes\":{\"callback\":null,\"end\":10,\"start\":-1},\"id\":\"ea1b3684-44aa-4a4f-a8be-e3884149008f\",\"type\":\"Range1d\"},{\"attributes\":{},\"id\":\"f5587a1f-bb9f-4357-8901-3fb1cce200a7\",\"type\":\"ResetTool\"},{\"attributes\":{\"active_drag\":\"auto\",\"active_inspect\":\"auto\",\"active_multi\":null,\"active_scroll\":\"auto\",\"active_tap\":\"auto\",\"tools\":[{\"id\":\"cee5df73-7e41-43f6-aaa1-7e116648b3f0\",\"type\":\"PanTool\"},{\"id\":\"1331da3f-93c4-4953-9e72-e1e6e286369b\",\"type\":\"WheelZoomTool\"},{\"id\":\"f5587a1f-bb9f-4357-8901-3fb1cce200a7\",\"type\":\"ResetTool\"},{\"id\":\"1de54952-48a2-4db1-840c-7e626e007665\",\"type\":\"SaveTool\"},{\"id\":\"c4344da0-156a-4c40-8d95-ce6cad6452d8\",\"type\":\"CrosshairTool\"},{\"id\":\"ec38ae6f-ba6b-462f-b5a8-b9f7791de8f4\",\"type\":\"BoxSelectTool\"}]},\"id\":\"586d5128-ee39-480f-a2ce-80b8cf60dbeb\",\"type\":\"Toolbar\"},{\"attributes\":{},\"id\":\"1de54952-48a2-4db1-840c-7e626e007665\",\"type\":\"SaveTool\"},{\"attributes\":{},\"id\":\"c4344da0-156a-4c40-8d95-ce6cad6452d8\",\"type\":\"CrosshairTool\"},{\"attributes\":{},\"id\":\"3747731d-f88d-4014-b96e-f86aa30adb99\",\"type\":\"LinearScale\"},{\"attributes\":{\"callback\":null,\"overlay\":{\"id\":\"451ec587-39b2-4244-a1aa-9f0615fbb6d2\",\"type\":\"BoxAnnotation\"}},\"id\":\"ec38ae6f-ba6b-462f-b5a8-b9f7791de8f4\",\"type\":\"BoxSelectTool\"},{\"attributes\":{\"callback\":null,\"end\":0.5},\"id\":\"8fbd7de8-57cf-4668-ad29-95a49889d9f1\",\"type\":\"Range1d\"},{\"attributes\":{\"bottom_units\":\"screen\",\"fill_alpha\":{\"value\":0.5},\"fill_color\":{\"value\":\"lightgrey\"},\"left_units\":\"screen\",\"level\":\"overlay\",\"line_alpha\":{\"value\":1.0},\"line_color\":{\"value\":\"black\"},\"line_dash\":[4,4],\"line_width\":{\"value\":2},\"plot\":null,\"render_mode\":\"css\",\"right_units\":\"screen\",\"top_units\":\"screen\"},\"id\":\"451ec587-39b2-4244-a1aa-9f0615fbb6d2\",\"type\":\"BoxAnnotation\"},{\"attributes\":{},\"id\":\"7f0757ec-56b8-420c-bd54-24d7206830b6\",\"type\":\"LinearScale\"},{\"attributes\":{\"axis_label\":\"number of failures before the first success\",\"formatter\":{\"id\":\"803c2e06-8c12-40ad-a2b8-f82db263b6e5\",\"type\":\"BasicTickFormatter\"},\"plot\":{\"id\":\"9a71ab2a-6095-47ce-aee2-01a60540d1b6\",\"subtype\":\"Figure\",\"type\":\"Plot\"},\"ticker\":{\"id\":\"1ff1f77e-04df-41d7-b2d1-8d37f8052b81\",\"type\":\"BasicTicker\"}},\"id\":\"d5476372-d742-4f80-8368-13c65da06903\",\"type\":\"LinearAxis\"}],\"root_ids\":[\"9a71ab2a-6095-47ce-aee2-01a60540d1b6\"]},\"title\":\"Bokeh Application\",\"version\":\"0.13.0\"}};\n",
       "  var render_items = [{\"docid\":\"aefa5f44-174d-40fa-808a-699d72478d98\",\"notebook_comms_target\":\"cc98378f-a024-4d83-85ff-264cca9fa353\",\"roots\":{\"9a71ab2a-6095-47ce-aee2-01a60540d1b6\":\"29b8e081-1f7d-437d-8b4c-bddc4a3236a1\"}}];\n",
       "  root.Bokeh.embed.embed_items_notebook(docs_json, render_items);\n",
       "\n",
       "  }\n",
       "  if (root.Bokeh !== undefined) {\n",
       "    embed_document(root);\n",
       "  } else {\n",
       "    var attempts = 0;\n",
       "    var timer = setInterval(function(root) {\n",
       "      if (root.Bokeh !== undefined) {\n",
       "        embed_document(root);\n",
       "        clearInterval(timer);\n",
       "      }\n",
       "      attempts++;\n",
       "      if (attempts > 100) {\n",
       "        console.log(\"Bokeh: ERROR: Unable to run BokehJS code because BokehJS library is missing\")\n",
       "        clearInterval(timer);\n",
       "      }\n",
       "    }, 10, root)\n",
       "  }\n",
       "})(window);"
      ],
      "application/vnd.bokehjs_exec.v0+json": ""
     },
     "metadata": {
      "application/vnd.bokehjs_exec.v0+json": {
       "id": "9a71ab2a-6095-47ce-aee2-01a60540d1b6"
      }
     },
     "output_type": "display_data"
    },
    {
     "data": {
      "application/vnd.jupyter.widget-view+json": {
       "model_id": "73999cbcc7794f999704a5b3bb78a720",
       "version_major": 2,
       "version_minor": 0
      },
      "text/plain": [
       "interactive(children=(FloatSlider(value=0.3, description='p', max=0.95, min=0.1, step=0.05), Output()), _dom_c…"
      ]
     },
     "metadata": {},
     "output_type": "display_data"
    }
   ],
   "source": [
    "p = .3\n",
    "n = 100         # maximal number of trials computed\n",
    "n_vis = 10      # maximal number of trials initially visible\n",
    "x = arange(n)   # inizialization\n",
    "plot1 = figure(title=\"PMF of X ~ NB(1,p)\", x_axis_label = \"number of failures before the first success\", # create an empty figure\n",
    "               y_axis_label = \"probability\", x_range=(-1,n_vis), y_range=(0,0.5), **options )\n",
    "plot1.title.text_font=\"times\"\n",
    "plot1.title.text_font_size=\"16pt\"\n",
    "r1 = plot1.vbar(x, top=[0 for i in x], bottom=0, # initialize barplot\n",
    "                width=0.8, color=\"#111188\", alpha=0.5 \n",
    "               )\n",
    "show(plot1, notebook_handle=True)\n",
    "    \n",
    "def update1(p):\n",
    "    data = {'x':x, 'top': nbinom.pmf(x,1,p) }\n",
    "    r1.data_source.data = data\n",
    "    push_notebook()\n",
    "\n",
    "interact(update1,\n",
    "         p = FloatSlider(description=\"p\", min=0.1, max=0.95,  step=0.05, value=p));"
   ]
  },
  {
   "cell_type": "markdown",
   "metadata": {},
   "source": [
    "## Esempio\n",
    "\n",
    "Assumiamo che la probabilità di successo di un ciclo di IVF è di circa il $30\\%$. Qual è la probabilità di successo in 4 clicli.<br> <br> \n",
    "\n",
    "## Risposta\n",
    "\n",
    "$\\qquad\\Pr(Y+1\\le 4)\\ =\\ \\Pr(Y\\le 3)\\qquad $ dove $Y\\sim NB(1,0.3)$"
   ]
  },
  {
   "cell_type": "code",
   "execution_count": 4,
   "metadata": {},
   "outputs": [
    {
     "data": {
      "text/plain": [
       "0.75990000000000002"
      ]
     },
     "execution_count": 4,
     "metadata": {},
     "output_type": "execute_result"
    }
   ],
   "source": [
    "nbinom.cdf(3,1,0.3)"
   ]
  },
  {
   "cell_type": "markdown",
   "metadata": {},
   "source": [
    "## Valore atteso e varianza\n",
    "\n",
    "Per calcolare il valore atteso usiamo un argomento basato sul calcolo differenziale $\\def\\E{{\\rm E}}$\n",
    "\n",
    "$\\qquad\\displaystyle\\E(Y)\n",
    "\\ \\ =\\ \\ \n",
    "\\sum_{i=1}^\\infty i\\,(1-p)^i\\,p\\qquad$ (l'addendo $i=0$ si può omettere)\n",
    "\n",
    "$\\qquad\\displaystyle\\phantom{\\E(Y)}\n",
    "\\ \\ =\\ \\ \n",
    "p\\,(1-p)\\,\\sum_{i=1}^\\infty i\\,(1-p)^{i-1}$\n",
    "\n",
    "$\\qquad\\displaystyle\\phantom{\\E(Y)}\n",
    "\\ \\ =\\ \\ \n",
    "p\\,(1-p)\\,\\sum_{i=1}^\\infty -\\dfrac{{\\rm d}(1-p)^i}{{\\rm d}p}$\n",
    "\n",
    "$\\qquad\\displaystyle\\phantom{\\E(Y)}\n",
    "\\ \\ =\\ \\ \n",
    "p\\,(1-p)\\,\\dfrac{{\\rm d}}{{\\rm d}p}\\sum_{i=1}^\\infty -(1-p)^i$\n",
    "\n",
    "$\\qquad\\displaystyle\\phantom{\\E(Y)}\n",
    "\\ \\ =\\ \\ \n",
    "p\\,(1-p)\\,\\dfrac{{\\rm d}}{{\\rm d}p}\\sum_{i=1}^\\infty -(1-p)^i$\n",
    "\n",
    "$\\qquad\\displaystyle\\phantom{\\E(Y)}\n",
    "\\ \\ =\\ \\ \n",
    "p\\,(1-p)\\,\\dfrac{{\\rm d}}{{\\rm d}p}-\\dfrac{1}{p}$\n",
    "\n",
    "$\\qquad\\displaystyle\\phantom{\\E(Y)}\n",
    "\\ \\ =\\ \\ $\n",
    "<mark style=\"padding:2ex;\">$\\dfrac{1-p}{p}$</mark>\n",
    "\n",
    "Il calcolo della varianza è simile (lo prendiamo per buono) $\\def\\Var{{\\rm Var}}$\n",
    "\n",
    "$\\qquad\\Var \\left(Y\\right)\\ \\ =\\ \\  $<mark style=\"padding-top:1.5ex;padding-bottom:2.5ex;\">$\\dfrac {1 - p} {p^2}$</mark>"
   ]
  },
  {
   "cell_type": "markdown",
   "metadata": {},
   "source": [
    "## Esempio\n",
    "\n",
    "Nell'esempio precedente quant'è in media il numero di cicli necessario per avere successo?<br> <br> \n",
    "\n",
    "## Risposta\n",
    "\n",
    "Se la variabile $Y\\sim NB(1,0.3)$ conta il numero di insuccessi, il numero di tentativi per avere il primo successo è $Y+1$.\n",
    "\n",
    "$\\qquad\\E(Y+1)\\ =\\ \\E(Y)+1\\ =\\ \\dfrac{0.7}{0.3}+1\\ =\\ 3.3$ "
   ]
  },
  {
   "cell_type": "markdown",
   "metadata": {},
   "source": [
    "## Esempio\n",
    "\n",
    "Nell'esempio precedente quanti cicli dobbiamo preventivare per avere una probabilità di successo del $90\\%$<br> <br> \n",
    "\n",
    "## Risposta\n",
    "\n",
    "Vogliamo $x$ (il minimo) tale che\n",
    "\n",
    "$\\qquad\\Pr(Y+1\\le x)\\ \\ge 0.90$\n",
    "\n",
    "Dal grafico sottostante si vede che $x=6$.\n",
    "\n",
    "Questo può essere calcolato con la funzione `nbinom(q,1,p)` dove `q=0.90`, `p=0.30`."
   ]
  },
  {
   "cell_type": "code",
   "execution_count": 5,
   "metadata": {
    "scrolled": false
   },
   "outputs": [
    {
     "data": {
      "text/html": [
       "\n",
       "\n",
       "\n",
       "\n",
       "\n",
       "\n",
       "  <div class=\"bk-root\" id=\"df2234e6-8e97-419e-9c80-959fecddb071\"></div>\n"
      ]
     },
     "metadata": {},
     "output_type": "display_data"
    },
    {
     "data": {
      "application/javascript": [
       "(function(root) {\n",
       "  function embed_document(root) {\n",
       "    \n",
       "  var docs_json = {\"96f518fa-5242-41d4-855f-94e8e91b9d21\":{\"roots\":{\"references\":[{\"attributes\":{\"axis_label\":\"number of failures before the first success\",\"formatter\":{\"id\":\"4aa96f94-1341-41d2-a294-758bf398d837\",\"type\":\"BasicTickFormatter\"},\"plot\":{\"id\":\"530c295f-459a-4922-8448-c8d2f8722174\",\"subtype\":\"Figure\",\"type\":\"Plot\"},\"ticker\":{\"id\":\"9b4e2cf3-5e13-4bba-9670-d6ffdb8f15ea\",\"type\":\"BasicTicker\"}},\"id\":\"14cf9757-cb30-4f8f-aba1-66c08e33d456\",\"type\":\"LinearAxis\"},{\"attributes\":{},\"id\":\"c546481d-477c-4d3a-97d1-2ec2f0dd9a83\",\"type\":\"BasicTickFormatter\"},{\"attributes\":{\"data_source\":{\"id\":\"a847b104-4628-434a-b731-f9ccb38bf27f\",\"type\":\"ColumnDataSource\"},\"glyph\":{\"id\":\"1d19a2f5-0c38-4f81-9732-3c0206f079d9\",\"type\":\"VBar\"},\"hover_glyph\":null,\"muted_glyph\":null,\"nonselection_glyph\":{\"id\":\"249ffd20-22f1-4aba-b0af-67490e6cb62e\",\"type\":\"VBar\"},\"selection_glyph\":null,\"view\":{\"id\":\"92dbeba4-a1eb-4481-b2ed-d11141f000c2\",\"type\":\"CDSView\"}},\"id\":\"8c4bf530-ffc0-4312-a6c7-f1ffd34d1151\",\"type\":\"GlyphRenderer\"},{\"attributes\":{},\"id\":\"4aa96f94-1341-41d2-a294-758bf398d837\",\"type\":\"BasicTickFormatter\"},{\"attributes\":{\"fill_alpha\":{\"value\":0.1},\"fill_color\":{\"value\":\"#1f77b4\"},\"line_alpha\":{\"value\":0.1},\"line_color\":{\"value\":\"#1f77b4\"},\"top\":{\"field\":\"top\"},\"width\":{\"value\":0.8},\"x\":{\"field\":\"x\"}},\"id\":\"249ffd20-22f1-4aba-b0af-67490e6cb62e\",\"type\":\"VBar\"},{\"attributes\":{},\"id\":\"3631020e-6728-4708-92b7-6046efda8cf3\",\"type\":\"UnionRenderers\"},{\"attributes\":{},\"id\":\"9b4e2cf3-5e13-4bba-9670-d6ffdb8f15ea\",\"type\":\"BasicTicker\"},{\"attributes\":{},\"id\":\"c4411efa-df52-46a2-a120-37300a08bf26\",\"type\":\"SaveTool\"},{\"attributes\":{},\"id\":\"f86bfb59-8571-4b28-9775-c731bab59d3f\",\"type\":\"Selection\"},{\"attributes\":{\"axis_label\":\"probability\",\"formatter\":{\"id\":\"c546481d-477c-4d3a-97d1-2ec2f0dd9a83\",\"type\":\"BasicTickFormatter\"},\"plot\":{\"id\":\"530c295f-459a-4922-8448-c8d2f8722174\",\"subtype\":\"Figure\",\"type\":\"Plot\"},\"ticker\":{\"id\":\"63e145e3-f3b0-49c6-b094-35115113ba41\",\"type\":\"BasicTicker\"}},\"id\":\"59062500-2745-451c-982c-2e7a1f00a68f\",\"type\":\"LinearAxis\"},{\"attributes\":{},\"id\":\"ae19e79e-7634-4e9d-8f94-8d218909f558\",\"type\":\"WheelZoomTool\"},{\"attributes\":{},\"id\":\"f4f55a5e-d754-4612-8761-e62cf80a60b1\",\"type\":\"ResetTool\"},{\"attributes\":{},\"id\":\"63e145e3-f3b0-49c6-b094-35115113ba41\",\"type\":\"BasicTicker\"},{\"attributes\":{\"dimension\":1,\"plot\":{\"id\":\"530c295f-459a-4922-8448-c8d2f8722174\",\"subtype\":\"Figure\",\"type\":\"Plot\"},\"ticker\":{\"id\":\"63e145e3-f3b0-49c6-b094-35115113ba41\",\"type\":\"BasicTicker\"}},\"id\":\"54fc4e8f-9753-4ca4-901f-7a38ec3fb5ba\",\"type\":\"Grid\"},{\"attributes\":{},\"id\":\"10818298-5aea-4562-a28e-d442bd9d73a6\",\"type\":\"PanTool\"},{\"attributes\":{\"callback\":null,\"data\":{\"top\":{\"__ndarray__\":\"MzMzMzMz0z9SuB6F61HgP58aL90kBuU/cF8HzhlR6D8C9tGpK5/qPwH5Eio4POw/tBTag1pd7T9L20tcvyfuP4EZNVpste4/25GLpZgY7z/msuFzBF7vP6FjhLecju8/JKzc5qCw7z9/eJqhcMjvP4yHUqQb2e8/ryugjMbk7z+UHnBi8ezvP5tIG/io8u8/oH95eqn27z+9P4iidvnvP2r5+KRs++8/l64UDcz87z/QEygJwv3vP98NnDlu/u8/6Tztweb+7z88RFkhO//vP8Sv8TB2/+8/PC6piJ//7z/3OUN5vP/vP5OoSLvQ/+8/NKl/6d7/7z+kKabW6P/vP1lQdMnv/+8/PziepvT/7z/FjTsO+P/vPz3jXHD6/+8/qzh0G/z/7z949GpG/f/vP7pEsRf+/+8/tkkvqv7/7z+Zs7oQ///vP+uwglj//+8/PuLBiv//7z9fHu6t///vP0IVjcb//+8/eyjJ1///7z9WnNnj///vPwmHS+z//+8/ht408v//7z9eNVj2///vP/W+Pfn//+8/eNJE+///7z/uLLD8///vP9qFrv3//+8/5ZBg/v//7z86Mt3+///vP/VvNP///+8/koFx////7z8aQZz////vP5Ituv///+8/5h/P////7z+Hyd3////vPxIN6P///+8/WTzv////7z/YQ/T////vPxfJ9////+8/9z/6////7z+T+fv////vP7Qu/f///+8/Fwf+////7z+Qnv7////vP5gI/////+8/0VL/////7z/Ghv/////vPySr/////+8/mcT/////7z9r1v/////vP+Xi/////+8/oOv/////7z+98f/////vPwT2/////+8/A/n/////7z8c+//////vP5P8/////+8/mv3/////7z9S/v/////vP9P+/////+8/Lv//////7z9t///////vP5n//////+8/uP//////7z/N///////vP93//////+8/5///////7z/v///////vP/T//////+8/+P//////7z/6///////vP/z//////+8//f//////7z8=\",\"dtype\":\"float64\",\"shape\":[100]},\"x\":[0,1,2,3,4,5,6,7,8,9,10,11,12,13,14,15,16,17,18,19,20,21,22,23,24,25,26,27,28,29,30,31,32,33,34,35,36,37,38,39,40,41,42,43,44,45,46,47,48,49,50,51,52,53,54,55,56,57,58,59,60,61,62,63,64,65,66,67,68,69,70,71,72,73,74,75,76,77,78,79,80,81,82,83,84,85,86,87,88,89,90,91,92,93,94,95,96,97,98,99]},\"selected\":{\"id\":\"f86bfb59-8571-4b28-9775-c731bab59d3f\",\"type\":\"Selection\"},\"selection_policy\":{\"id\":\"3631020e-6728-4708-92b7-6046efda8cf3\",\"type\":\"UnionRenderers\"}},\"id\":\"a847b104-4628-434a-b731-f9ccb38bf27f\",\"type\":\"ColumnDataSource\"},{\"attributes\":{\"fill_alpha\":{\"value\":0.5},\"fill_color\":{\"value\":\"#111188\"},\"line_alpha\":{\"value\":0.5},\"line_color\":{\"value\":\"#111188\"},\"top\":{\"field\":\"top\"},\"width\":{\"value\":0.8},\"x\":{\"field\":\"x\"}},\"id\":\"1d19a2f5-0c38-4f81-9732-3c0206f079d9\",\"type\":\"VBar\"},{\"attributes\":{\"below\":[{\"id\":\"14cf9757-cb30-4f8f-aba1-66c08e33d456\",\"type\":\"LinearAxis\"}],\"left\":[{\"id\":\"59062500-2745-451c-982c-2e7a1f00a68f\",\"type\":\"LinearAxis\"}],\"plot_height\":400,\"plot_width\":700,\"renderers\":[{\"id\":\"14cf9757-cb30-4f8f-aba1-66c08e33d456\",\"type\":\"LinearAxis\"},{\"id\":\"b5ae2409-33ba-4a38-b25e-4715cbdcb827\",\"type\":\"Grid\"},{\"id\":\"59062500-2745-451c-982c-2e7a1f00a68f\",\"type\":\"LinearAxis\"},{\"id\":\"54fc4e8f-9753-4ca4-901f-7a38ec3fb5ba\",\"type\":\"Grid\"},{\"id\":\"0f06c774-4cac-4509-9ecc-136cf8da4736\",\"type\":\"BoxAnnotation\"},{\"id\":\"8c4bf530-ffc0-4312-a6c7-f1ffd34d1151\",\"type\":\"GlyphRenderer\"}],\"title\":{\"id\":\"5d4f97f0-3900-46f3-b7cd-fa9c33627662\",\"type\":\"Title\"},\"toolbar\":{\"id\":\"18cb7099-68fc-41e1-86cf-0c680218a5d2\",\"type\":\"Toolbar\"},\"x_range\":{\"id\":\"4a7752f5-8fff-4352-b255-ed5ba7f28ca4\",\"type\":\"Range1d\"},\"x_scale\":{\"id\":\"c21dec88-2e56-4c26-8544-c1eb45d3db97\",\"type\":\"LinearScale\"},\"y_range\":{\"id\":\"ea7b81df-c352-4ba9-a13b-12e6bdff008e\",\"type\":\"Range1d\"},\"y_scale\":{\"id\":\"b0d123c8-d916-4fb2-9798-9fba6dcfaa4e\",\"type\":\"LinearScale\"}},\"id\":\"530c295f-459a-4922-8448-c8d2f8722174\",\"subtype\":\"Figure\",\"type\":\"Plot\"},{\"attributes\":{\"active_drag\":\"auto\",\"active_inspect\":\"auto\",\"active_multi\":null,\"active_scroll\":\"auto\",\"active_tap\":\"auto\",\"tools\":[{\"id\":\"10818298-5aea-4562-a28e-d442bd9d73a6\",\"type\":\"PanTool\"},{\"id\":\"ae19e79e-7634-4e9d-8f94-8d218909f558\",\"type\":\"WheelZoomTool\"},{\"id\":\"f4f55a5e-d754-4612-8761-e62cf80a60b1\",\"type\":\"ResetTool\"},{\"id\":\"c4411efa-df52-46a2-a120-37300a08bf26\",\"type\":\"SaveTool\"},{\"id\":\"d74793ea-d88f-4f7f-9dc9-d1f96bcc9300\",\"type\":\"CrosshairTool\"},{\"id\":\"908a2c1e-1c7a-4236-a30d-676400932cb7\",\"type\":\"BoxSelectTool\"}]},\"id\":\"18cb7099-68fc-41e1-86cf-0c680218a5d2\",\"type\":\"Toolbar\"},{\"attributes\":{\"callback\":null,\"end\":10,\"start\":-1},\"id\":\"4a7752f5-8fff-4352-b255-ed5ba7f28ca4\",\"type\":\"Range1d\"},{\"attributes\":{\"source\":{\"id\":\"a847b104-4628-434a-b731-f9ccb38bf27f\",\"type\":\"ColumnDataSource\"}},\"id\":\"92dbeba4-a1eb-4481-b2ed-d11141f000c2\",\"type\":\"CDSView\"},{\"attributes\":{\"plot\":{\"id\":\"530c295f-459a-4922-8448-c8d2f8722174\",\"subtype\":\"Figure\",\"type\":\"Plot\"},\"ticker\":{\"id\":\"9b4e2cf3-5e13-4bba-9670-d6ffdb8f15ea\",\"type\":\"BasicTicker\"}},\"id\":\"b5ae2409-33ba-4a38-b25e-4715cbdcb827\",\"type\":\"Grid\"},{\"attributes\":{},\"id\":\"d74793ea-d88f-4f7f-9dc9-d1f96bcc9300\",\"type\":\"CrosshairTool\"},{\"attributes\":{},\"id\":\"b0d123c8-d916-4fb2-9798-9fba6dcfaa4e\",\"type\":\"LinearScale\"},{\"attributes\":{\"callback\":null,\"overlay\":{\"id\":\"0f06c774-4cac-4509-9ecc-136cf8da4736\",\"type\":\"BoxAnnotation\"}},\"id\":\"908a2c1e-1c7a-4236-a30d-676400932cb7\",\"type\":\"BoxSelectTool\"},{\"attributes\":{},\"id\":\"c21dec88-2e56-4c26-8544-c1eb45d3db97\",\"type\":\"LinearScale\"},{\"attributes\":{\"plot\":null,\"text\":\"CDF of X ~ NB(1,p)\",\"text_font\":\"times\",\"text_font_size\":{\"value\":\"16pt\"}},\"id\":\"5d4f97f0-3900-46f3-b7cd-fa9c33627662\",\"type\":\"Title\"},{\"attributes\":{\"bottom_units\":\"screen\",\"fill_alpha\":{\"value\":0.5},\"fill_color\":{\"value\":\"lightgrey\"},\"left_units\":\"screen\",\"level\":\"overlay\",\"line_alpha\":{\"value\":1.0},\"line_color\":{\"value\":\"black\"},\"line_dash\":[4,4],\"line_width\":{\"value\":2},\"plot\":null,\"render_mode\":\"css\",\"right_units\":\"screen\",\"top_units\":\"screen\"},\"id\":\"0f06c774-4cac-4509-9ecc-136cf8da4736\",\"type\":\"BoxAnnotation\"},{\"attributes\":{\"callback\":null},\"id\":\"ea7b81df-c352-4ba9-a13b-12e6bdff008e\",\"type\":\"Range1d\"}],\"root_ids\":[\"530c295f-459a-4922-8448-c8d2f8722174\"]},\"title\":\"Bokeh Application\",\"version\":\"0.13.0\"}};\n",
       "  var render_items = [{\"docid\":\"96f518fa-5242-41d4-855f-94e8e91b9d21\",\"roots\":{\"530c295f-459a-4922-8448-c8d2f8722174\":\"df2234e6-8e97-419e-9c80-959fecddb071\"}}];\n",
       "  root.Bokeh.embed.embed_items_notebook(docs_json, render_items);\n",
       "\n",
       "  }\n",
       "  if (root.Bokeh !== undefined) {\n",
       "    embed_document(root);\n",
       "  } else {\n",
       "    var attempts = 0;\n",
       "    var timer = setInterval(function(root) {\n",
       "      if (root.Bokeh !== undefined) {\n",
       "        embed_document(root);\n",
       "        clearInterval(timer);\n",
       "      }\n",
       "      attempts++;\n",
       "      if (attempts > 100) {\n",
       "        console.log(\"Bokeh: ERROR: Unable to run BokehJS code because BokehJS library is missing\")\n",
       "        clearInterval(timer);\n",
       "      }\n",
       "    }, 10, root)\n",
       "  }\n",
       "})(window);"
      ],
      "application/vnd.bokehjs_exec.v0+json": ""
     },
     "metadata": {
      "application/vnd.bokehjs_exec.v0+json": {
       "id": "530c295f-459a-4922-8448-c8d2f8722174"
      }
     },
     "output_type": "display_data"
    }
   ],
   "source": [
    "plot2 = figure(title=\"CDF of X ~ NB(1,p)\", x_axis_label = \"number of failures before the first success\",\n",
    "               y_axis_label = \"probability\", x_range=(-1,10), y_range=(0,1), **options )\n",
    "plot2.title.text_font=\"times\"\n",
    "plot2.title.text_font_size=\"16pt\"\n",
    "plot2.vbar(x, top=nbinom.cdf(x,1,.3), bottom=0, # initialize barplot\n",
    "                width=0.8, color=\"#111188\", alpha=0.5)\n",
    "show(plot2)"
   ]
  },
  {
   "cell_type": "code",
   "execution_count": 6,
   "metadata": {},
   "outputs": [
    {
     "data": {
      "text/plain": [
       "6.0"
      ]
     },
     "execution_count": 6,
     "metadata": {},
     "output_type": "execute_result"
    }
   ],
   "source": [
    "nbinom.ppf(.9,1,0.3)"
   ]
  },
  {
   "cell_type": "markdown",
   "metadata": {},
   "source": [
    "<div class=\"warn\">Attenzione terminologia non uniforme</div>\n",
    "\n",
    "Qualcuno definisce la v.a. geometrica come la funzione che conta il *numero di tentativi fino (compreso) al primo successo*. In questo caso la v.a. ha valori in $\\{1,2,\\dots\\}$.\n",
    "\n",
    "Qualcuno (più raramente, ma comunque nel testo 2) rovescia successi e insuccessi.\n",
    "\n",
    "Noi chiamiamo quest'ultima v.a. geometrica <mark>traslata</mark> oppure <mark class=\"ita\">shifted</mark>. Chiaramente qualcun'altro chiama translata la nostra non translata."
   ]
  },
  {
   "cell_type": "markdown",
   "metadata": {},
   "source": [
    "# La binomiale negativa\n",
    "\n",
    "Le v.a. binomiale negative generalizzano le v.a. geometriche. Fissato un intero $n$ e una probabilità di successo $p$ la variabile $Y$ conta il numero di insuccessi ottenuti prima di avere l'$n$-esimo successo.\n",
    "\n",
    "Per esempio $Y\\sim NB(2,p)$\n",
    "\n",
    "$Y(11)= 0$ \n",
    "\n",
    "$Y(101) = 1$\n",
    "\n",
    "$Y(011) = 1$\n",
    "\n",
    "$Y(0011) = 2$ \n",
    "\n",
    "$Y(1001) = 2$\n",
    "\n",
    "$Y(0101) = 2$\n",
    "\n",
    "$Y(00101) = 3$\n",
    "\n",
    "A volte è utile sapere a quale tentativo otteniamo l'$n$-esimo successo. Se $Y\\sim NB(n,p)$ questo è dato dall variabile $Y+n$."
   ]
  },
  {
   "cell_type": "code",
   "execution_count": 7,
   "metadata": {},
   "outputs": [
    {
     "data": {
      "text/html": [
       "\n",
       "\n",
       "\n",
       "\n",
       "\n",
       "\n",
       "  <div class=\"bk-root\" id=\"b01e26f4-c95a-413f-a695-0c6e5df1d368\"></div>\n"
      ]
     },
     "metadata": {},
     "output_type": "display_data"
    },
    {
     "data": {
      "application/javascript": [
       "(function(root) {\n",
       "  function embed_document(root) {\n",
       "    \n",
       "  var docs_json = {\"2ff4f3f6-bab5-4873-ad88-e1596b3fc1bb\":{\"roots\":{\"references\":[{\"attributes\":{},\"id\":\"3b1f45ca-faa2-491c-92b6-cf03e76e343b\",\"type\":\"LinearScale\"},{\"attributes\":{\"data_source\":{\"id\":\"38ebbbda-1ba7-45c6-8698-d42809ab6a4b\",\"type\":\"ColumnDataSource\"},\"glyph\":{\"id\":\"a08b2558-ce82-47d4-8e11-ff0a16428d03\",\"type\":\"VBar\"},\"hover_glyph\":null,\"muted_glyph\":null,\"nonselection_glyph\":{\"id\":\"77c3dbd2-bbe2-4d18-bca3-bf15b6668c77\",\"type\":\"VBar\"},\"selection_glyph\":null,\"view\":{\"id\":\"aa5b6362-c94d-48ce-accd-f08d164ad8c1\",\"type\":\"CDSView\"}},\"id\":\"9f7e4c1d-c051-4244-9792-cf14e9f4582e\",\"type\":\"GlyphRenderer\"},{\"attributes\":{\"plot\":{\"id\":\"a05fd04e-eb23-4136-9614-d3dc66cdf1f0\",\"subtype\":\"Figure\",\"type\":\"Plot\"},\"ticker\":{\"id\":\"0d11cd39-d4e9-410f-9efb-260ece8eaa1c\",\"type\":\"BasicTicker\"}},\"id\":\"17f26bd5-7fea-4a81-8aa2-828e94f58fb1\",\"type\":\"Grid\"},{\"attributes\":{\"axis_label\":\"number of failure before the n-th success\",\"formatter\":{\"id\":\"0d1f1ec7-b045-470d-ba35-7286e0925902\",\"type\":\"BasicTickFormatter\"},\"plot\":{\"id\":\"a05fd04e-eb23-4136-9614-d3dc66cdf1f0\",\"subtype\":\"Figure\",\"type\":\"Plot\"},\"ticker\":{\"id\":\"0d11cd39-d4e9-410f-9efb-260ece8eaa1c\",\"type\":\"BasicTicker\"}},\"id\":\"df230c98-eece-461f-8353-58c0ae7f5da2\",\"type\":\"LinearAxis\"},{\"attributes\":{},\"id\":\"5da713d1-e9f2-40df-b423-951f538fefc2\",\"type\":\"BasicTickFormatter\"},{\"attributes\":{},\"id\":\"0d11cd39-d4e9-410f-9efb-260ece8eaa1c\",\"type\":\"BasicTicker\"},{\"attributes\":{\"axis_label\":\"probability\",\"formatter\":{\"id\":\"5da713d1-e9f2-40df-b423-951f538fefc2\",\"type\":\"BasicTickFormatter\"},\"plot\":{\"id\":\"a05fd04e-eb23-4136-9614-d3dc66cdf1f0\",\"subtype\":\"Figure\",\"type\":\"Plot\"},\"ticker\":{\"id\":\"ebd30570-6ecb-4eec-b373-63f11c1c06cf\",\"type\":\"BasicTicker\"}},\"id\":\"79eb4714-eefb-4f41-8269-ed603afc2955\",\"type\":\"LinearAxis\"},{\"attributes\":{},\"id\":\"ebd30570-6ecb-4eec-b373-63f11c1c06cf\",\"type\":\"BasicTicker\"},{\"attributes\":{\"dimension\":1,\"plot\":{\"id\":\"a05fd04e-eb23-4136-9614-d3dc66cdf1f0\",\"subtype\":\"Figure\",\"type\":\"Plot\"},\"ticker\":{\"id\":\"ebd30570-6ecb-4eec-b373-63f11c1c06cf\",\"type\":\"BasicTicker\"}},\"id\":\"7a8791c0-3958-4629-8af0-f25cf8f5814e\",\"type\":\"Grid\"},{\"attributes\":{\"fill_alpha\":{\"value\":0.5},\"fill_color\":{\"value\":\"#111188\"},\"line_alpha\":{\"value\":0.5},\"line_color\":{\"value\":\"#111188\"},\"top\":{\"field\":\"top\"},\"width\":{\"value\":0.8},\"x\":{\"field\":\"x\"}},\"id\":\"a08b2558-ce82-47d4-8e11-ff0a16428d03\",\"type\":\"VBar\"},{\"attributes\":{},\"id\":\"0d1f1ec7-b045-470d-ba35-7286e0925902\",\"type\":\"BasicTickFormatter\"},{\"attributes\":{\"below\":[{\"id\":\"df230c98-eece-461f-8353-58c0ae7f5da2\",\"type\":\"LinearAxis\"}],\"left\":[{\"id\":\"79eb4714-eefb-4f41-8269-ed603afc2955\",\"type\":\"LinearAxis\"}],\"plot_height\":400,\"plot_width\":700,\"renderers\":[{\"id\":\"df230c98-eece-461f-8353-58c0ae7f5da2\",\"type\":\"LinearAxis\"},{\"id\":\"17f26bd5-7fea-4a81-8aa2-828e94f58fb1\",\"type\":\"Grid\"},{\"id\":\"79eb4714-eefb-4f41-8269-ed603afc2955\",\"type\":\"LinearAxis\"},{\"id\":\"7a8791c0-3958-4629-8af0-f25cf8f5814e\",\"type\":\"Grid\"},{\"id\":\"f8d75781-3025-4929-b665-3341858145d3\",\"type\":\"BoxAnnotation\"},{\"id\":\"9f7e4c1d-c051-4244-9792-cf14e9f4582e\",\"type\":\"GlyphRenderer\"}],\"title\":{\"id\":\"77583921-6160-4999-8b4d-bdb8507f3b59\",\"type\":\"Title\"},\"toolbar\":{\"id\":\"abe4e37e-e8a0-4c09-a33a-0129f48640f3\",\"type\":\"Toolbar\"},\"x_range\":{\"id\":\"a65be460-3377-48dc-81a1-451e9f0f5c66\",\"type\":\"Range1d\"},\"x_scale\":{\"id\":\"1e9fd31f-c6a6-4262-a816-132eef72aead\",\"type\":\"LinearScale\"},\"y_range\":{\"id\":\"53121353-585c-4575-86ef-f51e94357bcd\",\"type\":\"Range1d\"},\"y_scale\":{\"id\":\"3b1f45ca-faa2-491c-92b6-cf03e76e343b\",\"type\":\"LinearScale\"}},\"id\":\"a05fd04e-eb23-4136-9614-d3dc66cdf1f0\",\"subtype\":\"Figure\",\"type\":\"Plot\"},{\"attributes\":{},\"id\":\"85013c92-b45a-48c3-98c6-107bc8f262af\",\"type\":\"UnionRenderers\"},{\"attributes\":{},\"id\":\"cb7a3560-378e-4a39-8a58-8d954ff8758a\",\"type\":\"PanTool\"},{\"attributes\":{\"callback\":null,\"data\":{\"top\":[0,0,0,0,0,0,0,0,0,0,0,0,0,0,0,0,0,0,0,0,0,0,0,0,0,0,0,0,0,0,0,0,0,0,0,0,0,0,0,0,0,0,0,0,0,0,0,0,0,0,0,0,0,0,0,0,0,0,0,0,0,0,0,0,0,0,0,0,0,0,0,0,0,0,0,0,0,0,0,0,0,0,0,0,0,0,0,0,0,0,0,0,0,0,0,0,0,0,0,0],\"x\":[0,1,2,3,4,5,6,7,8,9,10,11,12,13,14,15,16,17,18,19,20,21,22,23,24,25,26,27,28,29,30,31,32,33,34,35,36,37,38,39,40,41,42,43,44,45,46,47,48,49,50,51,52,53,54,55,56,57,58,59,60,61,62,63,64,65,66,67,68,69,70,71,72,73,74,75,76,77,78,79,80,81,82,83,84,85,86,87,88,89,90,91,92,93,94,95,96,97,98,99]},\"selected\":{\"id\":\"505abcf6-93fb-4094-832c-6b27adf326ce\",\"type\":\"Selection\"},\"selection_policy\":{\"id\":\"85013c92-b45a-48c3-98c6-107bc8f262af\",\"type\":\"UnionRenderers\"}},\"id\":\"38ebbbda-1ba7-45c6-8698-d42809ab6a4b\",\"type\":\"ColumnDataSource\"},{\"attributes\":{\"fill_alpha\":{\"value\":0.1},\"fill_color\":{\"value\":\"#1f77b4\"},\"line_alpha\":{\"value\":0.1},\"line_color\":{\"value\":\"#1f77b4\"},\"top\":{\"field\":\"top\"},\"width\":{\"value\":0.8},\"x\":{\"field\":\"x\"}},\"id\":\"77c3dbd2-bbe2-4d18-bca3-bf15b6668c77\",\"type\":\"VBar\"},{\"attributes\":{},\"id\":\"0506aff1-2b01-4613-8e2c-048eb8a2858c\",\"type\":\"WheelZoomTool\"},{\"attributes\":{\"plot\":null,\"text\":\"PMF of X ~ NB(n,p)\",\"text_font\":\"times\",\"text_font_size\":{\"value\":\"16pt\"}},\"id\":\"77583921-6160-4999-8b4d-bdb8507f3b59\",\"type\":\"Title\"},{\"attributes\":{},\"id\":\"e588dac3-bcd8-449d-a6c4-5c5687960e22\",\"type\":\"ResetTool\"},{\"attributes\":{\"callback\":null,\"end\":20,\"start\":-1},\"id\":\"a65be460-3377-48dc-81a1-451e9f0f5c66\",\"type\":\"Range1d\"},{\"attributes\":{},\"id\":\"15314561-f5b0-405d-86f2-e312983461e5\",\"type\":\"SaveTool\"},{\"attributes\":{\"active_drag\":\"auto\",\"active_inspect\":\"auto\",\"active_multi\":null,\"active_scroll\":\"auto\",\"active_tap\":\"auto\",\"tools\":[{\"id\":\"cb7a3560-378e-4a39-8a58-8d954ff8758a\",\"type\":\"PanTool\"},{\"id\":\"0506aff1-2b01-4613-8e2c-048eb8a2858c\",\"type\":\"WheelZoomTool\"},{\"id\":\"e588dac3-bcd8-449d-a6c4-5c5687960e22\",\"type\":\"ResetTool\"},{\"id\":\"15314561-f5b0-405d-86f2-e312983461e5\",\"type\":\"SaveTool\"},{\"id\":\"79c846b2-3a4a-47a9-8c23-eb6f389f24da\",\"type\":\"CrosshairTool\"},{\"id\":\"e94a806a-87fd-4b7b-a1cf-74374d36c8bf\",\"type\":\"BoxSelectTool\"}]},\"id\":\"abe4e37e-e8a0-4c09-a33a-0129f48640f3\",\"type\":\"Toolbar\"},{\"attributes\":{},\"id\":\"79c846b2-3a4a-47a9-8c23-eb6f389f24da\",\"type\":\"CrosshairTool\"},{\"attributes\":{\"callback\":null,\"overlay\":{\"id\":\"f8d75781-3025-4929-b665-3341858145d3\",\"type\":\"BoxAnnotation\"}},\"id\":\"e94a806a-87fd-4b7b-a1cf-74374d36c8bf\",\"type\":\"BoxSelectTool\"},{\"attributes\":{},\"id\":\"1e9fd31f-c6a6-4262-a816-132eef72aead\",\"type\":\"LinearScale\"},{\"attributes\":{\"bottom_units\":\"screen\",\"fill_alpha\":{\"value\":0.5},\"fill_color\":{\"value\":\"lightgrey\"},\"left_units\":\"screen\",\"level\":\"overlay\",\"line_alpha\":{\"value\":1.0},\"line_color\":{\"value\":\"black\"},\"line_dash\":[4,4],\"line_width\":{\"value\":2},\"plot\":null,\"render_mode\":\"css\",\"right_units\":\"screen\",\"top_units\":\"screen\"},\"id\":\"f8d75781-3025-4929-b665-3341858145d3\",\"type\":\"BoxAnnotation\"},{\"attributes\":{\"callback\":null,\"end\":0.5},\"id\":\"53121353-585c-4575-86ef-f51e94357bcd\",\"type\":\"Range1d\"},{\"attributes\":{},\"id\":\"505abcf6-93fb-4094-832c-6b27adf326ce\",\"type\":\"Selection\"},{\"attributes\":{\"source\":{\"id\":\"38ebbbda-1ba7-45c6-8698-d42809ab6a4b\",\"type\":\"ColumnDataSource\"}},\"id\":\"aa5b6362-c94d-48ce-accd-f08d164ad8c1\",\"type\":\"CDSView\"}],\"root_ids\":[\"a05fd04e-eb23-4136-9614-d3dc66cdf1f0\"]},\"title\":\"Bokeh Application\",\"version\":\"0.13.0\"}};\n",
       "  var render_items = [{\"docid\":\"2ff4f3f6-bab5-4873-ad88-e1596b3fc1bb\",\"notebook_comms_target\":\"e3803bca-a447-4326-ba8c-ffb32f40389c\",\"roots\":{\"a05fd04e-eb23-4136-9614-d3dc66cdf1f0\":\"b01e26f4-c95a-413f-a695-0c6e5df1d368\"}}];\n",
       "  root.Bokeh.embed.embed_items_notebook(docs_json, render_items);\n",
       "\n",
       "  }\n",
       "  if (root.Bokeh !== undefined) {\n",
       "    embed_document(root);\n",
       "  } else {\n",
       "    var attempts = 0;\n",
       "    var timer = setInterval(function(root) {\n",
       "      if (root.Bokeh !== undefined) {\n",
       "        embed_document(root);\n",
       "        clearInterval(timer);\n",
       "      }\n",
       "      attempts++;\n",
       "      if (attempts > 100) {\n",
       "        console.log(\"Bokeh: ERROR: Unable to run BokehJS code because BokehJS library is missing\")\n",
       "        clearInterval(timer);\n",
       "      }\n",
       "    }, 10, root)\n",
       "  }\n",
       "})(window);"
      ],
      "application/vnd.bokehjs_exec.v0+json": ""
     },
     "metadata": {
      "application/vnd.bokehjs_exec.v0+json": {
       "id": "a05fd04e-eb23-4136-9614-d3dc66cdf1f0"
      }
     },
     "output_type": "display_data"
    },
    {
     "data": {
      "application/vnd.jupyter.widget-view+json": {
       "model_id": "85bf877fdc534878a93742a7734aeec9",
       "version_major": 2,
       "version_minor": 0
      },
      "text/plain": [
       "interactive(children=(IntSlider(value=1, description='n', max=5, min=1), FloatSlider(value=0.3, description='p…"
      ]
     },
     "metadata": {},
     "output_type": "display_data"
    }
   ],
   "source": [
    "p = .3\n",
    "n = 1\n",
    "n_max = 100             # maximal number of trials computed\n",
    "n_vis = 20              # maximal number of trials initially visible\n",
    "x = arange(n_max)       # inizialization\n",
    "plot1 = figure(title=\"PMF of X ~ NB(n,p)\", x_axis_label = \"number of failure before the n-th success\", # create an empty figure\n",
    "               y_axis_label = \"probability\", x_range=(-1,n_vis), y_range=(0,0.5), **options )\n",
    "plot1.title.text_font=\"times\"\n",
    "plot1.title.text_font_size=\"16pt\"\n",
    "r1 = plot1.vbar(x, top=[0 for i in x], bottom=0, # initialize barplot\n",
    "                width=0.8, color=\"#111188\", alpha=0.5 \n",
    "               )\n",
    "show(plot1, notebook_handle=True)\n",
    "    \n",
    "def update1(n,p):\n",
    "    data = {'x':x, 'top': nbinom.pmf(x,n,p) }\n",
    "    r1.data_source.data = data\n",
    "    push_notebook()\n",
    "\n",
    "interact(update1,\n",
    "         n = IntSlider  (description=\"n\", min=1, max=5, step=1, value=1), \n",
    "         p = FloatSlider(description=\"p\", min=0.1, max=0.95,  step=0.05, value=p));"
   ]
  },
  {
   "cell_type": "markdown",
   "metadata": {},
   "source": [
    "## Valore atteso e varianza\n",
    "\n",
    "$\\qquad\\E(Y)\\ =\\ \\dfrac{n(1-p)}{p}$\n",
    "\n",
    "$\\qquad\\Var(Y)\\ =\\ \\dfrac{n(1-p)}{p^2}$\n",
    "\n",
    "È facile rendersi conto della correttezza di queste se osserva che  $Y\\sim NB(n,p)$ può essere ottenuta sommando $n$ v.a.i. geometriche con parametro $p$. Ovvero, se $Y_i\\sim NB(1,p)$ sono indipendenti allora\n",
    "\n",
    "$\\qquad Y\\ =\\  Y_1+\\dots+Y_n\\sim NB(n,p)$\n",
    "\n",
    "In effetti il numero di $0$ che oserviamo tra l'$i$-esimo e l'$i+1$-esimo $1$ è distribuito come una distribuzione geometria."
   ]
  },
  {
   "cell_type": "markdown",
   "metadata": {},
   "source": [
    "## Esempio\n",
    "\n",
    "Una certa apparecchiatura si inceppa quando entra in contatto per 6 volte con un'impurità. Ad ogni ciclo di lavorazione la probabilità di venire a contatto con un impurità è del $20\\%$. \n",
    "\n",
    "1. Quant'è la probabilità che l'apparecchiatura sopporti almeno 20 cicli?\n",
    "\n",
    "2. Quanti cicli durarà in media l'apparecchiatura?<br><br>\n",
    "\n",
    "\n",
    "\n",
    "## Risposta 1\n",
    "\n",
    "Il successo qui è il venire a contatto con un impurità. La variabile $Y+6$, dove $Y\\sim NB(6, 0.2)$, dà il numero del ciclo a cui l'apparecchiatura incontra la $6^{\\rm a}$ impurità.\n",
    "\n",
    "La probabilità richiesta è quindi \n",
    "\n",
    "$\\qquad\\Pr(Y+6>20)\\ =\\ 1-\\Pr(Y\\le 14)\\ =\\ 0.80$"
   ]
  },
  {
   "cell_type": "code",
   "execution_count": 8,
   "metadata": {},
   "outputs": [
    {
     "data": {
      "text/plain": [
       "0.80420778545954907"
      ]
     },
     "execution_count": 8,
     "metadata": {},
     "output_type": "execute_result"
    }
   ],
   "source": [
    "1-nbinom.cdf(14,6,.2)"
   ]
  },
  {
   "cell_type": "markdown",
   "metadata": {},
   "source": [
    "## Risposta 2\n",
    "\n",
    "L'aspettativa di vita dell'apparecchiatura è\n",
    "\n",
    "$\\qquad\\E(Y+6)\\ =\\ \\dfrac{6\\cdot 0.8}{0.2}+5\\ =\\ 29\\qquad$ cicli\n",
    "\n",
    "ovvero al $30$-esimo ciclo si rompe."
   ]
  },
  {
   "cell_type": "markdown",
   "metadata": {},
   "source": [
    "## Esempio\n",
    "\n",
    "Una monetina ha nominalmente probabilità di dare Testa $p=0.1$. Si sospetta che invece sia minore. Facciamo il seguente test di ipotesi.\n",
    "\n",
    "$H_0:\\quad$ $p=0.1$\n",
    "\n",
    "$H_0:\\quad$ $p>0.1$\n",
    "\n",
    "Lanciamo la monetina ripetute volte fino ad ottenere 10 volte Testa. Sia $c$ il numero di volte in cui abbiamo ottenuto Croce prima di ottenere Testa per la 10a volta. Vogliamo sapere con che p-valore possiamo rigettare l'ipotesi nulla."
   ]
  },
  {
   "cell_type": "code",
   "execution_count": 9,
   "metadata": {},
   "outputs": [
    {
     "data": {
      "text/html": [
       "\n",
       "\n",
       "\n",
       "\n",
       "\n",
       "\n",
       "  <div class=\"bk-root\" id=\"e7c0bc57-b0f1-40f3-905a-3945e07760ae\"></div>\n"
      ]
     },
     "metadata": {},
     "output_type": "display_data"
    },
    {
     "data": {
      "application/javascript": [
       "(function(root) {\n",
       "  function embed_document(root) {\n",
       "    \n",
       "  var docs_json = {\"d9a06cfd-9ed9-43f8-a61b-5ba582db73c2\":{\"roots\":{\"references\":[{\"attributes\":{\"below\":[{\"id\":\"302a3358-d63d-4b14-9675-9e1f4c423efa\",\"type\":\"LinearAxis\"}],\"left\":[{\"id\":\"89c17793-efcc-43af-9a2b-3615186061e1\",\"type\":\"LinearAxis\"}],\"plot_height\":400,\"plot_width\":700,\"renderers\":[{\"id\":\"302a3358-d63d-4b14-9675-9e1f4c423efa\",\"type\":\"LinearAxis\"},{\"id\":\"ed04f697-f9c6-47b5-9966-aab156002d46\",\"type\":\"Grid\"},{\"id\":\"89c17793-efcc-43af-9a2b-3615186061e1\",\"type\":\"LinearAxis\"},{\"id\":\"e2c973e8-7a8b-4a4e-b8c9-af0a40c0a9fd\",\"type\":\"Grid\"},{\"id\":\"e6dec54d-a7cf-46d0-86d7-58e34ed2bb13\",\"type\":\"BoxAnnotation\"},{\"id\":\"b9ecf23e-9b94-4b80-9b36-5d64df4963eb\",\"type\":\"GlyphRenderer\"},{\"id\":\"dff8cc3e-7e90-4ae7-bf80-4c18814d25ea\",\"type\":\"GlyphRenderer\"}],\"title\":{\"id\":\"29010efa-5331-47fe-82a0-df0c1fe8f3ba\",\"type\":\"Title\"},\"toolbar\":{\"id\":\"447e6282-ffbb-4c88-afb4-44f4ef028797\",\"type\":\"Toolbar\"},\"x_range\":{\"id\":\"6e0b5514-dc25-4c8c-9018-a3d7a4a742e0\",\"type\":\"Range1d\"},\"x_scale\":{\"id\":\"e9f7dd0d-1cea-441b-a354-8cd8915603a1\",\"type\":\"LinearScale\"},\"y_range\":{\"id\":\"e682649a-e3ed-4aff-9f82-dba51bf8818c\",\"type\":\"Range1d\"},\"y_scale\":{\"id\":\"12e109ec-e4da-4c1b-81ff-ef17daaf2f9b\",\"type\":\"LinearScale\"}},\"id\":\"a27a82ea-5f45-4350-a988-e87c918d5b8c\",\"subtype\":\"Figure\",\"type\":\"Plot\"},{\"attributes\":{\"callback\":null,\"data\":{\"top\":[0,0,0,0,0,0,0,0,0,0,0,0,0,0,0,0,0,0,0,0,0,0,0,0,0,0,0,0,0,0,0,0,0,0,0,0,0,0,0,0,0,0,0,0,0,0,0,0,0,0,0,0,0,0,0,0,0,0,0,0,0,0,0,0,0,0,0,0,0,0,0,0,0,0,0,0,0,0,0,0,0,0,0,0,0,0,0,0,0,0,0,0,0,0,0,0,0,0,0,0,0,0,0,0,0,0,0,0,0,0,0,0,0,0,0,0,0,0,0,0,0,0,0,0,0,0,0,0,0,0,0,0,0,0,0,0,0,0,0,0,0,0,0,0,0,0,0,0,0,0,0,0,0,0,0,0,0,0,0,0,0,0,0,0,0,0,0,0,0,0,0,0,0,0,0,0,0,0,0,0,0,0,0,0,0,0,0,0,0,0,0,0,0,0,0,0,0,0,0,0],\"x\":[0,1,2,3,4,5,6,7,8,9,10,11,12,13,14,15,16,17,18,19,20,21,22,23,24,25,26,27,28,29,30,31,32,33,34,35,36,37,38,39,40,41,42,43,44,45,46,47,48,49,50,51,52,53,54,55,56,57,58,59,60,61,62,63,64,65,66,67,68,69,70,71,72,73,74,75,76,77,78,79,80,81,82,83,84,85,86,87,88,89,90,91,92,93,94,95,96,97,98,99,100,101,102,103,104,105,106,107,108,109,110,111,112,113,114,115,116,117,118,119,120,121,122,123,124,125,126,127,128,129,130,131,132,133,134,135,136,137,138,139,140,141,142,143,144,145,146,147,148,149,150,151,152,153,154,155,156,157,158,159,160,161,162,163,164,165,166,167,168,169,170,171,172,173,174,175,176,177,178,179,180,181,182,183,184,185,186,187,188,189,190,191,192,193,194,195,196,197,198,199]},\"selected\":{\"id\":\"1ba8934e-ec2f-42fc-816b-ff575f236807\",\"type\":\"Selection\"},\"selection_policy\":{\"id\":\"cf6fa0b4-99ab-4628-ba6e-0c3438d23b48\",\"type\":\"UnionRenderers\"}},\"id\":\"8033d655-03dd-4846-846a-c0790a1c6280\",\"type\":\"ColumnDataSource\"},{\"attributes\":{\"plot\":null,\"text\":\"PMF of X ~ NB(10,p)\",\"text_font\":\"times\",\"text_font_size\":{\"value\":\"16pt\"}},\"id\":\"29010efa-5331-47fe-82a0-df0c1fe8f3ba\",\"type\":\"Title\"},{\"attributes\":{\"callback\":null,\"data\":{\"top\":[0,0,0,0,0,0,0,0,0,0,0,0,0,0,0,0,0,0,0,0,0,0,0,0,0,0,0,0,0,0,0,0,0,0,0,0,0,0,0,0,0,0,0,0,0,0,0,0,0,0,0,0,0,0,0,0,0,0,0,0,0,0,0,0,0,0,0,0,0,0,0,0,0,0,0,0,0,0,0,0,0,0,0,0,0,0,0,0,0,0,0,0,0,0,0,0,0,0,0,0,0,0,0,0,0,0,0,0,0,0,0,0,0,0,0,0,0,0,0,0,0,0,0,0,0,0,0,0,0,0,0,0,0,0,0,0,0,0,0,0,0,0,0,0,0,0,0,0,0,0,0,0,0,0,0,0,0,0,0,0,0,0,0,0,0,0,0,0,0,0,0,0,0,0,0,0,0,0,0,0,0,0,0,0,0,0,0,0,0,0,0,0,0,0,0,0,0,0,0,0],\"x\":[0,1,2,3,4,5,6,7,8,9,10,11,12,13,14,15,16,17,18,19,20,21,22,23,24,25,26,27,28,29,30,31,32,33,34,35,36,37,38,39,40,41,42,43,44,45,46,47,48,49,50,51,52,53,54,55,56,57,58,59,60,61,62,63,64,65,66,67,68,69,70,71,72,73,74,75,76,77,78,79,80,81,82,83,84,85,86,87,88,89,90,91,92,93,94,95,96,97,98,99,100,101,102,103,104,105,106,107,108,109,110,111,112,113,114,115,116,117,118,119,120,121,122,123,124,125,126,127,128,129,130,131,132,133,134,135,136,137,138,139,140,141,142,143,144,145,146,147,148,149,150,151,152,153,154,155,156,157,158,159,160,161,162,163,164,165,166,167,168,169,170,171,172,173,174,175,176,177,178,179,180,181,182,183,184,185,186,187,188,189,190,191,192,193,194,195,196,197,198,199]},\"selected\":{\"id\":\"549c1d8a-c810-4137-b57a-e4ac82ccf838\",\"type\":\"Selection\"},\"selection_policy\":{\"id\":\"0477d362-5434-420a-a4f2-340d67207420\",\"type\":\"UnionRenderers\"}},\"id\":\"f0339e29-30d2-49da-bd3c-a44790bf8001\",\"type\":\"ColumnDataSource\"},{\"attributes\":{\"data_source\":{\"id\":\"f0339e29-30d2-49da-bd3c-a44790bf8001\",\"type\":\"ColumnDataSource\"},\"glyph\":{\"id\":\"4e792e2a-b9a9-4444-a226-5767a874329e\",\"type\":\"VBar\"},\"hover_glyph\":null,\"muted_glyph\":null,\"nonselection_glyph\":{\"id\":\"f40dc9b4-9adf-405a-8e27-e5b80a7b5701\",\"type\":\"VBar\"},\"selection_glyph\":null,\"view\":{\"id\":\"7991b3bc-0958-4389-a6cf-0a20179a607f\",\"type\":\"CDSView\"}},\"id\":\"dff8cc3e-7e90-4ae7-bf80-4c18814d25ea\",\"type\":\"GlyphRenderer\"},{\"attributes\":{\"callback\":null,\"end\":80,\"start\":-1},\"id\":\"6e0b5514-dc25-4c8c-9018-a3d7a4a742e0\",\"type\":\"Range1d\"},{\"attributes\":{\"active_drag\":\"auto\",\"active_inspect\":\"auto\",\"active_multi\":null,\"active_scroll\":\"auto\",\"active_tap\":\"auto\",\"tools\":[{\"id\":\"f68b628f-c5bc-468a-a0aa-18557e589cb5\",\"type\":\"PanTool\"},{\"id\":\"6347e225-a9a5-4ced-b3df-41b71ed056ca\",\"type\":\"WheelZoomTool\"},{\"id\":\"4784a72a-718d-4ab3-af9f-ef76e64d3cd2\",\"type\":\"ResetTool\"},{\"id\":\"ac01727e-a5a2-4316-a7ab-38c920225419\",\"type\":\"SaveTool\"},{\"id\":\"090af2b2-b124-4c48-be32-33504883c007\",\"type\":\"CrosshairTool\"},{\"id\":\"7a045add-3625-4ca8-947e-1b254938a783\",\"type\":\"BoxSelectTool\"}]},\"id\":\"447e6282-ffbb-4c88-afb4-44f4ef028797\",\"type\":\"Toolbar\"},{\"attributes\":{},\"id\":\"e9f7dd0d-1cea-441b-a354-8cd8915603a1\",\"type\":\"LinearScale\"},{\"attributes\":{\"callback\":null,\"end\":0.04},\"id\":\"e682649a-e3ed-4aff-9f82-dba51bf8818c\",\"type\":\"Range1d\"},{\"attributes\":{},\"id\":\"12e109ec-e4da-4c1b-81ff-ef17daaf2f9b\",\"type\":\"LinearScale\"},{\"attributes\":{\"plot\":{\"id\":\"a27a82ea-5f45-4350-a988-e87c918d5b8c\",\"subtype\":\"Figure\",\"type\":\"Plot\"},\"ticker\":{\"id\":\"f8831ebf-ba88-4d2d-9a2f-b6fcc65430e4\",\"type\":\"BasicTicker\"}},\"id\":\"ed04f697-f9c6-47b5-9966-aab156002d46\",\"type\":\"Grid\"},{\"attributes\":{\"axis_label\":\"number of failure before the 10-th success\",\"formatter\":{\"id\":\"bf411972-481b-4ae9-b08c-38baf70217c4\",\"type\":\"BasicTickFormatter\"},\"plot\":{\"id\":\"a27a82ea-5f45-4350-a988-e87c918d5b8c\",\"subtype\":\"Figure\",\"type\":\"Plot\"},\"ticker\":{\"id\":\"f8831ebf-ba88-4d2d-9a2f-b6fcc65430e4\",\"type\":\"BasicTicker\"}},\"id\":\"302a3358-d63d-4b14-9675-9e1f4c423efa\",\"type\":\"LinearAxis\"},{\"attributes\":{\"fill_alpha\":{\"value\":0.5},\"fill_color\":{\"value\":\"red\"},\"line_alpha\":{\"value\":0.5},\"line_color\":{\"value\":\"red\"},\"top\":{\"field\":\"top\"},\"width\":{\"value\":0.9},\"x\":{\"field\":\"x\"}},\"id\":\"4e792e2a-b9a9-4444-a226-5767a874329e\",\"type\":\"VBar\"},{\"attributes\":{},\"id\":\"f8831ebf-ba88-4d2d-9a2f-b6fcc65430e4\",\"type\":\"BasicTicker\"},{\"attributes\":{\"axis_label\":\"probability\",\"formatter\":{\"id\":\"9501e323-b4f4-497a-9ce0-4ca5c013ef1a\",\"type\":\"BasicTickFormatter\"},\"plot\":{\"id\":\"a27a82ea-5f45-4350-a988-e87c918d5b8c\",\"subtype\":\"Figure\",\"type\":\"Plot\"},\"ticker\":{\"id\":\"282323e4-402f-4ac3-b3ea-66fbb71623f1\",\"type\":\"BasicTicker\"}},\"id\":\"89c17793-efcc-43af-9a2b-3615186061e1\",\"type\":\"LinearAxis\"},{\"attributes\":{},\"id\":\"282323e4-402f-4ac3-b3ea-66fbb71623f1\",\"type\":\"BasicTicker\"},{\"attributes\":{\"dimension\":1,\"plot\":{\"id\":\"a27a82ea-5f45-4350-a988-e87c918d5b8c\",\"subtype\":\"Figure\",\"type\":\"Plot\"},\"ticker\":{\"id\":\"282323e4-402f-4ac3-b3ea-66fbb71623f1\",\"type\":\"BasicTicker\"}},\"id\":\"e2c973e8-7a8b-4a4e-b8c9-af0a40c0a9fd\",\"type\":\"Grid\"},{\"attributes\":{\"fill_alpha\":{\"value\":0.5},\"fill_color\":{\"value\":\"#111188\"},\"line_alpha\":{\"value\":0.5},\"line_color\":{\"value\":\"#111188\"},\"top\":{\"field\":\"top\"},\"width\":{\"value\":0.8},\"x\":{\"field\":\"x\"}},\"id\":\"0980096e-7bfe-48ea-89ad-e59d1dc3e42c\",\"type\":\"VBar\"},{\"attributes\":{\"source\":{\"id\":\"f0339e29-30d2-49da-bd3c-a44790bf8001\",\"type\":\"ColumnDataSource\"}},\"id\":\"7991b3bc-0958-4389-a6cf-0a20179a607f\",\"type\":\"CDSView\"},{\"attributes\":{},\"id\":\"f68b628f-c5bc-468a-a0aa-18557e589cb5\",\"type\":\"PanTool\"},{\"attributes\":{\"fill_alpha\":{\"value\":0.1},\"fill_color\":{\"value\":\"#1f77b4\"},\"line_alpha\":{\"value\":0.1},\"line_color\":{\"value\":\"#1f77b4\"},\"top\":{\"field\":\"top\"},\"width\":{\"value\":0.8},\"x\":{\"field\":\"x\"}},\"id\":\"9422f5e5-0673-4d07-b1ef-fa1bd116c56f\",\"type\":\"VBar\"},{\"attributes\":{},\"id\":\"6347e225-a9a5-4ced-b3df-41b71ed056ca\",\"type\":\"WheelZoomTool\"},{\"attributes\":{},\"id\":\"4784a72a-718d-4ab3-af9f-ef76e64d3cd2\",\"type\":\"ResetTool\"},{\"attributes\":{},\"id\":\"ac01727e-a5a2-4316-a7ab-38c920225419\",\"type\":\"SaveTool\"},{\"attributes\":{\"fill_alpha\":{\"value\":0.1},\"fill_color\":{\"value\":\"#1f77b4\"},\"line_alpha\":{\"value\":0.1},\"line_color\":{\"value\":\"#1f77b4\"},\"top\":{\"field\":\"top\"},\"width\":{\"value\":0.9},\"x\":{\"field\":\"x\"}},\"id\":\"f40dc9b4-9adf-405a-8e27-e5b80a7b5701\",\"type\":\"VBar\"},{\"attributes\":{},\"id\":\"090af2b2-b124-4c48-be32-33504883c007\",\"type\":\"CrosshairTool\"},{\"attributes\":{\"callback\":null,\"overlay\":{\"id\":\"e6dec54d-a7cf-46d0-86d7-58e34ed2bb13\",\"type\":\"BoxAnnotation\"}},\"id\":\"7a045add-3625-4ca8-947e-1b254938a783\",\"type\":\"BoxSelectTool\"},{\"attributes\":{\"bottom_units\":\"screen\",\"fill_alpha\":{\"value\":0.5},\"fill_color\":{\"value\":\"lightgrey\"},\"left_units\":\"screen\",\"level\":\"overlay\",\"line_alpha\":{\"value\":1.0},\"line_color\":{\"value\":\"black\"},\"line_dash\":[4,4],\"line_width\":{\"value\":2},\"plot\":null,\"render_mode\":\"css\",\"right_units\":\"screen\",\"top_units\":\"screen\"},\"id\":\"e6dec54d-a7cf-46d0-86d7-58e34ed2bb13\",\"type\":\"BoxAnnotation\"},{\"attributes\":{\"source\":{\"id\":\"8033d655-03dd-4846-846a-c0790a1c6280\",\"type\":\"ColumnDataSource\"}},\"id\":\"70991433-6784-470b-b92f-b61cb1ff93d0\",\"type\":\"CDSView\"},{\"attributes\":{\"data_source\":{\"id\":\"8033d655-03dd-4846-846a-c0790a1c6280\",\"type\":\"ColumnDataSource\"},\"glyph\":{\"id\":\"0980096e-7bfe-48ea-89ad-e59d1dc3e42c\",\"type\":\"VBar\"},\"hover_glyph\":null,\"muted_glyph\":null,\"nonselection_glyph\":{\"id\":\"9422f5e5-0673-4d07-b1ef-fa1bd116c56f\",\"type\":\"VBar\"},\"selection_glyph\":null,\"view\":{\"id\":\"70991433-6784-470b-b92f-b61cb1ff93d0\",\"type\":\"CDSView\"}},\"id\":\"b9ecf23e-9b94-4b80-9b36-5d64df4963eb\",\"type\":\"GlyphRenderer\"},{\"attributes\":{},\"id\":\"bf411972-481b-4ae9-b08c-38baf70217c4\",\"type\":\"BasicTickFormatter\"},{\"attributes\":{},\"id\":\"9501e323-b4f4-497a-9ce0-4ca5c013ef1a\",\"type\":\"BasicTickFormatter\"},{\"attributes\":{},\"id\":\"cf6fa0b4-99ab-4628-ba6e-0c3438d23b48\",\"type\":\"UnionRenderers\"},{\"attributes\":{},\"id\":\"1ba8934e-ec2f-42fc-816b-ff575f236807\",\"type\":\"Selection\"},{\"attributes\":{},\"id\":\"0477d362-5434-420a-a4f2-340d67207420\",\"type\":\"UnionRenderers\"},{\"attributes\":{},\"id\":\"549c1d8a-c810-4137-b57a-e4ac82ccf838\",\"type\":\"Selection\"}],\"root_ids\":[\"a27a82ea-5f45-4350-a988-e87c918d5b8c\"]},\"title\":\"Bokeh Application\",\"version\":\"0.13.0\"}};\n",
       "  var render_items = [{\"docid\":\"d9a06cfd-9ed9-43f8-a61b-5ba582db73c2\",\"notebook_comms_target\":\"b02e83dd-6249-4cae-ab2e-b4dba5481957\",\"roots\":{\"a27a82ea-5f45-4350-a988-e87c918d5b8c\":\"e7c0bc57-b0f1-40f3-905a-3945e07760ae\"}}];\n",
       "  root.Bokeh.embed.embed_items_notebook(docs_json, render_items);\n",
       "\n",
       "  }\n",
       "  if (root.Bokeh !== undefined) {\n",
       "    embed_document(root);\n",
       "  } else {\n",
       "    var attempts = 0;\n",
       "    var timer = setInterval(function(root) {\n",
       "      if (root.Bokeh !== undefined) {\n",
       "        embed_document(root);\n",
       "        clearInterval(timer);\n",
       "      }\n",
       "      attempts++;\n",
       "      if (attempts > 100) {\n",
       "        console.log(\"Bokeh: ERROR: Unable to run BokehJS code because BokehJS library is missing\")\n",
       "        clearInterval(timer);\n",
       "      }\n",
       "    }, 10, root)\n",
       "  }\n",
       "})(window);"
      ],
      "application/vnd.bokehjs_exec.v0+json": ""
     },
     "metadata": {
      "application/vnd.bokehjs_exec.v0+json": {
       "id": "a27a82ea-5f45-4350-a988-e87c918d5b8c"
      }
     },
     "output_type": "display_data"
    },
    {
     "data": {
      "application/vnd.jupyter.widget-view+json": {
       "model_id": "dc004106679341e5bbf6ad99d83dc478",
       "version_major": 2,
       "version_minor": 0
      },
      "text/plain": [
       "interactive(children=(IntSlider(value=20, description='c', max=60, min=20), FloatSlider(value=0.1, description…"
      ]
     },
     "metadata": {},
     "output_type": "display_data"
    }
   ],
   "source": [
    "p = .1\n",
    "n = 10\n",
    "n_max = 200             # maximal number of trials computed\n",
    "n_vis = 80              # maximal number of trials initially visible\n",
    "x = arange(n_max)       # inizialization\n",
    "plor3 = figure(title=\"PMF of X ~ NB(10,p)\", x_axis_label = \"number of failure before the 10-th success\", # create an empty figure\n",
    "               y_axis_label = \"probability\", x_range=(-1,n_vis), y_range=(0,0.04), **options )\n",
    "plor3.title.text_font=\"times\"\n",
    "plor3.title.text_font_size=\"16pt\"\n",
    "r1 = plor3.vbar(x, top=[0 for i in x], bottom=0,width=0.8, color=\"#111188\", alpha=0.5) \n",
    "r2 = plor3.vbar(x, top=[0 for i in x], bottom=0, width=.9, color='red',   alpha=0.5)\n",
    "\n",
    "show(plor3, notebook_handle=True)\n",
    "    \n",
    "def update1(c,p):\n",
    "    data  = {'x':x, 'top': nbinom.pmf(x,n,p) }\n",
    "    r1.data_source.data = data\n",
    "    z = arange(c+1)\n",
    "    data2 = {'x':z, 'top': nbinom.pmf(z,n,p) }\n",
    "    r2.data_source.data = data2\n",
    "    if p == 0.1:\n",
    "        print('\\np-valore = nbinom.cdf({}, 10, 0.1) = {:.3f} '.format(c, nbinom.cdf(c, n, p)) )\n",
    "    else:\n",
    "        print('\\n')\n",
    "    push_notebook()\n",
    "\n",
    "interact(update1,\n",
    "         c = IntSlider  (description=\"c\", min=20, max=60, step=1, value=1), \n",
    "         p = FloatSlider(description=\"p\", min=0.1, max=0.2,  step=0.1, value=p));"
   ]
  },
  {
   "cell_type": "code",
   "execution_count": null,
   "metadata": {},
   "outputs": [],
   "source": []
  }
 ],
 "metadata": {
  "kernelspec": {
   "display_name": "Python 3",
   "language": "python",
   "name": "python3"
  },
  "language_info": {
   "codemirror_mode": {
    "name": "ipython",
    "version": 3
   },
   "file_extension": ".py",
   "mimetype": "text/x-python",
   "name": "python",
   "nbconvert_exporter": "python",
   "pygments_lexer": "ipython3",
   "version": "3.6.8"
  }
 },
 "nbformat": 4,
 "nbformat_minor": 2
}
