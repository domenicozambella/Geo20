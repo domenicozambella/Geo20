{
 "cells": [
  {
   "cell_type": "code",
   "execution_count": 1,
   "metadata": {},
   "outputs": [
    {
     "data": {
      "text/html": [
       "<style>\n",
       "div.jp-MarkdownOutput {font-family: \"Times New Roman\", Times, serif;   \n",
       "    /* background-color: #eee;  */\n",
       "    /* border-left: 5px solid #00b5b4; */\n",
       "    font-size: 10pt;\n",
       "    line-height: 140%;\n",
       "}\n",
       ".text_cell_render {\n",
       "    font-family: \"Times New Roman\", Times, serif;    \n",
       "    /* background-color: #eee;  */\n",
       "    /* border-left: 5px solid #00b5b4; */\n",
       "    font-size: 14pt;\n",
       "    line-height: 140%;s\n",
       "}\n",
       "\n",
       "h1 {\n",
       "    font-size: xx-large  !important;\n",
       "    margin-top: 0ex !important;\n",
       "}\n",
       "\n",
       "h2 {\n",
       "    font-size: larger !important;\n",
       "    margin-top: 0ex !important;\n",
       "    margin-bottom: 0ex !important;\n",
       "    padding-bottom: 0ex !important;\n",
       "}\n",
       "\n",
       "h3 {\n",
       "    font-size: large !important;\n",
       "    margin-top: 0ex !important;\n",
       "    margin-bottom: 0ex !important;\n",
       "    padding-bottom: 0ex !important;\n",
       "}\n",
       "\n",
       "mark {\n",
       "    background-color: #ffdd00;\n",
       "    border-top-right-radius: 5px;\n",
       "    border-top-left-radius: 5px;\n",
       "    border-bottom-right-radius: 5px;\n",
       "    border-bottom-left-radius: 5px;\n",
       "    padding-top: 0.1ex;\n",
       "    padding-bottom: 0.2ex;\n",
       "    padding-left: 0.7ex;\n",
       "    padding-right: 0.7ex;\n",
       "}\n",
       "\n",
       ".ita {\n",
       "    background-color: #bbddee;\n",
       "}\n",
       "\n",
       ".errore {background-color:#d88;\n",
       "        width:310px;\n",
       "        height:17ex;\n",
       "        display:inline-block;\n",
       "        margin:5px;\n",
       "        padding:8px;\n",
       "}\n",
       "\n",
       ".corretto {background-color:#2d8;\n",
       "        width:310px;\n",
       "        height:17ex;\n",
       "        display:inline-block;\n",
       "        margin:5px;\n",
       "        padding:8px;\n",
       "}\n",
       "\n",
       "n-a {background-color: #ffdddd;}\n",
       "\n",
       "ul, ol {\n",
       "     padding-left: 2ex !important;\n",
       "}\n",
       "ul {\n",
       "     margin-top: 0ex !important;\n",
       "     margin-bottom: 0ex !important;\n",
       "     list-style-type: square !important;\n",
       "}\n",
       "\n",
       "div.warn {    \n",
       "    background-color: #fcf2f2;\n",
       "    border-color: #dFb5b4;\n",
       "    border-left: 5px solid #dfb5b4;\n",
       "    margin-top: 1ex;\n",
       "    padding: 1ex;\n",
       "}\n",
       ".right{\n",
       "    float:right\n",
       "}\n",
       "\n",
       "hr { \n",
       "    display: block;\n",
       "    margin-top: 0.5ex;\n",
       "    margin-bottom: 0.5ex;\n",
       "    margin-left: auto;\n",
       "    margin-right: auto;\n",
       "    border-style: inset;\n",
       "    border-width: 1px;\n",
       "}\n",
       "</style>\n"
      ],
      "text/plain": [
       "<IPython.core.display.HTML object>"
      ]
     },
     "execution_count": 1,
     "metadata": {},
     "output_type": "execute_result"
    }
   ],
   "source": [
    "# this loads some HTML style files\n",
    "from IPython.core.display import HTML\n",
    "with open( './style/custom.css', 'r' ) as f: html_style = f.read()\n",
    "HTML( html_style )"
   ]
  },
  {
   "cell_type": "markdown",
   "metadata": {},
   "source": [
    "# Intervallo di confidenza (binomiale)\n",
    "\n",
    "Un'urna contiene biglie rosse e blu. Chamiamo $p$ la <mark>proporzione</mark> \n",
    "\n",
    "$$p = \\frac{\\textrm{numero biglie rosse}}{\\textrm{numero totale di biglie}}$$ \n",
    "\n",
    "L'estrazione di una biglia dall'urna è modellata con una v.a. di Bernoulli $X\\sim B(1,p)$. L'estrazione di una biglia rossa è interpretata come <mark>successo</mark>. (Potevamo anche scegliere *blu*, allora la distiribuzione sarebbe stata $B(1,1-p)$.)\n",
    "\n",
    "Supponiamo di non conoscere la proporzione $p$. Vogliamo stimarla con estrazioni ripetute. Estraiamo $n$ biglie dall'urna (con *reimbussolamento*, cioè dopo ogni estrazione rimmettiamo la biglia nell'urna, giusto per rendere il conto che segue più semplice).\n",
    "\n",
    "Denotiamo con $x_1,\\dots,x_n$ il risultato di questa estrazione.  Quindi $x_i\\in\\{0,1\\}$ perché 1 sta per *rosso* e 0 sta per *blu*. È naturale stimare $p$ con in valore \n",
    "\n",
    "$$\\bar x = \\frac1n \\sum^n_{i=1}x_i = \\frac{\\textrm{numero biglie rosse estratte}}{\\textrm{numero totale di biglie estratte}}$$ \n",
    "\n",
    "È importante convincersi il numero $\\bar x$ è il risultato di una variabile aleatoria.\n",
    "\n",
    "Un <mark>campione</mark> <mark class=ita>sample</mark>  è un insieme di v.a. $X_1,\\dots,X_n$ indipendenti e con la stessa distribuzione (di $X$ nel nostro caso). Nel nostro esempio corrisponde all'estrazione ripetuta di una biglia nell'urna (con reimbussolamento). La v.a.\n",
    "\n",
    "$$\\bar X = \\frac1n \\sum^n_{i=1}X_i$$ \n",
    "\n",
    "Si chiama <mark>media campionaria</mark> <mark class=ita>sample mean</mark>. Il valore $\\bar x$ corrisponde ad una misura (o risultato, osservzione, realizzazione) della v.a. $\\bar X$.\n",
    "\n",
    "Non possiamo semplicemente dire che la nostra stima della proporzione è $\\bar x$. Siccome $\\bar x$ è il risultato di una v.a. non sappiamo quanto attendibile sia. Sarebbe più corretto rispondere: *la proporzione è $\\bar x$ con probabilià $q$*. Ma ci sono due problemi:\n",
    "\n",
    "1. non sappiamo come calcolare $q$\n",
    "\n",
    "2. quando $n$, il <mark>rango</mark> del campione, è grande ci aspettiamo che $q\\approx 0$ qualunquen sia $\\bar x$ (la probabilità di misurare lo stesso valore $\\bar x$ una seconda volta è praticamente nulla).\n",
    "\n",
    "I secondo problema lo risolviamo sostituendo $\\bar x$ con un intervallo centrato in $\\bar x$, per esempio $[\\bar x -\\varepsilon, \\ \\bar x + \\varepsilon]$. Il numero $\\varepsilon$ lo scegliamo noi in base alla precisione che ci interessa (ma più spesso non lo si fa, vedi sotto).\n",
    "\n",
    "La risposta che cerchiamo avrà la forma $p\\in [\\bar x -\\varepsilon, \\ \\bar x + \\varepsilon]$ con probabilità $q$. O più brevemente $p=\\bar x \\pm\\varepsilon$ con  <mark>livello di confidenza</mark> $1-\\alpha$ (questa è la notazione usuale, <mark>$\\alpha$</mark> viene chiamata <mark>significatività</mark>).\n",
    "\n",
    "La confidenza è funzione di $\\varepsilon$, più alta è la precisione richiesta (ovvero più piccolo è $\\varepsilon$) minore sarà la confidenza.\n",
    "\n",
    "Possiamo anche fissare una significatività, per esempio $\\alpha=5\\%$ e calcolare l'errore corrispondente (così è più comune).\n",
    "\n",
    "L'espressione $p=\\bar x \\pm\\varepsilon$ con probabilità $1-\\alpha$ può dare adito a confusione. Qual è l'evento di cui misuriamo la probabilità? \n",
    "\n",
    "Sarebbe più corretto scrivere $p\\in [\\bar X -\\varepsilon, \\ \\bar X + \\varepsilon]$ con probabilita $1-\\alpha$. Quindi la variabile aleatoria è l'intervallo, $p$ è semplicemente un numero (ignoto, ma determinato).\n",
    "\n",
    "\n"
   ]
  },
  {
   "cell_type": "code",
   "execution_count": 6,
   "metadata": {},
   "outputs": [
    {
     "data": {
      "text/plain": [
       "(0.33373093341136761, 0.66626906658863239)"
      ]
     },
     "execution_count": 6,
     "metadata": {},
     "output_type": "execute_result"
    }
   ],
   "source": [
    "from statsmodels.stats.proportion import proportion_confint\n",
    "\n",
    "proportion_confint(80,160,alpha=0.01)"
   ]
  },
  {
   "cell_type": "code",
   "execution_count": 8,
   "metadata": {},
   "outputs": [
    {
     "data": {
      "text/plain": [
       "(0.4225256209619298, 0.5774743790380702)"
      ]
     },
     "execution_count": 8,
     "metadata": {},
     "output_type": "execute_result"
    }
   ],
   "source": [
    "proportion_confint(80,160,alpha=0.05)"
   ]
  },
  {
   "cell_type": "code",
   "execution_count": null,
   "metadata": {},
   "outputs": [],
   "source": []
  }
 ],
 "metadata": {
  "kernelspec": {
   "display_name": "Python 3",
   "language": "python",
   "name": "python3"
  },
  "language_info": {
   "codemirror_mode": {
    "name": "ipython",
    "version": 3
   },
   "file_extension": ".py",
   "mimetype": "text/x-python",
   "name": "python",
   "nbconvert_exporter": "python",
   "pygments_lexer": "ipython3",
   "version": "3.6.8"
  }
 },
 "nbformat": 4,
 "nbformat_minor": 2
}
