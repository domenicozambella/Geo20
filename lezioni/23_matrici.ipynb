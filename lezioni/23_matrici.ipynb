{
 "cells": [
  {
   "cell_type": "code",
   "execution_count": 1,
   "metadata": {},
   "outputs": [
    {
     "data": {
      "text/html": [
       "<style>\n",
       "div.jp-MarkdownOutput {font-family: \"Times New Roman\", Times, serif;   \n",
       "    /* background-color: #eee;  */\n",
       "    /* border-left: 5px solid #00b5b4; */\n",
       "    font-size: 10pt;\n",
       "    line-height: 140%;\n",
       "}\n",
       ".text_cell_render {\n",
       "    font-family: \"Times New Roman\", Times, serif;    \n",
       "    /* background-color: #eee;  */\n",
       "    /* border-left: 5px solid #00b5b4; */\n",
       "    font-size: 14pt;\n",
       "    line-height: 140%;s\n",
       "}\n",
       "\n",
       "h1 {\n",
       "    font-size: xx-large  !important;\n",
       "    margin-top: 0ex !important;\n",
       "}\n",
       "\n",
       "h2 {\n",
       "    font-size: larger !important;\n",
       "    margin-top: 0ex !important;\n",
       "    margin-bottom: 0ex !important;\n",
       "    padding-bottom: 0ex !important;\n",
       "}\n",
       "\n",
       "h3 {\n",
       "    font-size: large !important;\n",
       "    margin-top: 0ex !important;\n",
       "    margin-bottom: 0ex !important;\n",
       "    padding-bottom: 0ex !important;\n",
       "}\n",
       "\n",
       "mark {\n",
       "    background-color: #ffdd00;\n",
       "    border-top-right-radius: 5px;\n",
       "    border-top-left-radius: 5px;\n",
       "    border-bottom-right-radius: 5px;\n",
       "    border-bottom-left-radius: 5px;\n",
       "    padding-top: 0.1ex;\n",
       "    padding-bottom: 0.2ex;\n",
       "    padding-left: 0.7ex;\n",
       "    padding-right: 0.7ex;\n",
       "}\n",
       "\n",
       ".ita {\n",
       "    background-color: #bbddee;\n",
       "}\n",
       "\n",
       ".errore {background-color:#d88;\n",
       "        width:310px;\n",
       "        height:17ex;\n",
       "        display:inline-block;\n",
       "        margin:5px;\n",
       "        padding:8px;\n",
       "}\n",
       "\n",
       ".corretto {background-color:#2d8;\n",
       "        width:310px;\n",
       "        height:17ex;\n",
       "        display:inline-block;\n",
       "        margin:5px;\n",
       "        padding:8px;\n",
       "}\n",
       "\n",
       "n-a {background-color: #ffdddd;}\n",
       "\n",
       "ul, ol {\n",
       "     padding-left: 2ex !important;\n",
       "}\n",
       "ul {\n",
       "     margin-top: 0ex !important;\n",
       "     margin-bottom: 0ex !important;\n",
       "     list-style-type: square !important;\n",
       "}\n",
       "\n",
       "div.warn {    \n",
       "    background-color: #fcf2f2;\n",
       "    border-color: #dFb5b4;\n",
       "    border-left: 5px solid #dfb5b4;\n",
       "    margin-top: 1ex;\n",
       "    padding: 1ex;\n",
       "}\n",
       ".right{\n",
       "    float:right\n",
       "}\n",
       "\n",
       "hr { \n",
       "    display: block;\n",
       "    margin-top: 0.5ex;\n",
       "    margin-bottom: 0.5ex;\n",
       "    margin-left: auto;\n",
       "    margin-right: auto;\n",
       "    border-style: inset;\n",
       "    border-width: 1px;\n",
       "}\n",
       "</style>\n"
      ],
      "text/plain": [
       "<IPython.core.display.HTML object>"
      ]
     },
     "execution_count": 1,
     "metadata": {},
     "output_type": "execute_result"
    }
   ],
   "source": [
    "from numpy import array\n",
    "\n",
    "# this loads some HTML style files\n",
    "from IPython.core.display import HTML\n",
    "with open( './style/custom.css', 'r' ) as f: html_style = f.read()\n",
    "HTML( html_style )"
   ]
  },
  {
   "cell_type": "markdown",
   "metadata": {},
   "source": [
    "# Le matrici\n",
    "\n",
    "Una matrice di dimensione $n\\times m$ è un rettangolo di numeri. Per esempio questa è una matrice $2\\times 3$\n",
    "\n",
    "\\begin{bmatrix}\n",
    "  2.0 &  2.0 &  3.0\\\\\n",
    "  1.0 &  3.0 &  4.0\n",
    "\\end{bmatrix}\n",
    "\n",
    "Diremo che ha 2 <mark>righe</mark> e 3 <mark>colonne</mark>.\n",
    "\n",
    "Tra matrici è definita la <mark>somma</mark> ed il <mark>prodotto per uno scalare</mark> in modo del tutto analogo a come fatto per i vettori. N.B. la somma è definita solo tra matrici della stessa dimensione. "
   ]
  },
  {
   "cell_type": "markdown",
   "metadata": {},
   "source": [
    "# Trasposizione di matrici\n",
    "\n",
    "La <mark>trasposta</mark> di una matrice si ottiene trasformando le righe in colonne (la 1$^\\rm a$ riga diventa la 1$^\\rm a$ colonna la 2$^\\rm a$ riga diventa la 2$^\\rm a$ colonna e così via). Una matrice $n\\times m$ diventa una matrice $m\\times n$. La trasposta di una matrice si indica con l'apice T. Per esempio\n",
    "\n",
    "$$\n",
    "\\begin{bmatrix}\n",
    "  2.0 &  2.0 &  3.0\\\\\n",
    "  1.0 &  3.0 &  4.0\\\\\n",
    "\\end{bmatrix}^{\\rm\\ T}\n",
    "\\quad=\\quad\n",
    "\\begin{bmatrix}\n",
    "  2.0 &  1.0\\\\\n",
    "  2.0 &  3.0\\\\\n",
    "  3.0 &  4.0\\\\\n",
    "\\end{bmatrix}\n",
    "$$\n",
    "\n",
    "N.B. la trasposta della trasposta ̀e la matrice di partenza:\n",
    "\n",
    "$$\n",
    "\\begin{bmatrix}\n",
    "  2.0 &  1.0\\\\\n",
    "  2.0 &  3.0\\\\\n",
    "  3.0 &  4.0\\\\\n",
    "\\end{bmatrix}^{\\rm\\ T}\n",
    "\\quad=\\quad\n",
    "\\begin{bmatrix}\n",
    "  2.0 &  2.0 &  3.0\\\\\n",
    "  1.0 &  3.0 &  4.0\\\\\n",
    "\\end{bmatrix}\n",
    "$$"
   ]
  },
  {
   "cell_type": "markdown",
   "metadata": {},
   "source": [
    "# Vettori riga e vettori colonna\n",
    "\n",
    "Una matrice di dimensione $n\\times 1$ è chiamata un <mark>vettore colonna</mark>\n",
    "\n",
    "\\begin{bmatrix}\n",
    "  a_1\\\\ .\\\\ .\\\\ .\\\\  a_n\\\\\n",
    "\\end{bmatrix}\n",
    "\n",
    "Una matrice di dimesione $1\\times n$ è chiamata un <mark>vettore riga</mark>\n",
    "\n",
    "\\begin{bmatrix}\n",
    "  a_1& .& .& .&  a_n\\\\\n",
    "\\end{bmatrix}\n",
    "\n",
    "Entrambe queste matrici corrispondono allo stesso vettore. L'operazione di transposizione tranforma un vettore riga in un vettore colonna e viceversa.\n",
    "\n",
    "$$\n",
    "\\begin{bmatrix}\n",
    "  1.0\\\\\n",
    "  2.0\\\\\n",
    "  3.0\\\\\n",
    "\\end{bmatrix}^{\\rm\\ T}\n",
    "\\quad=\\quad\n",
    "\\begin{bmatrix}\n",
    "  1.0 &  2.0 &  3.0\\\\\n",
    "\\end{bmatrix}\n",
    "$$\n",
    "\n",
    "e\n",
    "\n",
    "$$\n",
    "\\begin{bmatrix}\n",
    "  1.0 &  2.0 &  3.0\\\\\n",
    "\\end{bmatrix}^{\\rm\\ T}\n",
    "\\quad=\\quad\n",
    "\\begin{bmatrix}\n",
    "  1.0\\\\\n",
    "  2.0\\\\\n",
    "  3.0\\\\\n",
    "\\end{bmatrix}\n",
    "$$"
   ]
  },
  {
   "cell_type": "markdown",
   "metadata": {},
   "source": [
    "In `Python` le matrici possono essere *costruite* a partire da una lista di liste. "
   ]
  },
  {
   "cell_type": "code",
   "execution_count": 2,
   "metadata": {},
   "outputs": [
    {
     "data": {
      "text/plain": [
       "array([[2., 2., 3.],\n",
       "       [1., 3., 4.]])"
      ]
     },
     "execution_count": 2,
     "metadata": {},
     "output_type": "execute_result"
    }
   ],
   "source": [
    "A = array(  [ [2.0,  2.0,  3.0],  [1.0,  3.0,  4.0] ] )\n",
    "A"
   ]
  },
  {
   "cell_type": "code",
   "execution_count": 3,
   "metadata": {},
   "outputs": [
    {
     "data": {
      "text/plain": [
       "(2, 3)"
      ]
     },
     "execution_count": 3,
     "metadata": {},
     "output_type": "execute_result"
    }
   ],
   "source": [
    "A.shape"
   ]
  },
  {
   "cell_type": "code",
   "execution_count": 4,
   "metadata": {},
   "outputs": [
    {
     "data": {
      "text/plain": [
       "array([[2., 1.],\n",
       "       [2., 3.],\n",
       "       [3., 4.]])"
      ]
     },
     "execution_count": 4,
     "metadata": {},
     "output_type": "execute_result"
    }
   ],
   "source": [
    "A.T"
   ]
  },
  {
   "cell_type": "markdown",
   "metadata": {},
   "source": [
    "In `Python` i vettori sono una categoria a parte rispetto alle matrici (a priori non sono né vettori riga né vettori colonna). "
   ]
  },
  {
   "cell_type": "code",
   "execution_count": 5,
   "metadata": {},
   "outputs": [
    {
     "data": {
      "text/plain": [
       "(4,)"
      ]
     },
     "execution_count": 5,
     "metadata": {},
     "output_type": "execute_result"
    }
   ],
   "source": [
    "v = array( [1.0,  2.0,  3.0, 4.0] )\n",
    "v.shape"
   ]
  },
  {
   "cell_type": "markdown",
   "metadata": {},
   "source": [
    "Possiamo cambiare l'interpretazione di un vettore forzando la sua `shape`."
   ]
  },
  {
   "cell_type": "code",
   "execution_count": 6,
   "metadata": {},
   "outputs": [
    {
     "data": {
      "text/plain": [
       "array([[1., 2., 3., 4.]])"
      ]
     },
     "execution_count": 6,
     "metadata": {},
     "output_type": "execute_result"
    }
   ],
   "source": [
    "v.shape = (1,4)\n",
    "v"
   ]
  },
  {
   "cell_type": "code",
   "execution_count": 7,
   "metadata": {},
   "outputs": [
    {
     "data": {
      "text/plain": [
       "array([[1.],\n",
       "       [2.],\n",
       "       [3.],\n",
       "       [4.]])"
      ]
     },
     "execution_count": 7,
     "metadata": {},
     "output_type": "execute_result"
    }
   ],
   "source": [
    "v.shape = (4,1)\n",
    "v"
   ]
  },
  {
   "cell_type": "markdown",
   "metadata": {},
   "source": [
    "# Prodotto di matrici\n",
    "\n",
    "Il prodotto di due matrici è definito solo se la prima matrice ha tante colonne quante sono le righe della seconda matrice. Ovvero possiamo moltiplicare una matrice $n\\times k$ solo per matrici di dimensione $k\\times m$. Il risultato sarà una matrice $n\\times m$.\n",
    "\n",
    "Mnemonica: $(n\\times k) \\cdot (k\\times m)\\ \\ =\\ \\ n\\times m$.\n"
   ]
  },
  {
   "cell_type": "markdown",
   "metadata": {},
   "source": [
    "### Esempio: prodotto scalare come moltiplicazione di matrici\n",
    "\n",
    "\n",
    "Uno dei casi più semplici e importanti è la moltiplicazione di un vettore riga per un vettore colonna, ovvero di una matrice $1\\times n$ per una matrice $n\\times 1$ che darà come risultato una matrice $1\\times 1$ ovvero un numero. \n",
    "\n",
    "Lo abbiamo già incontrato con un altro nome:\n",
    "\n",
    "$$\n",
    "\\begin{bmatrix}\n",
    "  1 &  2 &  3\\\\\n",
    "\\end{bmatrix}\n",
    "\\cdot\n",
    "\\begin{bmatrix}\n",
    "  2\\\\  3\\\\  1\\\\\n",
    "\\end{bmatrix}\n",
    "\\quad=\\quad\n",
    "\\begin{bmatrix}\n",
    "  1\\\\  2\\\\  3\\\\\n",
    "\\end{bmatrix}^{\\rm\\ T}\n",
    "\\cdot\\ \n",
    "\\begin{bmatrix}\n",
    "  2\\\\  3\\\\  1\\\\\n",
    "\\end{bmatrix}\n",
    "\\quad=\\quad\n",
    "2+6+3\n",
    "\\quad=\\quad\n",
    "11\n",
    "$$"
   ]
  },
  {
   "cell_type": "markdown",
   "metadata": {},
   "source": [
    "### Esempio prodotto matrici $3\\times 3$ per $3 \\times 1$\n",
    "\n",
    "$$\n",
    "\\begin{bmatrix}\n",
    "  1& 2& 3\\\\\n",
    "  4& 5& 6\\\\\n",
    "  7& 8& 9\\\\\n",
    "\\end{bmatrix}\n",
    "\\cdot\\begin{bmatrix}\n",
    "  x\\\\  y\\\\  z\\\\\n",
    "\\end{bmatrix}\n",
    "\\quad=\\quad\n",
    "\\begin{bmatrix}\n",
    "  \\begin{bmatrix}\n",
    "  1& 2& 3\\\\\n",
    "  \\end{bmatrix}\n",
    "  \\cdot\n",
    "  \\begin{bmatrix}\n",
    "  x\\\\  y\\\\  z\\\\\n",
    "  \\end{bmatrix}\n",
    "  \\\\\n",
    "  \\begin{bmatrix}\n",
    "  4& 5& 6\\\\\n",
    "  \\end{bmatrix}\n",
    "  \\cdot\n",
    "  \\begin{bmatrix}\n",
    "  x\\\\  y\\\\  z\\\\\n",
    "  \\end{bmatrix}\n",
    "  \\\\\n",
    "  \\begin{bmatrix}\n",
    "  7& 8& 9\\\\\n",
    "  \\end{bmatrix}\n",
    "  \\cdot\n",
    "  \\begin{bmatrix}\n",
    "  x\\\\  y\\\\  z\\\\\n",
    "  \\end{bmatrix}\n",
    "\\end{bmatrix}\n",
    "\\quad=\\quad\n",
    "\\begin{bmatrix}\n",
    "  1x+2y+3z\\\\\n",
    "  4x+5y+6z\\\\\n",
    "  7x+8y+9z\\\\\n",
    "\\end{bmatrix}\n",
    "$$"
   ]
  },
  {
   "cell_type": "code",
   "execution_count": 8,
   "metadata": {},
   "outputs": [
    {
     "name": "stdout",
     "output_type": "stream",
     "text": [
      "[[1]\n",
      " [4]\n",
      " [7]]\n"
     ]
    }
   ],
   "source": [
    "A  = array( [ [1,2,3], [4,5,6], [7,8,9] ] )\n",
    "v1 = array( [ [1,0,0] ] ).T\n",
    "v2 = array( [ [0,1,0] ] ).T\n",
    "v3 = array( [ [0,0,1] ] ).T\n",
    "print ( A @ v1 )"
   ]
  },
  {
   "cell_type": "markdown",
   "metadata": {},
   "source": [
    "### Esempio prodotto matrici $3\\times 3$ per $3 \\times 3$\n",
    "\n",
    "$$\n",
    "\\begin{bmatrix}\n",
    "  1& 2& 3\\\\\n",
    "  4& 5& 6\\\\\n",
    "  7& 8& 9\\\\\n",
    "\\end{bmatrix}\n",
    "\\cdot\\begin{bmatrix}\n",
    "  x1& x2& x3\\\\\n",
    "  y1& y2& y3\\\\\n",
    "  z1& z2& z3\\\\\n",
    "\\end{bmatrix}\n",
    "\\quad=\\quad\n",
    "$$\n",
    "\n",
    "$$=\\quad\n",
    "\\begin{bmatrix}\n",
    "  \\begin{bmatrix}\n",
    "  1& 2& 3\\\\\n",
    "  \\end{bmatrix}\n",
    "  \\cdot\n",
    "  \\begin{bmatrix}\n",
    "  x1\\\\  y1\\\\  z1\\\\\n",
    "  \\end{bmatrix}\n",
    "  &\n",
    "  \\begin{bmatrix}\n",
    "  1& 2& 3\\\\\n",
    "  \\end{bmatrix}\n",
    "  \\cdot\n",
    "  \\begin{bmatrix}\n",
    "  x2\\\\  y2\\\\  z2\\\\\n",
    "  \\end{bmatrix}\n",
    "  &\n",
    "  \\begin{bmatrix}\n",
    "  1& 2& 3\\\\\n",
    "  \\end{bmatrix}\n",
    "  \\cdot\n",
    "  \\begin{bmatrix}\n",
    "  x3\\\\  y3\\\\  z3\\\\\n",
    "  \\end{bmatrix}\n",
    "  \\\\\n",
    "  \\begin{bmatrix}\n",
    "  4& 5& 6\\\\\n",
    "  \\end{bmatrix}\n",
    "  \\cdot\n",
    "  \\begin{bmatrix}\n",
    "  x1\\\\  y1\\\\  z1\\\\\n",
    "  \\end{bmatrix}\n",
    "  &\n",
    "  \\begin{bmatrix}\n",
    "  4& 5& 6\\\\\n",
    "  \\end{bmatrix}\n",
    "  \\cdot\n",
    "  \\begin{bmatrix}\n",
    "  x2\\\\  y2\\\\  z2\\\\\n",
    "  \\end{bmatrix}\n",
    "  &\n",
    "  \\begin{bmatrix}\n",
    "  4& 5& 6\\\\\n",
    "  \\end{bmatrix}\n",
    "  \\cdot\n",
    "  \\begin{bmatrix}\n",
    "  x3\\\\  y3\\\\  z3\\\\\n",
    "  \\end{bmatrix}\n",
    "  \\\\\n",
    "  \\begin{bmatrix}\n",
    "  7& 8& 9\\\\\n",
    "  \\end{bmatrix}\n",
    "  \\cdot\n",
    "  \\begin{bmatrix}\n",
    "  x1\\\\  y1\\\\  z1\\\\\n",
    "  \\end{bmatrix}\n",
    "  &\n",
    "  \\begin{bmatrix}\n",
    "  7& 8& 9\\\\\n",
    "  \\end{bmatrix}\n",
    "  \\cdot\n",
    "  \\begin{bmatrix}\n",
    "  x2\\\\  y2\\\\  z2\\\\\n",
    "  \\end{bmatrix}\n",
    "  &\n",
    "  \\begin{bmatrix}\n",
    "  7& 8& 9\\\\\n",
    "  \\end{bmatrix}\n",
    "  \\cdot\n",
    "  \\begin{bmatrix}\n",
    "  x3\\\\  y3\\\\  z3\\\\\n",
    "  \\end{bmatrix}\n",
    "\\end{bmatrix}\n",
    "$$"
   ]
  },
  {
   "cell_type": "markdown",
   "metadata": {},
   "source": [
    "### Esempio\n",
    "\n",
    "Verifichiamo. In un caso semplice (il vettore colonna $[1,0,0]^{\\rm T}$) che applicare consecutivamente due matrici equivale a applicare il prodotto di matrici. \n",
    "\n",
    "$$\n",
    "\\begin{bmatrix}\n",
    "  x1& x2& x3\\\\\n",
    "  y1& y2& y3\\\\\n",
    "  z1& z2& z3\\\\\n",
    "\\end{bmatrix}\n",
    "\\cdot\n",
    "\\begin{bmatrix}\n",
    "  1\\\\  0\\\\  0\\\\\n",
    "\\end{bmatrix}\n",
    "\\quad=\\quad\n",
    "\\begin{bmatrix}\n",
    "  x1\\\\ y1\\\\ z1\\\\\n",
    "\\end{bmatrix}\n",
    "$$\n",
    "\n",
    "\n",
    "$$\n",
    "\\begin{bmatrix}\n",
    "  1& 2& 3\\\\\n",
    "  4& 5& 6\\\\\n",
    "  7& 8& 9\\\\\n",
    "\\end{bmatrix}\n",
    "\\cdot\n",
    "\\begin{bmatrix}\n",
    "  x1\\\\ y1\\\\ z1\\\\\n",
    "\\end{bmatrix}\n",
    "\\quad=\\quad\n",
    "\\begin{bmatrix}\n",
    "  \\begin{bmatrix}\n",
    "  1& 2& 3\\\\\n",
    "  \\end{bmatrix}\n",
    "  \\cdot\n",
    "  \\begin{bmatrix}\n",
    "  x1\\\\  y1\\\\  z1\\\\\n",
    "  \\end{bmatrix}\n",
    "  \\\\\n",
    "  \\begin{bmatrix}\n",
    "  4& 5& 6\\\\\n",
    "  \\end{bmatrix}\n",
    "  \\cdot\n",
    "  \\begin{bmatrix}\n",
    "  x1\\\\  y1\\\\  z1\\\\\n",
    "  \\end{bmatrix}\n",
    "  \\\\\n",
    "  \\begin{bmatrix}\n",
    "  7& 8& 9\\\\\n",
    "  \\end{bmatrix}\n",
    "  \\cdot\n",
    "  \\begin{bmatrix}\n",
    "  x3\\\\  y3\\\\  z3\\\\\n",
    "  \\end{bmatrix}\n",
    "\\end{bmatrix}\n",
    "$$"
   ]
  }
 ],
 "metadata": {
  "kernelspec": {
   "display_name": "Python 3",
   "language": "python",
   "name": "python3"
  },
  "language_info": {
   "codemirror_mode": {
    "name": "ipython",
    "version": 3
   },
   "file_extension": ".py",
   "mimetype": "text/x-python",
   "name": "python",
   "nbconvert_exporter": "python",
   "pygments_lexer": "ipython3",
   "version": "3.6.9"
  }
 },
 "nbformat": 4,
 "nbformat_minor": 2
}
