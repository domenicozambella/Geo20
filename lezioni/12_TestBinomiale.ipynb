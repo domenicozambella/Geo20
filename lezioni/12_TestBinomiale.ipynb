{
 "cells": [
  {
   "cell_type": "code",
   "execution_count": null,
   "metadata": {},
   "outputs": [],
   "source": [
    "# RUN THIS CELL: it loads some style files\n",
    "from IPython.core.display import HTML, display, Math\n",
    "with open( './style/custom.css', 'r' ) as f: html_style = f.read()\n",
    "HTML( html_style )"
   ]
  },
  {
   "cell_type": "markdown",
   "metadata": {},
   "source": [
    "# Test binomiale (una coda)\n",
    "\n",
    "Un'urna contiene monete equilibrate e monete difettose. Le monete equilibrate hanno probabilità di successo $p=1/2$ le monete difettose hanno probabilità di successo $p=3/4$. Non conosciamo la frazione di monete difettose. Nel gergo dei <mark>test di ipotesi</mark> riassumeremo questa situazione scrivendo:\n",
    "\n",
    "$H_0:\\kern3.5ex p=1/2\\quad$ <mark>ipotesi nulla</mark>\n",
    "\n",
    "$H_A:\\kern3ex p=3/4\\quad$ <mark>ipotesi alternativa</mark>\n",
    " \n",
    "In questo modo dichiariamo che $p=1/2$ è ciò che consideraimo *normale* o *sano* e che  $p=3/4$ è il tipo di deviazione dalla normalità o *patologia* che vogliamo rilevare.\n",
    "\n",
    "Estraiamo una moneta dall'urna e, per decidere tra equilibrata o difettosa, facciamo il seguente test: la lanciamo $40$ volte e se il numero dei successi è $\\ge k$ la dichiariamo difettosa. Stiamo descivendo una famiglia di test, uno per ogni scelta del parametro $k$. Questo parametro lo decide chi progetta il test cercando di minimizzare gli errori. Vogliamo per prima cosa come varia la probabilità di falsi positivi/negativi al variare di $k$. \n",
    "\n",
    "Il test è una variabile aleatoria $X$ a valori in $\\{0,\\dots,40\\}$. Lo spazio campionario $\\Omega$ è diviso in due parti: $H_A$ e $H_0$.  L'insieme $H_A$ contiene quegli $\\omega$ che corrispondono a $40$ lanci fatti con una moneta difettosa mentre $H_0$ contiene quegli $\\omega$ che corrispondono a lanci con una moneta equilibrata. \n",
    "\n",
    "Condizionando a $H_0$ otteniamo $X\\sim {\\rm B}(40,\\ 1/2)$. Condizionando a $H_A$ otteniamo $X\\sim {\\rm B}(40,\\ 3/4)$."
   ]
  },
  {
   "cell_type": "code",
   "execution_count": null,
   "metadata": {},
   "outputs": [],
   "source": [
    "from scipy.stats import binom                             # lib. for statistical functions\n",
    "from ipywidgets import interactive, FloatSlider, IntSlider   # lib. for interactive graphic\n",
    "from bokeh.io import push_notebook, show, output_notebook # lib. for graphic output\n",
    "from bokeh.plotting import figure\n",
    "output_notebook()\n",
    "options = dict(plot_height=250,plot_width=700,\n",
    "               tools=\"pan,wheel_zoom,reset,save,crosshair,box_select\")\n",
    "def printred(s):\n",
    "    display(HTML('<pre style=\"font: bold 12pt Courier, serif;color:#a02\">' + s + '</pre>') )\n",
    "def printgrn(s):\n",
    "    display(HTML('<pre style=\"font: bold 12pt Courier, serif;color:#080\">' + s + '</pre>') )"
   ]
  },
  {
   "cell_type": "code",
   "execution_count": null,
   "metadata": {},
   "outputs": [],
   "source": [
    "n = 40; p0 = 1/2; k_max = int(3*n/4)                                # Set the initial values of the parameters\n",
    "x = range(0,n+1)\n",
    "\n",
    "plot = figure(title=\"PMF of X ~ B(n, p) and the interval [k, n].\",  # Create an empty figure\n",
    "              x_axis_label = \"# successes\", y_axis_label = \"probability\", \n",
    "              x_range=(0,n+1), y_range=(0,max(binom.pmf(x,n,p0)*1.2)), **options )               \n",
    "plot.title.text_font=\"courier\"\n",
    "plot.title.text_font_size=\"14pt\"\n",
    "\n",
    "\n",
    "r1 = plot.vbar(x, top=[0 for i in x], bottom=0, width=.9, color='green', alpha=0.5) # Initialize barplot\n",
    "r2 = plot.vbar(x, top=[0 for i in x], bottom=0, width=.9, color='red',   alpha=0.5) # Initialize barplot\n",
    "show(plot, notebook_handle=True)                                                    # Show barplot\n",
    "        \n",
    "def f(k, p, p0):\n",
    "    data = {'x':x, 'top':  binom.pmf(x, n, p) }\n",
    "    x_rif = range(k,n+1)\n",
    "    data2 = {'x':x_rif, 'top':  binom.pmf(x_rif, n, p) }\n",
    "    r1.data_source.data = data\n",
    "    r2.data_source.data = data2\n",
    "    printred('T = [ k, n ]  zona di rifiuto  k = {}  n = {}'.format(k,n) )\n",
    "    if p == p0: \n",
    "        printred('Pr( T | p = {:.2f}) = α = {:.3f} (falso positivo) ERRORE I tipo'.format(p,1-binom.cdf(k-1, n, p)))\n",
    "    else: \n",
    "        printgrn('Pr(¬T | p = {:.2f}) = β = {:.3f} (falso negativo) ERRORE II tipo'.format(p,binom.cdf(k-1, n, p)))\n",
    "    push_notebook()\n",
    "    \n",
    "w1 = interactive(lambda k,p: f(k, p, 0.5),\n",
    "         k = IntSlider  (description=\"k\", min=n/2, max=k_max, step=1, value=n), \n",
    "         p = FloatSlider(description=\"p\", min=0.5, max=0.75, step=0.05, value=0.5))\n",
    "display(w1);"
   ]
  },
  {
   "cell_type": "markdown",
   "metadata": {},
   "source": [
    "# Osservazione\n",
    "\n",
    "$\\alpha =\\Pr (X\\in T\\,|\\, H_0)$ si chiama <mark>significatività</mark> \n",
    "\n",
    "$\\displaystyle\\alpha =\\sum_{k\\in T}{n \\choose k}\\cdot 0.5^k \\cdot 0.5^{n-k}$ nell'esempio\n",
    "\n",
    "$\\alpha$ misura la probabilità si un errore del <mark>I tipo</mark> (falso positivo)\n",
    "\n",
    "$\\beta = \\Pr (X\\notin T\\,|\\, H_A)$ non ha nome, ma $1-\\beta$ si chiama <mark>potenza</mark>, nei test diagnostici la potenza si chiamava *sensitività*. \n",
    "\n",
    "$\\displaystyle\\beta =\\sum_{k\\in T}{n \\choose k}\\, 0.75^k \\, 0.25^{n-k}$ nell'esempio\n",
    "\n",
    "$\\beta$ misura la probabilità si un errore del <mark>II tipo</mark> (falso negativo).\n",
    "\n",
    "Per calcolare $\\alpha$ e $\\beta$ bisogna usare opportune librerie."
   ]
  },
  {
   "cell_type": "code",
   "execution_count": null,
   "metadata": {},
   "outputs": [],
   "source": [
    "from scipy.stats import binom \n",
    "\n",
    "# calcolo di α per i seguenti valori di n e k:\n",
    "n = 20\n",
    "k = 15\n",
    "\n",
    "1-binom.cdf(k,n,0.5)"
   ]
  },
  {
   "cell_type": "code",
   "execution_count": null,
   "metadata": {},
   "outputs": [],
   "source": [
    "# calcolo di β (per gli stessi valori di n e k):\n",
    "binom.cdf(k-1,n,0.75)"
   ]
  },
  {
   "cell_type": "markdown",
   "metadata": {},
   "source": [
    "Per trovare il la soglia ottimale del test, calcoliamo \n",
    "$\\alpha$ e $\\beta$ per diversi valori di $k$.\n",
    "\n",
    "Conviene automatizzare il calcolo con un *ciclo for*. Ogni linguaggio di programmazione ha la sua specifica sintassi per un tale ciclo. "
   ]
  },
  {
   "cell_type": "code",
   "execution_count": null,
   "metadata": {},
   "outputs": [],
   "source": [
    "# calcolo di α per n come sopra e tutti i valori di k ∈ [0,n] :\n",
    "for k in range(0,n+1):\n",
    "    print( \"k = \", k, \"    α = \", 1-binom.cdf(k,n,0.5) )"
   ]
  },
  {
   "cell_type": "code",
   "execution_count": null,
   "metadata": {},
   "outputs": [],
   "source": [
    "# calcolo di β per n come sopra e tutti i valori di k ∈ [0,n] :\n",
    "for k in range(0,n+1):\n",
    "    print( \"k = \", k, \"    β = \", round( 100 * binom.cdf(k-1,n,0.75), 0), \"%\" )"
   ]
  },
  {
   "cell_type": "code",
   "execution_count": null,
   "metadata": {},
   "outputs": [],
   "source": []
  }
 ],
 "metadata": {
  "kernelspec": {
   "display_name": "Python 3",
   "language": "python",
   "name": "python3"
  },
  "language_info": {
   "codemirror_mode": {
    "name": "ipython",
    "version": 3
   },
   "file_extension": ".py",
   "mimetype": "text/x-python",
   "name": "python",
   "nbconvert_exporter": "python",
   "pygments_lexer": "ipython3",
   "version": "3.6.8"
  }
 },
 "nbformat": 4,
 "nbformat_minor": 2
}
