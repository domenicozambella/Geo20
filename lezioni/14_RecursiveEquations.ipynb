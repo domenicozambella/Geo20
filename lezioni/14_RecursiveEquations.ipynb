{
 "cells": [
  {
   "cell_type": "code",
   "execution_count": 1,
   "metadata": {},
   "outputs": [
    {
     "data": {
      "text/html": [
       "\n",
       "    <div class=\"bk-root\">\n",
       "        <a href=\"https://bokeh.pydata.org\" target=\"_blank\" class=\"bk-logo bk-logo-small bk-logo-notebook\"></a>\n",
       "        <span id=\"1001\">Loading BokehJS ...</span>\n",
       "    </div>"
      ]
     },
     "metadata": {},
     "output_type": "display_data"
    },
    {
     "data": {
      "application/javascript": [
       "\n",
       "(function(root) {\n",
       "  function now() {\n",
       "    return new Date();\n",
       "  }\n",
       "\n",
       "  var force = true;\n",
       "\n",
       "  if (typeof (root._bokeh_onload_callbacks) === \"undefined\" || force === true) {\n",
       "    root._bokeh_onload_callbacks = [];\n",
       "    root._bokeh_is_loading = undefined;\n",
       "  }\n",
       "\n",
       "  var JS_MIME_TYPE = 'application/javascript';\n",
       "  var HTML_MIME_TYPE = 'text/html';\n",
       "  var EXEC_MIME_TYPE = 'application/vnd.bokehjs_exec.v0+json';\n",
       "  var CLASS_NAME = 'output_bokeh rendered_html';\n",
       "\n",
       "  /**\n",
       "   * Render data to the DOM node\n",
       "   */\n",
       "  function render(props, node) {\n",
       "    var script = document.createElement(\"script\");\n",
       "    node.appendChild(script);\n",
       "  }\n",
       "\n",
       "  /**\n",
       "   * Handle when an output is cleared or removed\n",
       "   */\n",
       "  function handleClearOutput(event, handle) {\n",
       "    var cell = handle.cell;\n",
       "\n",
       "    var id = cell.output_area._bokeh_element_id;\n",
       "    var server_id = cell.output_area._bokeh_server_id;\n",
       "    // Clean up Bokeh references\n",
       "    if (id != null && id in Bokeh.index) {\n",
       "      Bokeh.index[id].model.document.clear();\n",
       "      delete Bokeh.index[id];\n",
       "    }\n",
       "\n",
       "    if (server_id !== undefined) {\n",
       "      // Clean up Bokeh references\n",
       "      var cmd = \"from bokeh.io.state import curstate; print(curstate().uuid_to_server['\" + server_id + \"'].get_sessions()[0].document.roots[0]._id)\";\n",
       "      cell.notebook.kernel.execute(cmd, {\n",
       "        iopub: {\n",
       "          output: function(msg) {\n",
       "            var id = msg.content.text.trim();\n",
       "            if (id in Bokeh.index) {\n",
       "              Bokeh.index[id].model.document.clear();\n",
       "              delete Bokeh.index[id];\n",
       "            }\n",
       "          }\n",
       "        }\n",
       "      });\n",
       "      // Destroy server and session\n",
       "      var cmd = \"import bokeh.io.notebook as ion; ion.destroy_server('\" + server_id + \"')\";\n",
       "      cell.notebook.kernel.execute(cmd);\n",
       "    }\n",
       "  }\n",
       "\n",
       "  /**\n",
       "   * Handle when a new output is added\n",
       "   */\n",
       "  function handleAddOutput(event, handle) {\n",
       "    var output_area = handle.output_area;\n",
       "    var output = handle.output;\n",
       "\n",
       "    // limit handleAddOutput to display_data with EXEC_MIME_TYPE content only\n",
       "    if ((output.output_type != \"display_data\") || (!output.data.hasOwnProperty(EXEC_MIME_TYPE))) {\n",
       "      return\n",
       "    }\n",
       "\n",
       "    var toinsert = output_area.element.find(\".\" + CLASS_NAME.split(' ')[0]);\n",
       "\n",
       "    if (output.metadata[EXEC_MIME_TYPE][\"id\"] !== undefined) {\n",
       "      toinsert[toinsert.length - 1].firstChild.textContent = output.data[JS_MIME_TYPE];\n",
       "      // store reference to embed id on output_area\n",
       "      output_area._bokeh_element_id = output.metadata[EXEC_MIME_TYPE][\"id\"];\n",
       "    }\n",
       "    if (output.metadata[EXEC_MIME_TYPE][\"server_id\"] !== undefined) {\n",
       "      var bk_div = document.createElement(\"div\");\n",
       "      bk_div.innerHTML = output.data[HTML_MIME_TYPE];\n",
       "      var script_attrs = bk_div.children[0].attributes;\n",
       "      for (var i = 0; i < script_attrs.length; i++) {\n",
       "        toinsert[toinsert.length - 1].firstChild.setAttribute(script_attrs[i].name, script_attrs[i].value);\n",
       "      }\n",
       "      // store reference to server id on output_area\n",
       "      output_area._bokeh_server_id = output.metadata[EXEC_MIME_TYPE][\"server_id\"];\n",
       "    }\n",
       "  }\n",
       "\n",
       "  function register_renderer(events, OutputArea) {\n",
       "\n",
       "    function append_mime(data, metadata, element) {\n",
       "      // create a DOM node to render to\n",
       "      var toinsert = this.create_output_subarea(\n",
       "        metadata,\n",
       "        CLASS_NAME,\n",
       "        EXEC_MIME_TYPE\n",
       "      );\n",
       "      this.keyboard_manager.register_events(toinsert);\n",
       "      // Render to node\n",
       "      var props = {data: data, metadata: metadata[EXEC_MIME_TYPE]};\n",
       "      render(props, toinsert[toinsert.length - 1]);\n",
       "      element.append(toinsert);\n",
       "      return toinsert\n",
       "    }\n",
       "\n",
       "    /* Handle when an output is cleared or removed */\n",
       "    events.on('clear_output.CodeCell', handleClearOutput);\n",
       "    events.on('delete.Cell', handleClearOutput);\n",
       "\n",
       "    /* Handle when a new output is added */\n",
       "    events.on('output_added.OutputArea', handleAddOutput);\n",
       "\n",
       "    /**\n",
       "     * Register the mime type and append_mime function with output_area\n",
       "     */\n",
       "    OutputArea.prototype.register_mime_type(EXEC_MIME_TYPE, append_mime, {\n",
       "      /* Is output safe? */\n",
       "      safe: true,\n",
       "      /* Index of renderer in `output_area.display_order` */\n",
       "      index: 0\n",
       "    });\n",
       "  }\n",
       "\n",
       "  // register the mime type if in Jupyter Notebook environment and previously unregistered\n",
       "  if (root.Jupyter !== undefined) {\n",
       "    var events = require('base/js/events');\n",
       "    var OutputArea = require('notebook/js/outputarea').OutputArea;\n",
       "\n",
       "    if (OutputArea.prototype.mime_types().indexOf(EXEC_MIME_TYPE) == -1) {\n",
       "      register_renderer(events, OutputArea);\n",
       "    }\n",
       "  }\n",
       "\n",
       "  \n",
       "  if (typeof (root._bokeh_timeout) === \"undefined\" || force === true) {\n",
       "    root._bokeh_timeout = Date.now() + 5000;\n",
       "    root._bokeh_failed_load = false;\n",
       "  }\n",
       "\n",
       "  var NB_LOAD_WARNING = {'data': {'text/html':\n",
       "     \"<div style='background-color: #fdd'>\\n\"+\n",
       "     \"<p>\\n\"+\n",
       "     \"BokehJS does not appear to have successfully loaded. If loading BokehJS from CDN, this \\n\"+\n",
       "     \"may be due to a slow or bad network connection. Possible fixes:\\n\"+\n",
       "     \"</p>\\n\"+\n",
       "     \"<ul>\\n\"+\n",
       "     \"<li>re-rerun `output_notebook()` to attempt to load from CDN again, or</li>\\n\"+\n",
       "     \"<li>use INLINE resources instead, as so:</li>\\n\"+\n",
       "     \"</ul>\\n\"+\n",
       "     \"<code>\\n\"+\n",
       "     \"from bokeh.resources import INLINE\\n\"+\n",
       "     \"output_notebook(resources=INLINE)\\n\"+\n",
       "     \"</code>\\n\"+\n",
       "     \"</div>\"}};\n",
       "\n",
       "  function display_loaded() {\n",
       "    var el = document.getElementById(\"1001\");\n",
       "    if (el != null) {\n",
       "      el.textContent = \"BokehJS is loading...\";\n",
       "    }\n",
       "    if (root.Bokeh !== undefined) {\n",
       "      if (el != null) {\n",
       "        el.textContent = \"BokehJS \" + root.Bokeh.version + \" successfully loaded.\";\n",
       "      }\n",
       "    } else if (Date.now() < root._bokeh_timeout) {\n",
       "      setTimeout(display_loaded, 100)\n",
       "    }\n",
       "  }\n",
       "\n",
       "\n",
       "  function run_callbacks() {\n",
       "    try {\n",
       "      root._bokeh_onload_callbacks.forEach(function(callback) { callback() });\n",
       "    }\n",
       "    finally {\n",
       "      delete root._bokeh_onload_callbacks\n",
       "    }\n",
       "    console.info(\"Bokeh: all callbacks have finished\");\n",
       "  }\n",
       "\n",
       "  function load_libs(js_urls, callback) {\n",
       "    root._bokeh_onload_callbacks.push(callback);\n",
       "    if (root._bokeh_is_loading > 0) {\n",
       "      console.log(\"Bokeh: BokehJS is being loaded, scheduling callback at\", now());\n",
       "      return null;\n",
       "    }\n",
       "    if (js_urls == null || js_urls.length === 0) {\n",
       "      run_callbacks();\n",
       "      return null;\n",
       "    }\n",
       "    console.log(\"Bokeh: BokehJS not loaded, scheduling load and callback at\", now());\n",
       "    root._bokeh_is_loading = js_urls.length;\n",
       "    for (var i = 0; i < js_urls.length; i++) {\n",
       "      var url = js_urls[i];\n",
       "      var s = document.createElement('script');\n",
       "      s.src = url;\n",
       "      s.async = false;\n",
       "      s.onreadystatechange = s.onload = function() {\n",
       "        root._bokeh_is_loading--;\n",
       "        if (root._bokeh_is_loading === 0) {\n",
       "          console.log(\"Bokeh: all BokehJS libraries loaded\");\n",
       "          run_callbacks()\n",
       "        }\n",
       "      };\n",
       "      s.onerror = function() {\n",
       "        console.warn(\"failed to load library \" + url);\n",
       "      };\n",
       "      console.log(\"Bokeh: injecting script tag for BokehJS library: \", url);\n",
       "      document.getElementsByTagName(\"head\")[0].appendChild(s);\n",
       "    }\n",
       "  };var element = document.getElementById(\"1001\");\n",
       "  if (element == null) {\n",
       "    console.log(\"Bokeh: ERROR: autoload.js configured with elementid '1001' but no matching script tag was found. \")\n",
       "    return false;\n",
       "  }\n",
       "\n",
       "  var js_urls = [\"https://cdn.pydata.org/bokeh/release/bokeh-1.0.4.min.js\", \"https://cdn.pydata.org/bokeh/release/bokeh-widgets-1.0.4.min.js\", \"https://cdn.pydata.org/bokeh/release/bokeh-tables-1.0.4.min.js\", \"https://cdn.pydata.org/bokeh/release/bokeh-gl-1.0.4.min.js\"];\n",
       "\n",
       "  var inline_js = [\n",
       "    function(Bokeh) {\n",
       "      Bokeh.set_log_level(\"info\");\n",
       "    },\n",
       "    \n",
       "    function(Bokeh) {\n",
       "      \n",
       "    },\n",
       "    function(Bokeh) {\n",
       "      console.log(\"Bokeh: injecting CSS: https://cdn.pydata.org/bokeh/release/bokeh-1.0.4.min.css\");\n",
       "      Bokeh.embed.inject_css(\"https://cdn.pydata.org/bokeh/release/bokeh-1.0.4.min.css\");\n",
       "      console.log(\"Bokeh: injecting CSS: https://cdn.pydata.org/bokeh/release/bokeh-widgets-1.0.4.min.css\");\n",
       "      Bokeh.embed.inject_css(\"https://cdn.pydata.org/bokeh/release/bokeh-widgets-1.0.4.min.css\");\n",
       "      console.log(\"Bokeh: injecting CSS: https://cdn.pydata.org/bokeh/release/bokeh-tables-1.0.4.min.css\");\n",
       "      Bokeh.embed.inject_css(\"https://cdn.pydata.org/bokeh/release/bokeh-tables-1.0.4.min.css\");\n",
       "    }\n",
       "  ];\n",
       "\n",
       "  function run_inline_js() {\n",
       "    \n",
       "    if ((root.Bokeh !== undefined) || (force === true)) {\n",
       "      for (var i = 0; i < inline_js.length; i++) {\n",
       "        inline_js[i].call(root, root.Bokeh);\n",
       "      }if (force === true) {\n",
       "        display_loaded();\n",
       "      }} else if (Date.now() < root._bokeh_timeout) {\n",
       "      setTimeout(run_inline_js, 100);\n",
       "    } else if (!root._bokeh_failed_load) {\n",
       "      console.log(\"Bokeh: BokehJS failed to load within specified timeout.\");\n",
       "      root._bokeh_failed_load = true;\n",
       "    } else if (force !== true) {\n",
       "      var cell = $(document.getElementById(\"1001\")).parents('.cell').data().cell;\n",
       "      cell.output_area.append_execute_result(NB_LOAD_WARNING)\n",
       "    }\n",
       "\n",
       "  }\n",
       "\n",
       "  if (root._bokeh_is_loading === 0) {\n",
       "    console.log(\"Bokeh: BokehJS loaded, going straight to plotting\");\n",
       "    run_inline_js();\n",
       "  } else {\n",
       "    load_libs(js_urls, function() {\n",
       "      console.log(\"Bokeh: BokehJS plotting callback run at\", now());\n",
       "      run_inline_js();\n",
       "    });\n",
       "  }\n",
       "}(window));"
      ],
      "application/vnd.bokehjs_load.v0+json": "\n(function(root) {\n  function now() {\n    return new Date();\n  }\n\n  var force = true;\n\n  if (typeof (root._bokeh_onload_callbacks) === \"undefined\" || force === true) {\n    root._bokeh_onload_callbacks = [];\n    root._bokeh_is_loading = undefined;\n  }\n\n  \n\n  \n  if (typeof (root._bokeh_timeout) === \"undefined\" || force === true) {\n    root._bokeh_timeout = Date.now() + 5000;\n    root._bokeh_failed_load = false;\n  }\n\n  var NB_LOAD_WARNING = {'data': {'text/html':\n     \"<div style='background-color: #fdd'>\\n\"+\n     \"<p>\\n\"+\n     \"BokehJS does not appear to have successfully loaded. If loading BokehJS from CDN, this \\n\"+\n     \"may be due to a slow or bad network connection. Possible fixes:\\n\"+\n     \"</p>\\n\"+\n     \"<ul>\\n\"+\n     \"<li>re-rerun `output_notebook()` to attempt to load from CDN again, or</li>\\n\"+\n     \"<li>use INLINE resources instead, as so:</li>\\n\"+\n     \"</ul>\\n\"+\n     \"<code>\\n\"+\n     \"from bokeh.resources import INLINE\\n\"+\n     \"output_notebook(resources=INLINE)\\n\"+\n     \"</code>\\n\"+\n     \"</div>\"}};\n\n  function display_loaded() {\n    var el = document.getElementById(\"1001\");\n    if (el != null) {\n      el.textContent = \"BokehJS is loading...\";\n    }\n    if (root.Bokeh !== undefined) {\n      if (el != null) {\n        el.textContent = \"BokehJS \" + root.Bokeh.version + \" successfully loaded.\";\n      }\n    } else if (Date.now() < root._bokeh_timeout) {\n      setTimeout(display_loaded, 100)\n    }\n  }\n\n\n  function run_callbacks() {\n    try {\n      root._bokeh_onload_callbacks.forEach(function(callback) { callback() });\n    }\n    finally {\n      delete root._bokeh_onload_callbacks\n    }\n    console.info(\"Bokeh: all callbacks have finished\");\n  }\n\n  function load_libs(js_urls, callback) {\n    root._bokeh_onload_callbacks.push(callback);\n    if (root._bokeh_is_loading > 0) {\n      console.log(\"Bokeh: BokehJS is being loaded, scheduling callback at\", now());\n      return null;\n    }\n    if (js_urls == null || js_urls.length === 0) {\n      run_callbacks();\n      return null;\n    }\n    console.log(\"Bokeh: BokehJS not loaded, scheduling load and callback at\", now());\n    root._bokeh_is_loading = js_urls.length;\n    for (var i = 0; i < js_urls.length; i++) {\n      var url = js_urls[i];\n      var s = document.createElement('script');\n      s.src = url;\n      s.async = false;\n      s.onreadystatechange = s.onload = function() {\n        root._bokeh_is_loading--;\n        if (root._bokeh_is_loading === 0) {\n          console.log(\"Bokeh: all BokehJS libraries loaded\");\n          run_callbacks()\n        }\n      };\n      s.onerror = function() {\n        console.warn(\"failed to load library \" + url);\n      };\n      console.log(\"Bokeh: injecting script tag for BokehJS library: \", url);\n      document.getElementsByTagName(\"head\")[0].appendChild(s);\n    }\n  };var element = document.getElementById(\"1001\");\n  if (element == null) {\n    console.log(\"Bokeh: ERROR: autoload.js configured with elementid '1001' but no matching script tag was found. \")\n    return false;\n  }\n\n  var js_urls = [\"https://cdn.pydata.org/bokeh/release/bokeh-1.0.4.min.js\", \"https://cdn.pydata.org/bokeh/release/bokeh-widgets-1.0.4.min.js\", \"https://cdn.pydata.org/bokeh/release/bokeh-tables-1.0.4.min.js\", \"https://cdn.pydata.org/bokeh/release/bokeh-gl-1.0.4.min.js\"];\n\n  var inline_js = [\n    function(Bokeh) {\n      Bokeh.set_log_level(\"info\");\n    },\n    \n    function(Bokeh) {\n      \n    },\n    function(Bokeh) {\n      console.log(\"Bokeh: injecting CSS: https://cdn.pydata.org/bokeh/release/bokeh-1.0.4.min.css\");\n      Bokeh.embed.inject_css(\"https://cdn.pydata.org/bokeh/release/bokeh-1.0.4.min.css\");\n      console.log(\"Bokeh: injecting CSS: https://cdn.pydata.org/bokeh/release/bokeh-widgets-1.0.4.min.css\");\n      Bokeh.embed.inject_css(\"https://cdn.pydata.org/bokeh/release/bokeh-widgets-1.0.4.min.css\");\n      console.log(\"Bokeh: injecting CSS: https://cdn.pydata.org/bokeh/release/bokeh-tables-1.0.4.min.css\");\n      Bokeh.embed.inject_css(\"https://cdn.pydata.org/bokeh/release/bokeh-tables-1.0.4.min.css\");\n    }\n  ];\n\n  function run_inline_js() {\n    \n    if ((root.Bokeh !== undefined) || (force === true)) {\n      for (var i = 0; i < inline_js.length; i++) {\n        inline_js[i].call(root, root.Bokeh);\n      }if (force === true) {\n        display_loaded();\n      }} else if (Date.now() < root._bokeh_timeout) {\n      setTimeout(run_inline_js, 100);\n    } else if (!root._bokeh_failed_load) {\n      console.log(\"Bokeh: BokehJS failed to load within specified timeout.\");\n      root._bokeh_failed_load = true;\n    } else if (force !== true) {\n      var cell = $(document.getElementById(\"1001\")).parents('.cell').data().cell;\n      cell.output_area.append_execute_result(NB_LOAD_WARNING)\n    }\n\n  }\n\n  if (root._bokeh_is_loading === 0) {\n    console.log(\"Bokeh: BokehJS loaded, going straight to plotting\");\n    run_inline_js();\n  } else {\n    load_libs(js_urls, function() {\n      console.log(\"Bokeh: BokehJS plotting callback run at\", now());\n      run_inline_js();\n    });\n  }\n}(window));"
     },
     "metadata": {},
     "output_type": "display_data"
    },
    {
     "data": {
      "text/html": [
       "<style>\n",
       "div.jp-MarkdownOutput {font-family: \"Times New Roman\", Times, serif;   \n",
       "    /* background-color: #eee;  */\n",
       "    /* border-left: 5px solid #00b5b4; */\n",
       "    font-size: 10pt;\n",
       "    line-height: 140%;\n",
       "}\n",
       ".text_cell_render {\n",
       "    font-family: \"Times New Roman\", Times, serif;    \n",
       "    /* background-color: #eee;  */\n",
       "    /* border-left: 5px solid #00b5b4; */\n",
       "    font-size: 14pt;\n",
       "    line-height: 140%;s\n",
       "}\n",
       "\n",
       "h1 {\n",
       "    font-size: xx-large  !important;\n",
       "    margin-top: 0ex !important;\n",
       "}\n",
       "\n",
       "h2 {\n",
       "    font-size: larger !important;\n",
       "    margin-top: 0ex !important;\n",
       "    margin-bottom: 0ex !important;\n",
       "    padding-bottom: 0ex !important;\n",
       "}\n",
       "\n",
       "h3 {\n",
       "    font-size: large !important;\n",
       "    margin-top: 0ex !important;\n",
       "    margin-bottom: 0ex !important;\n",
       "    padding-bottom: 0ex !important;\n",
       "}\n",
       "\n",
       "mark {\n",
       "    background-color: #ffdd00;\n",
       "    border-top-right-radius: 5px;\n",
       "    border-top-left-radius: 5px;\n",
       "    border-bottom-right-radius: 5px;\n",
       "    border-bottom-left-radius: 5px;\n",
       "    padding-top: 0.1ex;\n",
       "    padding-bottom: 0.2ex;\n",
       "    padding-left: 0.7ex;\n",
       "    padding-right: 0.7ex;\n",
       "}\n",
       "\n",
       ".ita {\n",
       "    background-color: #bbddee;\n",
       "}\n",
       "\n",
       ".errore {background-color:#d88;\n",
       "        width:310px;\n",
       "        height:17ex;\n",
       "        display:inline-block;\n",
       "        margin:5px;\n",
       "        padding:8px;\n",
       "}\n",
       "\n",
       ".corretto {background-color:#2d8;\n",
       "        width:310px;\n",
       "        height:17ex;\n",
       "        display:inline-block;\n",
       "        margin:5px;\n",
       "        padding:8px;\n",
       "}\n",
       "\n",
       "n-a {background-color: #ffdddd;}\n",
       "\n",
       "ul, ol {\n",
       "     padding-left: 2ex !important;\n",
       "}\n",
       "ul {\n",
       "     margin-top: 0ex !important;\n",
       "     margin-bottom: 0ex !important;\n",
       "     list-style-type: square !important;\n",
       "}\n",
       "\n",
       "div.warn {    \n",
       "    background-color: #fcf2f2;\n",
       "    border-color: #dFb5b4;\n",
       "    border-left: 5px solid #dfb5b4;\n",
       "    margin-top: 1ex;\n",
       "    padding: 1ex;\n",
       "}\n",
       ".right{\n",
       "    float:right\n",
       "}\n",
       "\n",
       "hr { \n",
       "    display: block;\n",
       "    margin-top: 0.5ex;\n",
       "    margin-bottom: 0.5ex;\n",
       "    margin-left: auto;\n",
       "    margin-right: auto;\n",
       "    border-style: inset;\n",
       "    border-width: 1px;\n",
       "}\n",
       "</style>\n"
      ],
      "text/plain": [
       "<IPython.core.display.HTML object>"
      ]
     },
     "execution_count": 1,
     "metadata": {},
     "output_type": "execute_result"
    }
   ],
   "source": [
    "# RUN THIS CELL:this loads functions for numerical arrays\n",
    "from numpy import array, arange, linspace\n",
    "\n",
    "# this loads functions for statistical functions\n",
    "from scipy.stats import binom, norm\n",
    "\n",
    "# this loads functions for graphic output and set some global options\n",
    "from bokeh.io import push_notebook, show, output_notebook, output_file\n",
    "from bokeh.plotting import figure\n",
    "output_notebook()\n",
    "options = dict(plot_height=300, plot_width=600, tools=\"pan,wheel_zoom,reset,save,crosshair\")\n",
    "\n",
    "# this loads functions for interactions with the graphic\n",
    "from ipywidgets import interact, fixed, FloatSlider, IntSlider, Button, Checkbox, HBox, Label\n",
    "\n",
    "# this loads some HTML style files\n",
    "from IPython.core.display import HTML\n",
    "with open( './style/custom.css', 'r' ) as f: html_style = f.read()\n",
    "HTML( html_style )"
   ]
  },
  {
   "cell_type": "markdown",
   "metadata": {},
   "source": [
    "# Crescita malthusiana (tempo discreto)\n",
    "\n",
    "Supponiamo che una certa popolazione di batteri in condizioni ottimali (bassa densità e abbondante nutrimento) cresca ogni quarto d'ora del $20\\%$. Chiamiamo $d_0$ la densità al tempo $0$ e $d_n$ la densità dopo $n$ quarti d'ora. \n",
    "\n",
    "Esempio numerico. Supponiamo che la concentrazione iniziale sia $4.5$ in una qualche unità di misura. Posto \n",
    "\n",
    "$d_0 = 4.5$\n",
    "\n",
    "$d_1 = (1+0.2) \\cdot d_0 = 1.2\\cdot  4.5 = 5.4$ \n",
    "\n",
    "$d_2 = (1+0.2) \\cdot d_1 = 1.2\\cdot  5.4 = 6.48$\n",
    "\n",
    "$d_3 = (1+0.2) \\cdot d_2 = $ \n",
    "\n",
    "ecc., ecc.\n",
    "\n",
    "$d_n = (1+0.2) \\cdot d_{n-1}\\quad$ per ogni $n\\ge 1$\n",
    "\n",
    "o anche \n",
    "\n",
    "$d_{n+1} = (1+0.2) \\cdot d_n\\quad$ per ogni $n\\ge 0$"
   ]
  },
  {
   "cell_type": "code",
   "execution_count": 2,
   "metadata": {
    "scrolled": true
   },
   "outputs": [
    {
     "data": {
      "text/html": [
       "\n",
       "\n",
       "\n",
       "\n",
       "\n",
       "\n",
       "  <div class=\"bk-root\" id=\"623d4d5f-d24f-4cf0-a955-5155fcacb8ea\" data-root-id=\"1003\"></div>\n"
      ]
     },
     "metadata": {},
     "output_type": "display_data"
    },
    {
     "data": {
      "application/javascript": [
       "(function(root) {\n",
       "  function embed_document(root) {\n",
       "    \n",
       "  var docs_json = {\"3e334047-099b-41d8-b159-22c14e661d65\":{\"roots\":{\"references\":[{\"attributes\":{\"below\":[{\"id\":\"1013\",\"type\":\"LinearAxis\"}],\"left\":[{\"id\":\"1018\",\"type\":\"LinearAxis\"}],\"plot_height\":300,\"renderers\":[{\"id\":\"1013\",\"type\":\"LinearAxis\"},{\"id\":\"1017\",\"type\":\"Grid\"},{\"id\":\"1018\",\"type\":\"LinearAxis\"},{\"id\":\"1022\",\"type\":\"Grid\"},{\"id\":\"1037\",\"type\":\"GlyphRenderer\"},{\"id\":\"1042\",\"type\":\"GlyphRenderer\"}],\"title\":{\"id\":\"1002\",\"type\":\"Title\"},\"toolbar\":{\"id\":\"1028\",\"type\":\"Toolbar\"},\"x_range\":{\"id\":\"1005\",\"type\":\"Range1d\"},\"x_scale\":{\"id\":\"1009\",\"type\":\"LinearScale\"},\"y_range\":{\"id\":\"1007\",\"type\":\"Range1d\"},\"y_scale\":{\"id\":\"1011\",\"type\":\"LinearScale\"}},\"id\":\"1003\",\"subtype\":\"Figure\",\"type\":\"Plot\"},{\"attributes\":{\"source\":{\"id\":\"1039\",\"type\":\"ColumnDataSource\"}},\"id\":\"1043\",\"type\":\"CDSView\"},{\"attributes\":{\"active_drag\":\"auto\",\"active_inspect\":\"auto\",\"active_multi\":null,\"active_scroll\":\"auto\",\"active_tap\":\"auto\",\"tools\":[{\"id\":\"1023\",\"type\":\"PanTool\"},{\"id\":\"1024\",\"type\":\"WheelZoomTool\"},{\"id\":\"1025\",\"type\":\"ResetTool\"},{\"id\":\"1026\",\"type\":\"SaveTool\"},{\"id\":\"1027\",\"type\":\"CrosshairTool\"}]},\"id\":\"1028\",\"type\":\"Toolbar\"},{\"attributes\":{\"data_source\":{\"id\":\"1034\",\"type\":\"ColumnDataSource\"},\"glyph\":{\"id\":\"1035\",\"type\":\"Square\"},\"hover_glyph\":null,\"muted_glyph\":null,\"nonselection_glyph\":{\"id\":\"1036\",\"type\":\"Square\"},\"selection_glyph\":null,\"view\":{\"id\":\"1038\",\"type\":\"CDSView\"}},\"id\":\"1037\",\"type\":\"GlyphRenderer\"},{\"attributes\":{},\"id\":\"1047\",\"type\":\"BasicTickFormatter\"},{\"attributes\":{\"callback\":null,\"data\":{\"x\":[0,1,2,3,4,5,6,7,8,9,10,11,12,13,14,15,16,17,18,19,20,21,22,23,24,25,26,27,28,29,30,31,32,33,34,35,36,37,38,39,40,41,42,43,44,45,46,47,48,49],\"y\":{\"__ndarray__\":\"AAAAAAAAEkCZmZmZmZkVQOtRuB6F6xlAs8h2vp8aH0DS3uALk6kiQC7YDdsWZSZA0WndBrXfKkCxch4E0x8wQAfwip5jWTNAormmJBE4N0BbeC5f4dw7QAMVT2y6t0BAnn/4gawPREDwZV0CzxJIQB9Ho89e40xAE5H74jhVUUAWrvqpqsxUQIBqxpiZ9VhANOa6HYXzXUAfitYRg/hhQCUMm0idkGVAYNuGvbzgaUA/B9VJrw1vQFgEs5LPoXJAajg948VbdkBM3a8Qh9R6QC3rz9YdGYBAak3GAVdRg0AYkIdoaC6HQE8TCRdK0YtAyT7SDcawkEDy5JUQVAeUQO5FGkfLCJhAULpSVVrXnEDKb/7/Ak6hQFi5l5kDxKRAA3gchTfrqEAEkIhsD+etQM+8HkEJ8bFA+EiLtKSHtUBdJKfY+NW5QG/4LjfEAL9A3GFPVA+awkBudZLLeFLGQIQmFsFdycpAGxfac2sS0ECH6Di+TUnTQAgXEbHDJNdAPbVHobfF20Al0/eT1KngQA==\",\"dtype\":\"float64\",\"shape\":[50]}},\"selected\":{\"id\":\"1050\",\"type\":\"Selection\"},\"selection_policy\":{\"id\":\"1049\",\"type\":\"UnionRenderers\"}},\"id\":\"1034\",\"type\":\"ColumnDataSource\"},{\"attributes\":{},\"id\":\"1049\",\"type\":\"UnionRenderers\"},{\"attributes\":{},\"id\":\"1024\",\"type\":\"WheelZoomTool\"},{\"attributes\":{},\"id\":\"1050\",\"type\":\"Selection\"},{\"attributes\":{},\"id\":\"1025\",\"type\":\"ResetTool\"},{\"attributes\":{\"plot\":null,\"text\":\"Crescita malthusiana. Tasso di crescita 0.2  Concentrazione iniziale 4.5\"},\"id\":\"1002\",\"type\":\"Title\"},{\"attributes\":{},\"id\":\"1051\",\"type\":\"UnionRenderers\"},{\"attributes\":{},\"id\":\"1026\",\"type\":\"SaveTool\"},{\"attributes\":{\"callback\":null,\"end\":10,\"start\":-0.5},\"id\":\"1005\",\"type\":\"Range1d\"},{\"attributes\":{},\"id\":\"1052\",\"type\":\"Selection\"},{\"attributes\":{},\"id\":\"1027\",\"type\":\"CrosshairTool\"},{\"attributes\":{\"callback\":null,\"end\":27.86281390079999},\"id\":\"1007\",\"type\":\"Range1d\"},{\"attributes\":{},\"id\":\"1009\",\"type\":\"LinearScale\"},{\"attributes\":{},\"id\":\"1011\",\"type\":\"LinearScale\"},{\"attributes\":{\"fill_alpha\":{\"value\":0.1},\"fill_color\":{\"value\":\"#1f77b4\"},\"line_alpha\":{\"value\":0.1},\"line_color\":{\"value\":\"#1f77b4\"},\"x\":{\"field\":\"x\"},\"y\":{\"field\":\"y\"}},\"id\":\"1036\",\"type\":\"Square\"},{\"attributes\":{\"axis_label\":\"Tempo, in quarti d'ora\",\"formatter\":{\"id\":\"1045\",\"type\":\"BasicTickFormatter\"},\"plot\":{\"id\":\"1003\",\"subtype\":\"Figure\",\"type\":\"Plot\"},\"ticker\":{\"id\":\"1014\",\"type\":\"BasicTicker\"}},\"id\":\"1013\",\"type\":\"LinearAxis\"},{\"attributes\":{},\"id\":\"1014\",\"type\":\"BasicTicker\"},{\"attributes\":{\"plot\":{\"id\":\"1003\",\"subtype\":\"Figure\",\"type\":\"Plot\"},\"ticker\":{\"id\":\"1014\",\"type\":\"BasicTicker\"}},\"id\":\"1017\",\"type\":\"Grid\"},{\"attributes\":{\"source\":{\"id\":\"1034\",\"type\":\"ColumnDataSource\"}},\"id\":\"1038\",\"type\":\"CDSView\"},{\"attributes\":{\"axis_label\":\"Concentrazione\",\"formatter\":{\"id\":\"1047\",\"type\":\"BasicTickFormatter\"},\"plot\":{\"id\":\"1003\",\"subtype\":\"Figure\",\"type\":\"Plot\"},\"ticker\":{\"id\":\"1019\",\"type\":\"BasicTicker\"}},\"id\":\"1018\",\"type\":\"LinearAxis\"},{\"attributes\":{},\"id\":\"1045\",\"type\":\"BasicTickFormatter\"},{\"attributes\":{},\"id\":\"1019\",\"type\":\"BasicTicker\"},{\"attributes\":{\"line_color\":\"#119911\",\"x\":{\"field\":\"x\"},\"y\":{\"field\":\"y\"}},\"id\":\"1040\",\"type\":\"Line\"},{\"attributes\":{\"dimension\":1,\"plot\":{\"id\":\"1003\",\"subtype\":\"Figure\",\"type\":\"Plot\"},\"ticker\":{\"id\":\"1019\",\"type\":\"BasicTicker\"}},\"id\":\"1022\",\"type\":\"Grid\"},{\"attributes\":{\"line_alpha\":0.1,\"line_color\":\"#1f77b4\",\"x\":{\"field\":\"x\"},\"y\":{\"field\":\"y\"}},\"id\":\"1041\",\"type\":\"Line\"},{\"attributes\":{\"fill_color\":{\"value\":\"#119911\"},\"line_color\":{\"value\":\"#119911\"},\"x\":{\"field\":\"x\"},\"y\":{\"field\":\"y\"}},\"id\":\"1035\",\"type\":\"Square\"},{\"attributes\":{},\"id\":\"1023\",\"type\":\"PanTool\"},{\"attributes\":{\"data_source\":{\"id\":\"1039\",\"type\":\"ColumnDataSource\"},\"glyph\":{\"id\":\"1040\",\"type\":\"Line\"},\"hover_glyph\":null,\"muted_glyph\":null,\"nonselection_glyph\":{\"id\":\"1041\",\"type\":\"Line\"},\"selection_glyph\":null,\"view\":{\"id\":\"1043\",\"type\":\"CDSView\"}},\"id\":\"1042\",\"type\":\"GlyphRenderer\"},{\"attributes\":{\"callback\":null,\"data\":{\"x\":[0,1,2,3,4,5,6,7,8,9,10,11,12,13,14,15,16,17,18,19,20,21,22,23,24,25,26,27,28,29,30,31,32,33,34,35,36,37,38,39,40,41,42,43,44,45,46,47,48,49],\"y\":{\"__ndarray__\":\"AAAAAAAAEkCZmZmZmZkVQOtRuB6F6xlAs8h2vp8aH0DS3uALk6kiQC7YDdsWZSZA0WndBrXfKkCxch4E0x8wQAfwip5jWTNAormmJBE4N0BbeC5f4dw7QAMVT2y6t0BAnn/4gawPREDwZV0CzxJIQB9Ho89e40xAE5H74jhVUUAWrvqpqsxUQIBqxpiZ9VhANOa6HYXzXUAfitYRg/hhQCUMm0idkGVAYNuGvbzgaUA/B9VJrw1vQFgEs5LPoXJAajg948VbdkBM3a8Qh9R6QC3rz9YdGYBAak3GAVdRg0AYkIdoaC6HQE8TCRdK0YtAyT7SDcawkEDy5JUQVAeUQO5FGkfLCJhAULpSVVrXnEDKb/7/Ak6hQFi5l5kDxKRAA3gchTfrqEAEkIhsD+etQM+8HkEJ8bFA+EiLtKSHtUBdJKfY+NW5QG/4LjfEAL9A3GFPVA+awkBudZLLeFLGQIQmFsFdycpAGxfac2sS0ECH6Di+TUnTQAgXEbHDJNdAPbVHobfF20Al0/eT1KngQA==\",\"dtype\":\"float64\",\"shape\":[50]}},\"selected\":{\"id\":\"1052\",\"type\":\"Selection\"},\"selection_policy\":{\"id\":\"1051\",\"type\":\"UnionRenderers\"}},\"id\":\"1039\",\"type\":\"ColumnDataSource\"}],\"root_ids\":[\"1003\"]},\"title\":\"Bokeh Application\",\"version\":\"1.0.4\"}};\n",
       "  var render_items = [{\"docid\":\"3e334047-099b-41d8-b159-22c14e661d65\",\"roots\":{\"1003\":\"623d4d5f-d24f-4cf0-a955-5155fcacb8ea\"}}];\n",
       "  root.Bokeh.embed.embed_items_notebook(docs_json, render_items);\n",
       "\n",
       "  }\n",
       "  if (root.Bokeh !== undefined) {\n",
       "    embed_document(root);\n",
       "  } else {\n",
       "    var attempts = 0;\n",
       "    var timer = setInterval(function(root) {\n",
       "      if (root.Bokeh !== undefined) {\n",
       "        embed_document(root);\n",
       "        clearInterval(timer);\n",
       "      }\n",
       "      attempts++;\n",
       "      if (attempts > 100) {\n",
       "        console.log(\"Bokeh: ERROR: Unable to run BokehJS code because BokehJS library is missing\");\n",
       "        clearInterval(timer);\n",
       "      }\n",
       "    }, 10, root)\n",
       "  }\n",
       "})(window);"
      ],
      "application/vnd.bokehjs_exec.v0+json": ""
     },
     "metadata": {
      "application/vnd.bokehjs_exec.v0+json": {
       "id": "1003"
      }
     },
     "output_type": "display_data"
    }
   ],
   "source": [
    "n_max = 50          # numero massimo di iterazioni che calcolo\n",
    "r = 0.2             # tasso di crescita\n",
    "d0 = 4.5            # concentrazione iniziale\n",
    "x = arange(n_max)   # array di tempi\n",
    "y = d0 * (1+r)**x   # array di concentrazioni\n",
    "\n",
    "plot1 = figure(title=f\"Crescita malthusiana. Tasso di crescita {r} \" +\n",
    "                     f\" Concentrazione iniziale {d0}\", \n",
    "               x_axis_label = \"Tempo, in quarti d'ora\",\n",
    "               y_axis_label = \"Concentrazione\",\n",
    "               x_range=(-0.5,   10  ),       # range x da visualizzare inizialmente\n",
    "               y_range=( 0.0, y[10] ),       # range y da visualizzare inizialmente \n",
    "               **options,\n",
    "              )\n",
    "p1 = plot1.square(x, y, color='#119911')\n",
    "p1 = plot1.line(x, y, color='#119911')\n",
    "show(plot1)"
   ]
  },
  {
   "cell_type": "code",
   "execution_count": 3,
   "metadata": {},
   "outputs": [
    {
     "data": {
      "text/html": [
       "\n",
       "\n",
       "\n",
       "\n",
       "\n",
       "\n",
       "  <div class=\"bk-root\" id=\"75e2bdb8-173e-4759-9822-64e487f1d0e1\" data-root-id=\"1003\"></div>\n"
      ]
     },
     "metadata": {},
     "output_type": "display_data"
    },
    {
     "data": {
      "application/javascript": [
       "(function(root) {\n",
       "  function embed_document(root) {\n",
       "    \n",
       "  var docs_json = {\"6b825609-d94a-4df6-9088-25863579b9b3\":{\"roots\":{\"references\":[{\"attributes\":{\"below\":[{\"id\":\"1013\",\"type\":\"LinearAxis\"}],\"left\":[{\"id\":\"1018\",\"type\":\"LinearAxis\"}],\"plot_height\":300,\"renderers\":[{\"id\":\"1013\",\"type\":\"LinearAxis\"},{\"id\":\"1017\",\"type\":\"Grid\"},{\"id\":\"1018\",\"type\":\"LinearAxis\"},{\"id\":\"1022\",\"type\":\"Grid\"},{\"id\":\"1037\",\"type\":\"GlyphRenderer\"},{\"id\":\"1042\",\"type\":\"GlyphRenderer\"}],\"title\":{\"id\":\"1002\",\"type\":\"Title\"},\"toolbar\":{\"id\":\"1028\",\"type\":\"Toolbar\"},\"x_range\":{\"id\":\"1005\",\"type\":\"Range1d\"},\"x_scale\":{\"id\":\"1009\",\"type\":\"LinearScale\"},\"y_range\":{\"id\":\"1007\",\"type\":\"Range1d\"},\"y_scale\":{\"id\":\"1011\",\"type\":\"LinearScale\"}},\"id\":\"1003\",\"subtype\":\"Figure\",\"type\":\"Plot\"},{\"attributes\":{\"source\":{\"id\":\"1039\",\"type\":\"ColumnDataSource\"}},\"id\":\"1043\",\"type\":\"CDSView\"},{\"attributes\":{\"active_drag\":\"auto\",\"active_inspect\":\"auto\",\"active_multi\":null,\"active_scroll\":\"auto\",\"active_tap\":\"auto\",\"tools\":[{\"id\":\"1023\",\"type\":\"PanTool\"},{\"id\":\"1024\",\"type\":\"WheelZoomTool\"},{\"id\":\"1025\",\"type\":\"ResetTool\"},{\"id\":\"1026\",\"type\":\"SaveTool\"},{\"id\":\"1027\",\"type\":\"CrosshairTool\"}]},\"id\":\"1028\",\"type\":\"Toolbar\"},{\"attributes\":{\"data_source\":{\"id\":\"1034\",\"type\":\"ColumnDataSource\"},\"glyph\":{\"id\":\"1035\",\"type\":\"Square\"},\"hover_glyph\":null,\"muted_glyph\":null,\"nonselection_glyph\":{\"id\":\"1036\",\"type\":\"Square\"},\"selection_glyph\":null,\"view\":{\"id\":\"1038\",\"type\":\"CDSView\"}},\"id\":\"1037\",\"type\":\"GlyphRenderer\"},{\"attributes\":{},\"id\":\"1047\",\"type\":\"BasicTickFormatter\"},{\"attributes\":{\"callback\":null,\"data\":{\"x\":[0,1,2,3,4,5,6,7,8,9,10,11,12,13,14,15,16,17,18,19,20,21,22,23,24,25,26,27,28,29,30,31,32,33,34,35,36,37,38,39,40,41,42,43,44,45,46,47,48,49],\"y\":{\"__ndarray__\":\"AAAAAAAAEkCZmZmZmZkVQOtRuB6F6xlAs8h2vp8aH0DS3uALk6kiQC7YDdsWZSZA0WndBrXfKkCxch4E0x8wQAfwip5jWTNAormmJBE4N0BbeC5f4dw7QAMVT2y6t0BAnn/4gawPREDwZV0CzxJIQB9Ho89e40xAE5H74jhVUUAWrvqpqsxUQIBqxpiZ9VhANOa6HYXzXUAfitYRg/hhQCUMm0idkGVAYNuGvbzgaUA/B9VJrw1vQFgEs5LPoXJAajg948VbdkBM3a8Qh9R6QC3rz9YdGYBAak3GAVdRg0AYkIdoaC6HQE8TCRdK0YtAyT7SDcawkEDy5JUQVAeUQO5FGkfLCJhAULpSVVrXnEDKb/7/Ak6hQFi5l5kDxKRAA3gchTfrqEAEkIhsD+etQM+8HkEJ8bFA+EiLtKSHtUBdJKfY+NW5QG/4LjfEAL9A3GFPVA+awkBudZLLeFLGQIQmFsFdycpAGxfac2sS0ECH6Di+TUnTQAgXEbHDJNdAPbVHobfF20Al0/eT1KngQA==\",\"dtype\":\"float64\",\"shape\":[50]}},\"selected\":{\"id\":\"1050\",\"type\":\"Selection\"},\"selection_policy\":{\"id\":\"1049\",\"type\":\"UnionRenderers\"}},\"id\":\"1034\",\"type\":\"ColumnDataSource\"},{\"attributes\":{},\"id\":\"1049\",\"type\":\"UnionRenderers\"},{\"attributes\":{},\"id\":\"1024\",\"type\":\"WheelZoomTool\"},{\"attributes\":{},\"id\":\"1050\",\"type\":\"Selection\"},{\"attributes\":{},\"id\":\"1025\",\"type\":\"ResetTool\"},{\"attributes\":{\"plot\":null,\"text\":\"Crescita malthusiana. Tasso di crescita 0.2  Concentrazione iniziale 4.5\"},\"id\":\"1002\",\"type\":\"Title\"},{\"attributes\":{},\"id\":\"1051\",\"type\":\"UnionRenderers\"},{\"attributes\":{},\"id\":\"1026\",\"type\":\"SaveTool\"},{\"attributes\":{\"callback\":null,\"end\":10,\"start\":-0.5},\"id\":\"1005\",\"type\":\"Range1d\"},{\"attributes\":{},\"id\":\"1052\",\"type\":\"Selection\"},{\"attributes\":{},\"id\":\"1027\",\"type\":\"CrosshairTool\"},{\"attributes\":{\"callback\":null,\"end\":27.86281390079999},\"id\":\"1007\",\"type\":\"Range1d\"},{\"attributes\":{},\"id\":\"1009\",\"type\":\"LinearScale\"},{\"attributes\":{},\"id\":\"1011\",\"type\":\"LinearScale\"},{\"attributes\":{\"fill_alpha\":{\"value\":0.1},\"fill_color\":{\"value\":\"#1f77b4\"},\"line_alpha\":{\"value\":0.1},\"line_color\":{\"value\":\"#1f77b4\"},\"x\":{\"field\":\"x\"},\"y\":{\"field\":\"y\"}},\"id\":\"1036\",\"type\":\"Square\"},{\"attributes\":{\"axis_label\":\"Tempo, in quarti d'ora\",\"formatter\":{\"id\":\"1045\",\"type\":\"BasicTickFormatter\"},\"plot\":{\"id\":\"1003\",\"subtype\":\"Figure\",\"type\":\"Plot\"},\"ticker\":{\"id\":\"1014\",\"type\":\"BasicTicker\"}},\"id\":\"1013\",\"type\":\"LinearAxis\"},{\"attributes\":{},\"id\":\"1014\",\"type\":\"BasicTicker\"},{\"attributes\":{\"plot\":{\"id\":\"1003\",\"subtype\":\"Figure\",\"type\":\"Plot\"},\"ticker\":{\"id\":\"1014\",\"type\":\"BasicTicker\"}},\"id\":\"1017\",\"type\":\"Grid\"},{\"attributes\":{\"source\":{\"id\":\"1034\",\"type\":\"ColumnDataSource\"}},\"id\":\"1038\",\"type\":\"CDSView\"},{\"attributes\":{\"axis_label\":\"Concentrazione\",\"formatter\":{\"id\":\"1047\",\"type\":\"BasicTickFormatter\"},\"plot\":{\"id\":\"1003\",\"subtype\":\"Figure\",\"type\":\"Plot\"},\"ticker\":{\"id\":\"1019\",\"type\":\"BasicTicker\"}},\"id\":\"1018\",\"type\":\"LinearAxis\"},{\"attributes\":{},\"id\":\"1045\",\"type\":\"BasicTickFormatter\"},{\"attributes\":{},\"id\":\"1019\",\"type\":\"BasicTicker\"},{\"attributes\":{\"line_color\":\"#119911\",\"x\":{\"field\":\"x\"},\"y\":{\"field\":\"y\"}},\"id\":\"1040\",\"type\":\"Line\"},{\"attributes\":{\"dimension\":1,\"plot\":{\"id\":\"1003\",\"subtype\":\"Figure\",\"type\":\"Plot\"},\"ticker\":{\"id\":\"1019\",\"type\":\"BasicTicker\"}},\"id\":\"1022\",\"type\":\"Grid\"},{\"attributes\":{\"line_alpha\":0.1,\"line_color\":\"#1f77b4\",\"x\":{\"field\":\"x\"},\"y\":{\"field\":\"y\"}},\"id\":\"1041\",\"type\":\"Line\"},{\"attributes\":{\"fill_color\":{\"value\":\"#119911\"},\"line_color\":{\"value\":\"#119911\"},\"x\":{\"field\":\"x\"},\"y\":{\"field\":\"y\"}},\"id\":\"1035\",\"type\":\"Square\"},{\"attributes\":{},\"id\":\"1023\",\"type\":\"PanTool\"},{\"attributes\":{\"data_source\":{\"id\":\"1039\",\"type\":\"ColumnDataSource\"},\"glyph\":{\"id\":\"1040\",\"type\":\"Line\"},\"hover_glyph\":null,\"muted_glyph\":null,\"nonselection_glyph\":{\"id\":\"1041\",\"type\":\"Line\"},\"selection_glyph\":null,\"view\":{\"id\":\"1043\",\"type\":\"CDSView\"}},\"id\":\"1042\",\"type\":\"GlyphRenderer\"},{\"attributes\":{\"callback\":null,\"data\":{\"x\":[0,1,2,3,4,5,6,7,8,9,10,11,12,13,14,15,16,17,18,19,20,21,22,23,24,25,26,27,28,29,30,31,32,33,34,35,36,37,38,39,40,41,42,43,44,45,46,47,48,49],\"y\":{\"__ndarray__\":\"AAAAAAAAEkCZmZmZmZkVQOtRuB6F6xlAs8h2vp8aH0DS3uALk6kiQC7YDdsWZSZA0WndBrXfKkCxch4E0x8wQAfwip5jWTNAormmJBE4N0BbeC5f4dw7QAMVT2y6t0BAnn/4gawPREDwZV0CzxJIQB9Ho89e40xAE5H74jhVUUAWrvqpqsxUQIBqxpiZ9VhANOa6HYXzXUAfitYRg/hhQCUMm0idkGVAYNuGvbzgaUA/B9VJrw1vQFgEs5LPoXJAajg948VbdkBM3a8Qh9R6QC3rz9YdGYBAak3GAVdRg0AYkIdoaC6HQE8TCRdK0YtAyT7SDcawkEDy5JUQVAeUQO5FGkfLCJhAULpSVVrXnEDKb/7/Ak6hQFi5l5kDxKRAA3gchTfrqEAEkIhsD+etQM+8HkEJ8bFA+EiLtKSHtUBdJKfY+NW5QG/4LjfEAL9A3GFPVA+awkBudZLLeFLGQIQmFsFdycpAGxfac2sS0ECH6Di+TUnTQAgXEbHDJNdAPbVHobfF20Al0/eT1KngQA==\",\"dtype\":\"float64\",\"shape\":[50]}},\"selected\":{\"id\":\"1052\",\"type\":\"Selection\"},\"selection_policy\":{\"id\":\"1051\",\"type\":\"UnionRenderers\"}},\"id\":\"1039\",\"type\":\"ColumnDataSource\"}],\"root_ids\":[\"1003\"]},\"title\":\"Bokeh Application\",\"version\":\"1.0.4\"}};\n",
       "  var render_items = [{\"docid\":\"6b825609-d94a-4df6-9088-25863579b9b3\",\"notebook_comms_target\":\"1107\",\"roots\":{\"1003\":\"75e2bdb8-173e-4759-9822-64e487f1d0e1\"}}];\n",
       "  root.Bokeh.embed.embed_items_notebook(docs_json, render_items);\n",
       "\n",
       "  }\n",
       "  if (root.Bokeh !== undefined) {\n",
       "    embed_document(root);\n",
       "  } else {\n",
       "    var attempts = 0;\n",
       "    var timer = setInterval(function(root) {\n",
       "      if (root.Bokeh !== undefined) {\n",
       "        embed_document(root);\n",
       "        clearInterval(timer);\n",
       "      }\n",
       "      attempts++;\n",
       "      if (attempts > 100) {\n",
       "        console.log(\"Bokeh: ERROR: Unable to run BokehJS code because BokehJS library is missing\");\n",
       "        clearInterval(timer);\n",
       "      }\n",
       "    }, 10, root)\n",
       "  }\n",
       "})(window);"
      ],
      "application/vnd.bokehjs_exec.v0+json": ""
     },
     "metadata": {
      "application/vnd.bokehjs_exec.v0+json": {
       "id": "1003"
      }
     },
     "output_type": "display_data"
    },
    {
     "data": {
      "application/vnd.jupyter.widget-view+json": {
       "model_id": "55c2ab56689f42deba159f7a664d6fee",
       "version_major": 2,
       "version_minor": 0
      },
      "text/plain": [
       "interactive(children=(FloatSlider(value=0.2, description='tasso di crescita', max=0.33, min=0.1, step=0.02, st…"
      ]
     },
     "metadata": {},
     "output_type": "display_data"
    }
   ],
   "source": [
    "def update1(r=0.2, d0=4.5): \n",
    "    p1.data_source.data['x'] = x\n",
    "    p1.data_source.data['y'] = d0 * (1+r)**x\n",
    "    push_notebook()\n",
    "\n",
    "show(plot1, notebook_handle=True)\n",
    "style = {'description_width': 'initial'}\n",
    "interact(update1,  \n",
    "         r  = FloatSlider(description=\"tasso di crescita\", \n",
    "                          min=.1, max=.33, step=.02, value=.2, style=style), \n",
    "         d0 = FloatSlider(description=\"concentrazione iniziale\", \n",
    "                          min=1, max=9, step=.5, value=4.5, style=style)\n",
    "        );"
   ]
  },
  {
   "cell_type": "markdown",
   "metadata": {},
   "source": [
    "# Crescita malthusiana: soluzione generale\n",
    "\n",
    "$r$ tasso di crescita\n",
    "\n",
    "$a=1+r$ fattore di crescita\n",
    "\n",
    "$d_{n+1}=a\\cdot d_n$ si chiama <mark>equazione ricorsiva</mark> (omogenea del prim'ordine) o anche *equazione di ricorrenza* o *equazione alle differenze*.\n",
    "\n",
    "$d_n=C\\cdot a^n$ è la <mark>soluzione generale</mark>, ovvero una famiglia di soluzioni, una per ogni $C\\in\\mathbb R$.\n",
    "\n",
    "Da un qualsiasi valore di $d_n$ possiamo calcorare $C$ e trovare una <mark>soluzione particolare</mark>. \n",
    "\n",
    "Per esempio, se $d_9=24.5$ allora $24.5=C\\cdot a^9$, quindi $C=24.5\\cdot a^{-9}$.\n",
    "\n",
    "Per esempio, se $d_0=4.5$ allora $4.5=C\\cdot a^0=C$."
   ]
  },
  {
   "cell_type": "markdown",
   "metadata": {},
   "source": [
    "# Crescita malthusiana + pesca/raccolto\n",
    "\n",
    "Una certa popolazione di pesci, in assenza di limiti ambiantali, ha una crescita annuale annuale netta (nacite $-$ morti) del $20\\%$. Ogni hanno viene pescato un fissato numero di individui. \n",
    "\n",
    "\n",
    "Scriviamo l'equazione che descrive l'evoluzione della popolazione.\n",
    "\n",
    "$a\\ =\\ 1+0.2\\ =\\ 1.2\\ $ fattore di crescita\n",
    "\n",
    "$b\\ = $ numero degli individui aggiunti (quindi $b<0$, se stiamo pescando)\n",
    "\n",
    "$d_1\\ =\\ a\\, d_0 + b$\n",
    "\n",
    "$d_2\\ =\\ a\\, d_1 +b\\  =\\ a\\, (a\\, d_0 +b) +b\\ =\\ a^2 d_0+ (1+a)\\,b$\n",
    "\n",
    "$d_3\\ =\\ a\\, d_2 +b\\ =\\ a\\, \\big(a^2 d_0 +(1+a)\\,b\\big) +b\\ =\\ a^3\\, d_0 + (1+a+a^2)\\,b $\n",
    "\n",
    "ecc., ecc., in generale scriveremo\n",
    "\n",
    "$d_{n+1}\\ =\\ a\\, d_n +b $ si chiama equazione ricorsiva <mark>non omogenea</mark>. Diremo che $b$ è il termine <mark>non omogeneo</mark>.\n",
    "\n",
    "$d_n=C\\, a^n+\\dfrac{b}{1-a} $ è la <mark>soluzione generale</mark>, ovvero una famiglia di soluzioni, una per ogni $C\\in\\mathbb R$.\n",
    "\n",
    "Da un qualsiasi valore di $d_n$ possiamo calcorare $C$ e trovare una <mark>soluzione particolare</mark>. \n",
    "\n",
    "Per esempio, se $d_9=245$ allora $245=C\\, a^9 -\\dfrac{b}{1-a}$, quindi $C=\\Big(245+\\dfrac{b}{1-a}\\Big)\\, a^{-9}$.\n",
    "\n",
    "Per esempio, se $d_0=45$ allora $45=C\\, a^0-\\dfrac{b}{1-a}$, quindi $C=45+\\dfrac{b}{1-a}$."
   ]
  },
  {
   "cell_type": "code",
   "execution_count": 8,
   "metadata": {},
   "outputs": [
    {
     "data": {
      "text/html": [
       "\n",
       "\n",
       "\n",
       "\n",
       "\n",
       "\n",
       "  <div class=\"bk-root\" id=\"4e463019-522e-49b0-a370-fdcb433dd6b4\" data-root-id=\"1407\"></div>\n"
      ]
     },
     "metadata": {},
     "output_type": "display_data"
    },
    {
     "data": {
      "application/javascript": [
       "(function(root) {\n",
       "  function embed_document(root) {\n",
       "    \n",
       "  var docs_json = {\"045479cb-6367-44bf-afbd-94d39cbadcc0\":{\"roots\":{\"references\":[{\"attributes\":{\"below\":[{\"id\":\"1417\",\"type\":\"LinearAxis\"}],\"left\":[{\"id\":\"1422\",\"type\":\"LinearAxis\"}],\"plot_height\":300,\"renderers\":[{\"id\":\"1417\",\"type\":\"LinearAxis\"},{\"id\":\"1421\",\"type\":\"Grid\"},{\"id\":\"1422\",\"type\":\"LinearAxis\"},{\"id\":\"1426\",\"type\":\"Grid\"},{\"id\":\"1441\",\"type\":\"GlyphRenderer\"},{\"id\":\"1446\",\"type\":\"GlyphRenderer\"}],\"title\":{\"id\":\"1406\",\"type\":\"Title\"},\"toolbar\":{\"id\":\"1432\",\"type\":\"Toolbar\"},\"x_range\":{\"id\":\"1409\",\"type\":\"Range1d\"},\"x_scale\":{\"id\":\"1413\",\"type\":\"LinearScale\"},\"y_range\":{\"id\":\"1411\",\"type\":\"Range1d\"},\"y_scale\":{\"id\":\"1415\",\"type\":\"LinearScale\"}},\"id\":\"1407\",\"subtype\":\"Figure\",\"type\":\"Plot\"},{\"attributes\":{},\"id\":\"1413\",\"type\":\"LinearScale\"},{\"attributes\":{},\"id\":\"1418\",\"type\":\"BasicTicker\"},{\"attributes\":{},\"id\":\"1476\",\"type\":\"BasicTickFormatter\"},{\"attributes\":{\"axis_label\":\"Tempo, in anni\",\"formatter\":{\"id\":\"1476\",\"type\":\"BasicTickFormatter\"},\"plot\":{\"id\":\"1407\",\"subtype\":\"Figure\",\"type\":\"Plot\"},\"ticker\":{\"id\":\"1418\",\"type\":\"BasicTicker\"}},\"id\":\"1417\",\"type\":\"LinearAxis\"},{\"attributes\":{\"plot\":{\"id\":\"1407\",\"subtype\":\"Figure\",\"type\":\"Plot\"},\"ticker\":{\"id\":\"1418\",\"type\":\"BasicTicker\"}},\"id\":\"1421\",\"type\":\"Grid\"},{\"attributes\":{\"data_source\":{\"id\":\"1438\",\"type\":\"ColumnDataSource\"},\"glyph\":{\"id\":\"1439\",\"type\":\"Square\"},\"hover_glyph\":null,\"muted_glyph\":null,\"nonselection_glyph\":{\"id\":\"1440\",\"type\":\"Square\"},\"selection_glyph\":null,\"view\":{\"id\":\"1442\",\"type\":\"CDSView\"}},\"id\":\"1441\",\"type\":\"GlyphRenderer\"},{\"attributes\":{},\"id\":\"1415\",\"type\":\"LinearScale\"},{\"attributes\":{},\"id\":\"1478\",\"type\":\"BasicTickFormatter\"},{\"attributes\":{\"callback\":null,\"end\":10,\"start\":-0.5},\"id\":\"1409\",\"type\":\"Range1d\"},{\"attributes\":{\"line_color\":\"#119911\",\"x\":{\"field\":\"x\"},\"y\":{\"field\":\"y\"}},\"id\":\"1444\",\"type\":\"Line\"},{\"attributes\":{\"axis_label\":\"Numero di individui\",\"formatter\":{\"id\":\"1478\",\"type\":\"BasicTickFormatter\"},\"plot\":{\"id\":\"1407\",\"subtype\":\"Figure\",\"type\":\"Plot\"},\"ticker\":{\"id\":\"1423\",\"type\":\"BasicTicker\"}},\"id\":\"1422\",\"type\":\"LinearAxis\"},{\"attributes\":{},\"id\":\"1480\",\"type\":\"UnionRenderers\"},{\"attributes\":{},\"id\":\"1429\",\"type\":\"ResetTool\"},{\"attributes\":{},\"id\":\"1423\",\"type\":\"BasicTicker\"},{\"attributes\":{},\"id\":\"1481\",\"type\":\"Selection\"},{\"attributes\":{\"dimension\":1,\"plot\":{\"id\":\"1407\",\"subtype\":\"Figure\",\"type\":\"Plot\"},\"ticker\":{\"id\":\"1423\",\"type\":\"BasicTicker\"}},\"id\":\"1426\",\"type\":\"Grid\"},{\"attributes\":{},\"id\":\"1482\",\"type\":\"UnionRenderers\"},{\"attributes\":{},\"id\":\"1483\",\"type\":\"Selection\"},{\"attributes\":{\"fill_color\":{\"value\":\"#119911\"},\"line_color\":{\"value\":\"#119911\"},\"x\":{\"field\":\"x\"},\"y\":{\"field\":\"y\"}},\"id\":\"1439\",\"type\":\"Square\"},{\"attributes\":{\"callback\":null,\"data\":{\"x\":[0,1,2,3,4,5,6,7,8,9,10,11,12,13,14,15,16,17,18,19,20,21,22,23,24,25,26,27,28,29,30,31,32,33,34,35,36,37,38,39,40,41,42,43,44,45,46,47,48,49],\"y\":{\"__ndarray__\":\"AAAAAACARkAAAAAAAABLQDMzMzMzM1BAcD0K16NwU0CHFtnO91NXQDpO0ZFc/ltAI2JKJNHLYEBdDybFxydkQAisLYa8L2hACmjQbRUGbUA5C33bDGpxQETaYgep5XRAhZ92opcTeUBsv/TCghd+QHQMxkEbDoJAV3W6G4eqhUCcWXlU1f+JQCEF+P7/Mo9A4c+UMjO4kkCnLEzWo3aWQC7PwZrE9JpAHEl09nUsoECIJCWOjWijQG7FX3dDSqdAhYYMXLfyq0BQ6m1q1MSwQPnlg0xlH7RAxOA3wqwluEAedKmCAvq8QBKsZU7OYsFAfM5GkffcxEAuXrsUKQnJQGrX4Bj+Cs5AcrRTdZgG0kC8C/6/g6HVQK+n/X8E9dlABJZjZgUm30ACWtWjabDiQANsZpFLbeZANhuu4Y3p6kC6dmiHuyXwQEVbfaJ6YPNAUzpjKZNA90DJEnf+Fuf7QBLYrZjavQBB4pzQUAYXBEGpIsctoRsIQcpcVZ307QxBRtHMxJJbEUHux/W4SdQUQQ==\",\"dtype\":\"float64\",\"shape\":[50]}},\"selected\":{\"id\":\"1483\",\"type\":\"Selection\"},\"selection_policy\":{\"id\":\"1482\",\"type\":\"UnionRenderers\"}},\"id\":\"1443\",\"type\":\"ColumnDataSource\"},{\"attributes\":{\"fill_alpha\":{\"value\":0.1},\"fill_color\":{\"value\":\"#1f77b4\"},\"line_alpha\":{\"value\":0.1},\"line_color\":{\"value\":\"#1f77b4\"},\"x\":{\"field\":\"x\"},\"y\":{\"field\":\"y\"}},\"id\":\"1440\",\"type\":\"Square\"},{\"attributes\":{\"source\":{\"id\":\"1443\",\"type\":\"ColumnDataSource\"}},\"id\":\"1447\",\"type\":\"CDSView\"},{\"attributes\":{},\"id\":\"1427\",\"type\":\"PanTool\"},{\"attributes\":{},\"id\":\"1428\",\"type\":\"WheelZoomTool\"},{\"attributes\":{},\"id\":\"1430\",\"type\":\"SaveTool\"},{\"attributes\":{\"active_drag\":\"auto\",\"active_inspect\":\"auto\",\"active_multi\":null,\"active_scroll\":\"auto\",\"active_tap\":\"auto\",\"tools\":[{\"id\":\"1427\",\"type\":\"PanTool\"},{\"id\":\"1428\",\"type\":\"WheelZoomTool\"},{\"id\":\"1429\",\"type\":\"ResetTool\"},{\"id\":\"1430\",\"type\":\"SaveTool\"},{\"id\":\"1431\",\"type\":\"CrosshairTool\"}]},\"id\":\"1432\",\"type\":\"Toolbar\"},{\"attributes\":{\"callback\":null,\"end\":278.6281390079999},\"id\":\"1411\",\"type\":\"Range1d\"},{\"attributes\":{\"callback\":null,\"data\":{\"x\":[0,1,2,3,4,5,6,7,8,9,10,11,12,13,14,15,16,17,18,19,20,21,22,23,24,25,26,27,28,29,30,31,32,33,34,35,36,37,38,39,40,41,42,43,44,45,46,47,48,49],\"y\":{\"__ndarray__\":\"AAAAAACARkAAAAAAAABLQDMzMzMzM1BAcD0K16NwU0CHFtnO91NXQDpO0ZFc/ltAI2JKJNHLYEBdDybFxydkQAisLYa8L2hACmjQbRUGbUA5C33bDGpxQETaYgep5XRAhZ92opcTeUBsv/TCghd+QHQMxkEbDoJAV3W6G4eqhUCcWXlU1f+JQCEF+P7/Mo9A4c+UMjO4kkCnLEzWo3aWQC7PwZrE9JpAHEl09nUsoECIJCWOjWijQG7FX3dDSqdAhYYMXLfyq0BQ6m1q1MSwQPnlg0xlH7RAxOA3wqwluEAedKmCAvq8QBKsZU7OYsFAfM5GkffcxEAuXrsUKQnJQGrX4Bj+Cs5AcrRTdZgG0kC8C/6/g6HVQK+n/X8E9dlABJZjZgUm30ACWtWjabDiQANsZpFLbeZANhuu4Y3p6kC6dmiHuyXwQEVbfaJ6YPNAUzpjKZNA90DJEnf+Fuf7QBLYrZjavQBB4pzQUAYXBEGpIsctoRsIQcpcVZ307QxBRtHMxJJbEUHux/W4SdQUQQ==\",\"dtype\":\"float64\",\"shape\":[50]}},\"selected\":{\"id\":\"1481\",\"type\":\"Selection\"},\"selection_policy\":{\"id\":\"1480\",\"type\":\"UnionRenderers\"}},\"id\":\"1438\",\"type\":\"ColumnDataSource\"},{\"attributes\":{\"source\":{\"id\":\"1438\",\"type\":\"ColumnDataSource\"}},\"id\":\"1442\",\"type\":\"CDSView\"},{\"attributes\":{\"line_alpha\":0.1,\"line_color\":\"#1f77b4\",\"x\":{\"field\":\"x\"},\"y\":{\"field\":\"y\"}},\"id\":\"1445\",\"type\":\"Line\"},{\"attributes\":{\"plot\":null,\"text\":\"Tasso di crescita 0.2, popolazione iniziale 45, pesca b\"},\"id\":\"1406\",\"type\":\"Title\"},{\"attributes\":{},\"id\":\"1431\",\"type\":\"CrosshairTool\"},{\"attributes\":{\"data_source\":{\"id\":\"1443\",\"type\":\"ColumnDataSource\"},\"glyph\":{\"id\":\"1444\",\"type\":\"Line\"},\"hover_glyph\":null,\"muted_glyph\":null,\"nonselection_glyph\":{\"id\":\"1445\",\"type\":\"Line\"},\"selection_glyph\":null,\"view\":{\"id\":\"1447\",\"type\":\"CDSView\"}},\"id\":\"1446\",\"type\":\"GlyphRenderer\"}],\"root_ids\":[\"1407\"]},\"title\":\"Bokeh Application\",\"version\":\"1.0.4\"}};\n",
       "  var render_items = [{\"docid\":\"045479cb-6367-44bf-afbd-94d39cbadcc0\",\"notebook_comms_target\":\"1484\",\"roots\":{\"1407\":\"4e463019-522e-49b0-a370-fdcb433dd6b4\"}}];\n",
       "  root.Bokeh.embed.embed_items_notebook(docs_json, render_items);\n",
       "\n",
       "  }\n",
       "  if (root.Bokeh !== undefined) {\n",
       "    embed_document(root);\n",
       "  } else {\n",
       "    var attempts = 0;\n",
       "    var timer = setInterval(function(root) {\n",
       "      if (root.Bokeh !== undefined) {\n",
       "        embed_document(root);\n",
       "        clearInterval(timer);\n",
       "      }\n",
       "      attempts++;\n",
       "      if (attempts > 100) {\n",
       "        console.log(\"Bokeh: ERROR: Unable to run BokehJS code because BokehJS library is missing\");\n",
       "        clearInterval(timer);\n",
       "      }\n",
       "    }, 10, root)\n",
       "  }\n",
       "})(window);"
      ],
      "application/vnd.bokehjs_exec.v0+json": ""
     },
     "metadata": {
      "application/vnd.bokehjs_exec.v0+json": {
       "id": "1407"
      }
     },
     "output_type": "display_data"
    },
    {
     "data": {
      "application/vnd.jupyter.widget-view+json": {
       "model_id": "1579b98d054f4709870270be333dbcb1",
       "version_major": 2,
       "version_minor": 0
      },
      "text/plain": [
       "interactive(children=(FloatSlider(value=0.0, description='b', max=10.0, min=-12.0, step=1.0, style=SliderStyle…"
      ]
     },
     "metadata": {},
     "output_type": "display_data"
    }
   ],
   "source": [
    "n_max = 50                      # numero massimo di iterazioni che calcolo\n",
    "r = 0.2                         # tasso di crescita\n",
    "b = 0                           # pesca/raccolto \n",
    "d0 = 45                         # concentrazione iniziale\n",
    "x = arange(n_max)               # array di tempi\n",
    "y = (d0+b/r) * (1+r)**x - b/r   # array di concentrazioni\n",
    "\n",
    "plot2 = figure(title=f\"Tasso di crescita {r}, popolazione iniziale {d0}, pesca b\", \n",
    "               x_axis_label = \"Tempo, in anni\",\n",
    "               y_axis_label = \"Numero di individui\",\n",
    "               x_range=(-0.5,   10  ),       # range da visualizzare inizialmente\n",
    "               y_range=( 0.0, y[10] ),       # range da visualizzare inizialmente \n",
    "               **options,\n",
    "              )\n",
    "p2 = plot2.square(x, y, color='#119911')\n",
    "p2 = plot2.line(x, y, color='#119911')\n",
    "def update2(b=0): \n",
    "    p2.data_source.data['x'] = x\n",
    "    p2.data_source.data['y'] =  (d0+b/r) * (1+r)**x - b/r \n",
    "    push_notebook()\n",
    "\n",
    "show(plot2, notebook_handle=True)\n",
    "style = {'description_width': 'initial'}\n",
    "interact(update2,  \n",
    "         b  = FloatSlider(description=\"b\", min=-12, max=10, step=1, value=0, style=style),\n",
    "         );"
   ]
  },
  {
   "cell_type": "markdown",
   "metadata": {},
   "source": [
    "# Mutuo bancario (1)\n",
    "\n",
    "Prendiamo a prestito dalla banca $200\\,$k€ con un tannuo annuo fisso del $3\\%$. Ogni anno restituiamo alla banca $10\\,$k€. (Per precisione: all'anno $0$ il nostro debito è $200\\,$k€ e all'anno $1$ sarà: $200$k€ $+$interessi $-10\\,$k€, ecc.)\n",
    "\n",
    "A quanto ammonterà il debito dopo 10 anni? (Ovvero, al decimo anno subito dopo aver pagato i $10\\,$k€ pattuiti.)"
   ]
  },
  {
   "cell_type": "markdown",
   "metadata": {},
   "source": [
    "### Soluzione\n",
    "\n",
    "Scriviamo l'equazione che descrive l'evoluzione del debito.\n",
    "\n",
    "$a\\ =\\ 1+0.03\\ =\\ 1.03\\ $ fattore di crescita\n",
    "\n",
    "$b\\ = - 10$ \n",
    "\n",
    "$d_0 = 200$ debito all'anno zero\n",
    "\n",
    "$d_{n+1}\\ =\\ a\\, d_n +b $ equazione ricorsiva per il debito all'anno $n$.\n",
    "\n",
    "Soluzione generale dell'equazione ricorsiva \n",
    "\n",
    "$d_n=C\\, a^n+\\dfrac{b}{1-a} $ una per qualsiasi $C\\in\\mathbb R$.\n",
    "\n",
    "Usando la condizione $d_0=200$ troviamo.\n",
    "\n",
    "$C\\ =\\ 200 - \\dfrac{b}{1-a}\\ =\\ 200 - \\dfrac{10}{0.03} = -133$\n",
    "\n",
    "    Il calcolo numerico nella cella sottostante"
   ]
  },
  {
   "cell_type": "code",
   "execution_count": 5,
   "metadata": {},
   "outputs": [
    {
     "data": {
      "text/plain": [
       "154.14448275411715"
      ]
     },
     "execution_count": 5,
     "metadata": {},
     "output_type": "execute_result"
    }
   ],
   "source": [
    "a = 1.03\n",
    "b = -10\n",
    "d0 = 200\n",
    "n = 10\n",
    "C = d0 - b/(1-a)\n",
    "C * a**n + b/(1-a)"
   ]
  },
  {
   "cell_type": "markdown",
   "metadata": {},
   "source": [
    "# Mutuo bancario (2)\n",
    "\n",
    "Quanto dovreno pagare all'anno per estinguere il debito alla decima rata?"
   ]
  },
  {
   "cell_type": "markdown",
   "metadata": {},
   "source": [
    "### Soluzione\n",
    "\n",
    "Dobbiamo porre $d_0=200$ e $d_{10}=0$. Ora $b$ è incognito. La costante $C$ dobbiamo calcolarla in funzione di $b$.\n",
    "\n",
    "$C\\ =\\ 200 + \\dfrac{b}{0.03}$\n",
    "\n",
    "l'equazione diventa \n",
    "\n",
    "$d_n=\\bigg(200 + \\dfrac{b}{0.03}\\bigg)\\, 1.03^n-\\dfrac{b}{0.03}$\n",
    "\n",
    "quindi\n",
    "\n",
    "$d_{10}\\ =\\ \\bigg(200 + \\dfrac{b}{0.03}\\bigg)\\, 1.03^{10}-\\dfrac{b}{0.03}$\n",
    "\n",
    "$b\\ =\\ 0.03\\cdot \\dfrac{200\\cdot 1.03^{10}}{1+ 1.03^{10}}$\n"
   ]
  },
  {
   "cell_type": "code",
   "execution_count": 6,
   "metadata": {},
   "outputs": [
    {
     "data": {
      "text/plain": [
       "-23.44610132103192"
      ]
     },
     "execution_count": 6,
     "metadata": {},
     "output_type": "execute_result"
    }
   ],
   "source": [
    "(a-1) * ( d0 * a**10 ) / ( 1 -  a**10 )"
   ]
  },
  {
   "cell_type": "markdown",
   "metadata": {},
   "source": [
    "La risposta è quindi $23\\,446.10$€ all'anno."
   ]
  },
  {
   "cell_type": "markdown",
   "metadata": {},
   "source": [
    "<!--# Mutuo bancario (3)\n",
    "\n",
    "Sempre lo stesso mutuo, da estinguere in 10 anni. Vorremmo però pagare al mese. La cifra da pagare sarà *minore* di un dodicesimo di $23\\,446.10$€.\n",
    "\n",
    "Dovremo calcolarci l'interesse mensile.\n",
    "\n",
    "Sia $c_n$ il debito calcolato al mese numero $m$. Quindi $c_{12n}=d_{n}$.\n",
    "\n",
    "L'equazione ricorsiva è la stessa, chiamiamo  \n",
    "\n",
    "$c_{n+1}\\ =\\ a'\\, c_n +b'$ equazione ricorsiva per il debito al mese $n$.\n",
    "\n",
    "Non conosciamo né $a'$ né $b'$, sappiamo però che $c_{0}=200$ quindi \n",
    "\n",
    "$c_n=C\\, {a'}^n+\\dfrac{b'}{1-a'}$\n",
    "\n",
    "\n",
    "\n",
    "-->"
   ]
  },
  {
   "cell_type": "markdown",
   "metadata": {},
   "source": [
    "# Concentrazione farmaco  (1)\n",
    "\n",
    "La concentrazione di un farmaco nel sangue dopo $12$ ore è il $60\\%$ della concentrazione iniziale. Somministrando $2$ unità ogni 12 ore e partendo da una conventrazione $0$ qual'è la concentrazione massima del farmaco? Quale la concentrazione minima a regime?"
   ]
  },
  {
   "cell_type": "markdown",
   "metadata": {},
   "source": [
    "## Soluzione\n",
    "\n",
    "Fissiamo 12 ore come nostra unità di tempo.\n",
    "\n",
    "$a\\ =\\ 0.6\\ =\\ 1.03\\ $ fattore di (de)crescita\n",
    "\n",
    "$b\\ = 3$ \n",
    "\n",
    "$d_0 = 0$ concentrazione iniziale\n",
    "\n",
    "$d_{n+1}\\ =\\ a\\, d_n +b $ equazione ricorsiva per la concentrazione nel sangue.\n",
    "\n",
    "Soluzione generale dell'equazione ricorsiva \n",
    "\n",
    "$d_n=C\\, a^n+\\dfrac{b}{1-a}$ una per qualsiasi $C\\in\\mathbb R$.\n",
    "\n",
    "Poiché $a<1$ qualsiasi sia $C$ dopo qualche giorno il primo termine è $\\cong0$.\n",
    "\n",
    "Quindi la concentrazione massima a regime sarà $\\dfrac{b}{1-a}$.\n",
    "\n",
    "Quella minima (a regime) sarà quella massima $-b$, equivalentemente, anche quella massima per $a$.\n",
    "\n",
    "Ovvero la concentrazione minima a regime è $\\dfrac{ab}{1-a}$."
   ]
  },
  {
   "cell_type": "code",
   "execution_count": 7,
   "metadata": {},
   "outputs": [
    {
     "data": {
      "text/html": [
       "\n",
       "\n",
       "\n",
       "\n",
       "\n",
       "\n",
       "  <div class=\"bk-root\" id=\"51618205-564d-4e4e-94bd-629e1a9f8b5a\" data-root-id=\"1282\"></div>\n"
      ]
     },
     "metadata": {},
     "output_type": "display_data"
    },
    {
     "data": {
      "application/javascript": [
       "(function(root) {\n",
       "  function embed_document(root) {\n",
       "    \n",
       "  var docs_json = {\"66f709e3-74a9-430d-9edb-7f3c6badd5f4\":{\"roots\":{\"references\":[{\"attributes\":{\"below\":[{\"id\":\"1292\",\"type\":\"LinearAxis\"}],\"left\":[{\"id\":\"1297\",\"type\":\"LinearAxis\"}],\"plot_height\":300,\"renderers\":[{\"id\":\"1292\",\"type\":\"LinearAxis\"},{\"id\":\"1296\",\"type\":\"Grid\"},{\"id\":\"1297\",\"type\":\"LinearAxis\"},{\"id\":\"1301\",\"type\":\"Grid\"},{\"id\":\"1316\",\"type\":\"GlyphRenderer\"},{\"id\":\"1321\",\"type\":\"GlyphRenderer\"}],\"title\":{\"id\":\"1281\",\"type\":\"Title\"},\"toolbar\":{\"id\":\"1307\",\"type\":\"Toolbar\"},\"x_range\":{\"id\":\"1284\",\"type\":\"Range1d\"},\"x_scale\":{\"id\":\"1288\",\"type\":\"LinearScale\"},\"y_range\":{\"id\":\"1286\",\"type\":\"Range1d\"},\"y_scale\":{\"id\":\"1290\",\"type\":\"LinearScale\"}},\"id\":\"1282\",\"subtype\":\"Figure\",\"type\":\"Plot\"},{\"attributes\":{\"axis_label\":\"Tempo, in 12h\",\"formatter\":{\"id\":\"1342\",\"type\":\"BasicTickFormatter\"},\"plot\":{\"id\":\"1282\",\"subtype\":\"Figure\",\"type\":\"Plot\"},\"ticker\":{\"id\":\"1293\",\"type\":\"BasicTicker\"}},\"id\":\"1292\",\"type\":\"LinearAxis\"},{\"attributes\":{\"line_color\":\"#991111\",\"x\":{\"field\":\"x\"},\"y\":{\"field\":\"y\"}},\"id\":\"1319\",\"type\":\"Line\"},{\"attributes\":{},\"id\":\"1293\",\"type\":\"BasicTicker\"},{\"attributes\":{\"line_alpha\":0.1,\"line_color\":\"#1f77b4\",\"x\":{\"field\":\"x\"},\"y\":{\"field\":\"y\"}},\"id\":\"1320\",\"type\":\"Line\"},{\"attributes\":{\"plot\":{\"id\":\"1282\",\"subtype\":\"Figure\",\"type\":\"Plot\"},\"ticker\":{\"id\":\"1293\",\"type\":\"BasicTicker\"}},\"id\":\"1296\",\"type\":\"Grid\"},{\"attributes\":{\"data_source\":{\"id\":\"1318\",\"type\":\"ColumnDataSource\"},\"glyph\":{\"id\":\"1319\",\"type\":\"Line\"},\"hover_glyph\":null,\"muted_glyph\":null,\"nonselection_glyph\":{\"id\":\"1320\",\"type\":\"Line\"},\"selection_glyph\":null,\"view\":{\"id\":\"1322\",\"type\":\"CDSView\"}},\"id\":\"1321\",\"type\":\"GlyphRenderer\"},{\"attributes\":{\"axis_label\":\"Concentrazione farmaco\",\"formatter\":{\"id\":\"1344\",\"type\":\"BasicTickFormatter\"},\"plot\":{\"id\":\"1282\",\"subtype\":\"Figure\",\"type\":\"Plot\"},\"ticker\":{\"id\":\"1298\",\"type\":\"BasicTicker\"}},\"id\":\"1297\",\"type\":\"LinearAxis\"},{\"attributes\":{\"source\":{\"id\":\"1318\",\"type\":\"ColumnDataSource\"}},\"id\":\"1322\",\"type\":\"CDSView\"},{\"attributes\":{},\"id\":\"1298\",\"type\":\"BasicTicker\"},{\"attributes\":{},\"id\":\"1344\",\"type\":\"BasicTickFormatter\"},{\"attributes\":{\"dimension\":1,\"plot\":{\"id\":\"1282\",\"subtype\":\"Figure\",\"type\":\"Plot\"},\"ticker\":{\"id\":\"1298\",\"type\":\"BasicTicker\"}},\"id\":\"1301\",\"type\":\"Grid\"},{\"attributes\":{\"callback\":null,\"data\":{\"x\":[0,0,1,1,2,2,3,3,4,4,5,5,6,6,7,7,8,8,9,9,10,10,11,11,12,12,13,13,14,14,15,15,16,16,17,17,18,18,19,19,20,20,21,21,22,22,23,23,24,24,25,25,26,26,27,27,28,28,29,29,30,30,31,31,32,32,33,33,34,34,35,35,36,36,37,37,38,38,39,39,40,40,41,41,42,42,43,43,44,44,45,45,46,46,47,47,48,48,49,49],\"y\":[-2.0,0.0,0.0,2.0,1.2000000000000002,3.2,1.92,3.92,2.3520000000000003,4.352,2.6112,4.6112,2.7667200000000003,4.76672,2.8600320000000004,4.860032,2.9160192,4.9160192,2.9496115200000004,4.94961152,2.969766912,4.969766912,2.9818601472,4.9818601472,2.9891160883200003,4.98911608832,2.993469652992,4.993469652992,2.9960817917952003,4.9960817917952,2.9976490750771196,4.99764907507712,2.998589445046272,4.998589445046272,2.9991536670277634,4.999153667027763,2.9994922002166575,4.9994922002166575,2.9996953201299945,4.9996953201299945,2.9998171920779972,4.999817192077997,2.999890315246798,4.999890315246798,2.999934189148079,4.999934189148079,2.9999605134888476,4.999960513488848,2.9999763080933084,4.999976308093308,2.999985784855985,4.999985784855985,2.9999914709135913,4.999991470913591,2.9999948825481546,4.999994882548155,2.9999969295288924,4.999996929528892,2.999998157717336,4.999998157717336,2.9999988946304015,4.9999988946304015,2.9999993367782407,4.999999336778241,2.9999996020669446,4.999999602066945,2.9999997612401668,4.999999761240167,2.9999998567441004,4.9999998567441,2.9999999140464597,4.99999991404646,2.9999999484278757,4.999999948427876,2.9999999690567254,4.999999969056725,2.9999999814340352,4.999999981434035,2.999999988860421,4.999999988860421,2.999999993316253,4.999999993316253,2.999999995989752,4.999999995989752,2.999999997593851,4.999999997593851,2.9999999985563104,4.99999999855631,2.9999999991337862,4.999999999133786,2.9999999994802717,4.999999999480272,2.999999999688163,4.999999999688163,2.999999999812898,4.999999999812898,2.9999999998877387,4.999999999887739,2.999999999932643,4.999999999932643]},\"selected\":{\"id\":\"1347\",\"type\":\"Selection\"},\"selection_policy\":{\"id\":\"1346\",\"type\":\"UnionRenderers\"}},\"id\":\"1313\",\"type\":\"ColumnDataSource\"},{\"attributes\":{},\"id\":\"1346\",\"type\":\"UnionRenderers\"},{\"attributes\":{\"callback\":null,\"data\":{\"x\":[0,0,1,1,2,2,3,3,4,4,5,5,6,6,7,7,8,8,9,9,10,10,11,11,12,12,13,13,14,14,15,15,16,16,17,17,18,18,19,19,20,20,21,21,22,22,23,23,24,24,25,25,26,26,27,27,28,28,29,29,30,30,31,31,32,32,33,33,34,34,35,35,36,36,37,37,38,38,39,39,40,40,41,41,42,42,43,43,44,44,45,45,46,46,47,47,48,48,49,49],\"y\":[-2.0,0.0,0.0,2.0,1.2000000000000002,3.2,1.92,3.92,2.3520000000000003,4.352,2.6112,4.6112,2.7667200000000003,4.76672,2.8600320000000004,4.860032,2.9160192,4.9160192,2.9496115200000004,4.94961152,2.969766912,4.969766912,2.9818601472,4.9818601472,2.9891160883200003,4.98911608832,2.993469652992,4.993469652992,2.9960817917952003,4.9960817917952,2.9976490750771196,4.99764907507712,2.998589445046272,4.998589445046272,2.9991536670277634,4.999153667027763,2.9994922002166575,4.9994922002166575,2.9996953201299945,4.9996953201299945,2.9998171920779972,4.999817192077997,2.999890315246798,4.999890315246798,2.999934189148079,4.999934189148079,2.9999605134888476,4.999960513488848,2.9999763080933084,4.999976308093308,2.999985784855985,4.999985784855985,2.9999914709135913,4.999991470913591,2.9999948825481546,4.999994882548155,2.9999969295288924,4.999996929528892,2.999998157717336,4.999998157717336,2.9999988946304015,4.9999988946304015,2.9999993367782407,4.999999336778241,2.9999996020669446,4.999999602066945,2.9999997612401668,4.999999761240167,2.9999998567441004,4.9999998567441,2.9999999140464597,4.99999991404646,2.9999999484278757,4.999999948427876,2.9999999690567254,4.999999969056725,2.9999999814340352,4.999999981434035,2.999999988860421,4.999999988860421,2.999999993316253,4.999999993316253,2.999999995989752,4.999999995989752,2.999999997593851,4.999999997593851,2.9999999985563104,4.99999999855631,2.9999999991337862,4.999999999133786,2.9999999994802717,4.999999999480272,2.999999999688163,4.999999999688163,2.999999999812898,4.999999999812898,2.9999999998877387,4.999999999887739,2.999999999932643,4.999999999932643]},\"selected\":{\"id\":\"1349\",\"type\":\"Selection\"},\"selection_policy\":{\"id\":\"1348\",\"type\":\"UnionRenderers\"}},\"id\":\"1318\",\"type\":\"ColumnDataSource\"},{\"attributes\":{\"active_drag\":\"auto\",\"active_inspect\":\"auto\",\"active_multi\":null,\"active_scroll\":\"auto\",\"active_tap\":\"auto\",\"tools\":[{\"id\":\"1302\",\"type\":\"PanTool\"},{\"id\":\"1303\",\"type\":\"WheelZoomTool\"},{\"id\":\"1304\",\"type\":\"ResetTool\"},{\"id\":\"1305\",\"type\":\"SaveTool\"},{\"id\":\"1306\",\"type\":\"CrosshairTool\"}]},\"id\":\"1307\",\"type\":\"Toolbar\"},{\"attributes\":{},\"id\":\"1347\",\"type\":\"Selection\"},{\"attributes\":{},\"id\":\"1302\",\"type\":\"PanTool\"},{\"attributes\":{},\"id\":\"1348\",\"type\":\"UnionRenderers\"},{\"attributes\":{},\"id\":\"1303\",\"type\":\"WheelZoomTool\"},{\"attributes\":{},\"id\":\"1349\",\"type\":\"Selection\"},{\"attributes\":{},\"id\":\"1304\",\"type\":\"ResetTool\"},{\"attributes\":{},\"id\":\"1305\",\"type\":\"SaveTool\"},{\"attributes\":{},\"id\":\"1342\",\"type\":\"BasicTickFormatter\"},{\"attributes\":{},\"id\":\"1306\",\"type\":\"CrosshairTool\"},{\"attributes\":{\"fill_color\":{\"value\":\"#991111\"},\"line_color\":{\"value\":\"#991111\"},\"x\":{\"field\":\"x\"},\"y\":{\"field\":\"y\"}},\"id\":\"1314\",\"type\":\"Square\"},{\"attributes\":{\"plot\":null,\"text\":\"Concentrazione massima e minima, fattore di decrescita a, dose b\"},\"id\":\"1281\",\"type\":\"Title\"},{\"attributes\":{\"callback\":null,\"end\":10},\"id\":\"1284\",\"type\":\"Range1d\"},{\"attributes\":{\"fill_alpha\":{\"value\":0.1},\"fill_color\":{\"value\":\"#1f77b4\"},\"line_alpha\":{\"value\":0.1},\"line_color\":{\"value\":\"#1f77b4\"},\"x\":{\"field\":\"x\"},\"y\":{\"field\":\"y\"}},\"id\":\"1315\",\"type\":\"Square\"},{\"attributes\":{\"data_source\":{\"id\":\"1313\",\"type\":\"ColumnDataSource\"},\"glyph\":{\"id\":\"1314\",\"type\":\"Square\"},\"hover_glyph\":null,\"muted_glyph\":null,\"nonselection_glyph\":{\"id\":\"1315\",\"type\":\"Square\"},\"selection_glyph\":null,\"view\":{\"id\":\"1317\",\"type\":\"CDSView\"}},\"id\":\"1316\",\"type\":\"GlyphRenderer\"},{\"attributes\":{\"callback\":null,\"end\":6.94961152},\"id\":\"1286\",\"type\":\"Range1d\"},{\"attributes\":{\"source\":{\"id\":\"1313\",\"type\":\"ColumnDataSource\"}},\"id\":\"1317\",\"type\":\"CDSView\"},{\"attributes\":{},\"id\":\"1288\",\"type\":\"LinearScale\"},{\"attributes\":{},\"id\":\"1290\",\"type\":\"LinearScale\"}],\"root_ids\":[\"1282\"]},\"title\":\"Bokeh Application\",\"version\":\"1.0.4\"}};\n",
       "  var render_items = [{\"docid\":\"66f709e3-74a9-430d-9edb-7f3c6badd5f4\",\"notebook_comms_target\":\"1350\",\"roots\":{\"1282\":\"51618205-564d-4e4e-94bd-629e1a9f8b5a\"}}];\n",
       "  root.Bokeh.embed.embed_items_notebook(docs_json, render_items);\n",
       "\n",
       "  }\n",
       "  if (root.Bokeh !== undefined) {\n",
       "    embed_document(root);\n",
       "  } else {\n",
       "    var attempts = 0;\n",
       "    var timer = setInterval(function(root) {\n",
       "      if (root.Bokeh !== undefined) {\n",
       "        embed_document(root);\n",
       "        clearInterval(timer);\n",
       "      }\n",
       "      attempts++;\n",
       "      if (attempts > 100) {\n",
       "        console.log(\"Bokeh: ERROR: Unable to run BokehJS code because BokehJS library is missing\");\n",
       "        clearInterval(timer);\n",
       "      }\n",
       "    }, 10, root)\n",
       "  }\n",
       "})(window);"
      ],
      "application/vnd.bokehjs_exec.v0+json": ""
     },
     "metadata": {
      "application/vnd.bokehjs_exec.v0+json": {
       "id": "1282"
      }
     },
     "output_type": "display_data"
    },
    {
     "data": {
      "application/vnd.jupyter.widget-view+json": {
       "model_id": "27cdf0d29e164f458d43b0614b685bf8",
       "version_major": 2,
       "version_minor": 0
      },
      "text/plain": [
       "interactive(children=(FloatSlider(value=0.6, description='a', max=0.8, min=0.1, style=SliderStyle(description_…"
      ]
     },
     "metadata": {},
     "output_type": "display_data"
    }
   ],
   "source": [
    "n_max = 50                      # numero massimo di iterazioni che calcolo\n",
    "n_plt =10                       # numero massimo di iterazioni visibili\n",
    "a = 0.6                         # fattore di decrescita\n",
    "r = a-1                         # tasso di decrescita\n",
    "b = 2                           # pesca/raccolto \n",
    "d0 = 0                          # concentrazione iniziale\n",
    "x = arange(n_max)               # array di tempi\n",
    "y = (d0+b/r) * (1+r)**x - b/r   # array di concentrazioni\n",
    "\n",
    "plot3 = figure(title=f\"Concentrazione massima e minima, fattore di decrescita a, dose b\", \n",
    "               x_axis_label = \"Tempo, in 12h\",\n",
    "               y_axis_label = \"Concentrazione farmaco\",\n",
    "               x_range=( 0.0,   n_plt  ),       # range da visualizzare inizialmente\n",
    "               y_range=( 0.0, y[n_plt-1]+b ),   # range da visualizzare inizialmente \n",
    "               **options,\n",
    "              )\n",
    "q3 = plot3.square(sum( zip(x, x  ), () ), sum( zip(y-b, y), () ),   color='#991111')\n",
    "q3 = plot3.line(sum( zip(x, x  ), () ), sum( zip(y-b, y), () ),   color='#991111')\n",
    "def update2( a=a, b=b): \n",
    "    r = a -1\n",
    "    y = (d0+b/r) * (1+r)**x - b/r\n",
    "    y1 = [max(0,y[i]-b) for i in range(len(y))]\n",
    "    q3.data_source.data['x'] = sum( zip(x, x  ), () )\n",
    "    q3.data_source.data['y'] = sum( zip(y1, y), () )\n",
    "    push_notebook()\n",
    "\n",
    "show(plot3, notebook_handle=True)\n",
    "style = {'description_width': 'initial'}\n",
    "interact(update2,  \n",
    "         a  = FloatSlider(description=\"a\", min=.1, max=.8, step=.1, value=a, style=style),\n",
    "         b  = FloatSlider(description=\"b\", min= 0, max=4, step=1, value=b, style=style),\n",
    "         );"
   ]
  },
  {
   "cell_type": "code",
   "execution_count": null,
   "metadata": {},
   "outputs": [],
   "source": []
  }
 ],
 "metadata": {
  "kernelspec": {
   "display_name": "Python 3",
   "language": "python",
   "name": "python3"
  },
  "language_info": {
   "codemirror_mode": {
    "name": "ipython",
    "version": 3
   },
   "file_extension": ".py",
   "mimetype": "text/x-python",
   "name": "python",
   "nbconvert_exporter": "python",
   "pygments_lexer": "ipython3",
   "version": "3.6.5"
  }
 },
 "nbformat": 4,
 "nbformat_minor": 2
}
